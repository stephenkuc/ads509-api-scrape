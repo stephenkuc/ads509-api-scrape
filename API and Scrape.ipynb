{
 "cells": [
  {
   "cell_type": "markdown",
   "id": "95952cac",
   "metadata": {},
   "source": [
    "# ADS 509 Module 1: APIs and Web Scraping\n",
    "\n",
    "This notebook has three parts. In the first part you will pull data from the Twitter API. In the second, you will scrape lyrics from AZLyrics.com. In the last part, you'll run code that verifies the completeness of your data pull. \n",
    "\n",
    "For this assignment you have chosen two musical artists who have at least 100,000 Twitter followers and 20 songs with lyrics on AZLyrics.com. In this part of the assignment we pull the some of the user information for the followers of your artist and store them in text files. \n"
   ]
  },
  {
   "cell_type": "markdown",
   "id": "4ce62b2b",
   "metadata": {},
   "source": [
    "## Important Note\n",
    "\n",
    "This assignment requires you to have a version of Tweepy that is at least version 4. The latest version is 4.10 as I write this. Critically, this version of Tweepy is *not* on the upgrade path from Version 3, so you will not be able to simply upgrade the package if you are on Version 3. Instead you will need to explicitly install version 4, which you can do with a command like this: `pip install \"tweepy>=4\"`. You will also be using Version 2 of the Twitter API for this assignment. \n",
    "\n",
    "Run the below cell. If your version of Tweepy begins with a \"4\", then you should be good to go. If it begins with a \"3\" then run the following command, found [here](https://stackoverflow.com/questions/5226311/installing-specific-package-version-with-pip), at the command line or in a cell: `pip install -Iv tweepy==4.9`. (You may want to update that version number if Tweepy has moved on past 4.9. "
   ]
  },
  {
   "cell_type": "code",
   "execution_count": 1,
   "id": "23cf2158",
   "metadata": {},
   "outputs": [
    {
     "name": "stdout",
     "output_type": "stream",
     "text": [
      "Name: tweepy\n",
      "Version: 4.12.1\n",
      "Summary: Twitter library for Python\n",
      "Home-page: https://www.tweepy.org/\n",
      "Author: Joshua Roesslein\n",
      "Author-email: tweepy@googlegroups.com\n",
      "License: MIT\n",
      "Location: c:\\users\\steph\\miniconda3\\lib\\site-packages\n",
      "Requires: oauthlib, requests-oauthlib, requests\n",
      "Required-by: \n",
      "Note: you may need to restart the kernel to use updated packages.\n"
     ]
    }
   ],
   "source": [
    "pip show tweepy"
   ]
  },
  {
   "cell_type": "markdown",
   "id": "069b7ae8",
   "metadata": {},
   "source": [
    "## General Assignment Instructions\n",
    "\n",
    "These instructions are included in every assignment, to remind you of the coding standards for the class. Feel free to delete this cell after reading it. \n",
    "\n",
    "One sign of mature code is conforming to a style guide. We recommend the [Google Python Style Guide](https://google.github.io/styleguide/pyguide.html). If you use a different style guide, please include a cell with a link. \n",
    "\n",
    "Your code should be relatively easy-to-read, sensibly commented, and clean. Writing code is a messy process, so please be sure to edit your final submission. Remove any cells that are not needed or parts of cells that contain unnecessary code. Remove inessential `import` statements and make sure that all such statements are moved into the designated cell. \n",
    "\n",
    "Make use of non-code cells for written commentary. These cells should be grammatical and clearly written. In some of these cells you will have questions to answer. The questions will be marked by a \"Q:\" and will have a corresponding \"A:\" spot for you. *Make sure to answer every question marked with a `Q:` for full credit.* \n"
   ]
  },
  {
   "cell_type": "markdown",
   "id": "91c8969e",
   "metadata": {},
   "source": [
    "# Twitter API Pull"
   ]
  },
  {
   "cell_type": "code",
   "execution_count": 20,
   "id": "185076b0",
   "metadata": {},
   "outputs": [],
   "source": [
    "# for the twitter section\n",
    "import tweepy\n",
    "import os\n",
    "import datetime\n",
    "import re\n",
    "from pprint import pprint\n",
    "\n",
    "# for the lyrics scrape section\n",
    "import requests\n",
    "import time\n",
    "from bs4 import BeautifulSoup\n",
    "from collections import defaultdict, Counter"
   ]
  },
  {
   "cell_type": "code",
   "execution_count": 3,
   "id": "a47e2d5f",
   "metadata": {},
   "outputs": [],
   "source": [
    "# Use this cell for any import statements you add\n",
    "import json\n",
    "\n",
    "import twit_api_keys as keys # file with my keys saved"
   ]
  },
  {
   "cell_type": "markdown",
   "id": "c21c86ec",
   "metadata": {},
   "source": [
    "We need bring in our API keys. Since API keys should be kept secret, we'll keep them in a file called `api_keys.py`. This file should be stored in the directory where you store this notebook. The example file is provided for you on Blackboard. The example has API keys that are _not_ functional, so you'll need to get Twitter credentials and replace the placeholder keys. "
   ]
  },
  {
   "cell_type": "code",
   "execution_count": 4,
   "id": "d08eb1fd",
   "metadata": {},
   "outputs": [
    {
     "data": {
      "text/plain": [
       "<tweepy.client.Client at 0x1d427b777c0>"
      ]
     },
     "execution_count": 4,
     "metadata": {},
     "output_type": "execute_result"
    }
   ],
   "source": [
    "client = tweepy.Client(keys.bearer_token,wait_on_rate_limit=True) #added in my own bearer_token\n",
    "\n",
    "client"
   ]
  },
  {
   "cell_type": "markdown",
   "id": "6aa67032",
   "metadata": {},
   "source": [
    "# Testing the API\n",
    "\n",
    "The Twitter APIs are quite rich. Let's play around with some of the features before we dive into this section of the assignment. For our testing, it's convenient to have a small data set to play with. We will seed the code with the handle of John Chandler, one of the instructors in this course. His handle is `@37chandler`. Feel free to use a different handle if you would like to look at someone else's data. \n",
    "\n",
    "We will write code to explore a few aspects of the API: \n",
    "\n",
    "1. Pull some of the followers @37chandler.\n",
    "1. Explore response data, which gives us information about Twitter users. \n",
    "1. Pull the last few tweets by @37chandler.\n"
   ]
  },
  {
   "cell_type": "code",
   "execution_count": 5,
   "id": "76cf6447",
   "metadata": {},
   "outputs": [
    {
     "name": "stderr",
     "output_type": "stream",
     "text": [
      "Rate limit exceeded. Sleeping for 292 seconds.\n"
     ]
    }
   ],
   "source": [
    "handle = \"37chandler\"\n",
    "user_obj = client.get_user(username=handle)\n",
    "\n",
    "followers = client.get_users_followers(\n",
    "    # Learn about user fields here: \n",
    "    # https://developer.twitter.com/en/docs/twitter-api/data-dictionary/object-model/user\n",
    "    user_obj.data.id, user_fields=[\"created_at\",\"description\",\"location\",\n",
    "                                   \"public_metrics\"]\n",
    ")\n",
    "\n"
   ]
  },
  {
   "cell_type": "markdown",
   "id": "de7892a4",
   "metadata": {},
   "source": [
    "Now let's explore these a bit. We'll start by printing out names, locations, following count, and followers count for these users. "
   ]
  },
  {
   "cell_type": "code",
   "execution_count": 71,
   "id": "c48d6bc9",
   "metadata": {},
   "outputs": [
    {
     "name": "stdout",
     "output_type": "stream",
     "text": [
      "John chandler lists 'Decatur, GA' as their location.\n",
      " Following: 130, Followers: 10.\n",
      "\n",
      "Frank P Seidl lists 'Twin Cities, Minnesota USA' as their location.\n",
      " Following: 37870, Followers: 37564.\n",
      "\n",
      "Roberta lists 'Salinas' as their location.\n",
      " Following: 1894, Followers: 181.\n",
      "\n",
      "Anna bikes MKE lists 'mke ' as their location.\n",
      " Following: 2287, Followers: 1756.\n",
      "\n",
      "Catherine lists 'San Angelo' as their location.\n",
      " Following: 2188, Followers: 224.\n",
      "\n",
      "Lisa lists 'None' as their location.\n",
      " Following: 2596, Followers: 831.\n",
      "\n",
      "Lexi lists 'None' as their location.\n",
      " Following: 432, Followers: 25.\n",
      "\n",
      "Dave Renn lists 'None' as their location.\n",
      " Following: 98, Followers: 10.\n",
      "\n",
      "Lionel lists 'None' as their location.\n",
      " Following: 200, Followers: 200.\n",
      "\n",
      "Megan Randall lists 'None' as their location.\n",
      " Following: 142, Followers: 98.\n",
      "\n",
      "Jacob Salzman lists 'None' as their location.\n",
      " Following: 563, Followers: 136.\n",
      "\n",
      "twiter not fun lists 'None' as their location.\n",
      " Following: 218, Followers: 20.\n",
      "\n",
      "Christian Tinsley lists 'None' as their location.\n",
      " Following: 11, Followers: 0.\n",
      "\n",
      "Steve lists 'I'm over here.' as their location.\n",
      " Following: 1626, Followers: 31.\n",
      "\n",
      "John O'Connor 🇺🇦 lists 'None' as their location.\n",
      " Following: 13, Followers: 1.\n",
      "\n",
      "CodeGrade lists 'Amsterdam' as their location.\n",
      " Following: 2772, Followers: 439.\n",
      "\n",
      "Cleverhood lists 'Providence, RI' as their location.\n",
      " Following: 2760, Followers: 3635.\n",
      "\n",
      "Regina 🚶‍♀️🚲🌳 lists 'Minneapolis' as their location.\n",
      " Following: 2829, Followers: 3131.\n",
      "\n",
      "Eric Hallstrom lists 'Missoula, MT' as their location.\n",
      " Following: 474, Followers: 292.\n",
      "\n",
      "Tyler 📊 🐕 🚲 lists 'Minneapolis, MN' as their location.\n",
      " Following: 586, Followers: 110.\n",
      "\n"
     ]
    }
   ],
   "source": [
    "num_to_print = 20\n",
    "\n",
    "for idx, user in enumerate(followers.data) :\n",
    "    following_count = user.public_metrics['following_count']\n",
    "    followers_count = user.public_metrics['followers_count']\n",
    "    \n",
    "    print(f\"{user.name} lists '{user.location}' as their location.\")\n",
    "    print(f\" Following: {following_count}, Followers: {followers_count}.\")\n",
    "    print()\n",
    "    \n",
    "    if idx >= (num_to_print - 1) :\n",
    "        break\n",
    "    "
   ]
  },
  {
   "cell_type": "markdown",
   "id": "8bbfe05f",
   "metadata": {},
   "source": [
    "Let's find the person who follows this handle who has the most followers. "
   ]
  },
  {
   "cell_type": "code",
   "execution_count": 72,
   "id": "bda3eec3",
   "metadata": {},
   "outputs": [
    {
     "name": "stdout",
     "output_type": "stream",
     "text": [
      "SpaceConscious\n",
      "{'followers_count': 37564, 'following_count': 37870, 'tweet_count': 13961, 'listed_count': 305}\n"
     ]
    }
   ],
   "source": [
    "max_followers = 0\n",
    "\n",
    "for idx, user in enumerate(followers.data) :\n",
    "    followers_count = user.public_metrics['followers_count']\n",
    "    \n",
    "    if followers_count > max_followers :\n",
    "        max_followers = followers_count\n",
    "        max_follower_user = user\n",
    "\n",
    "        \n",
    "print(max_follower_user)\n",
    "print(max_follower_user.public_metrics)"
   ]
  },
  {
   "cell_type": "markdown",
   "id": "2dad0a3f",
   "metadata": {},
   "source": [
    "Let's pull some more user fields and take a look at them. The fields can be specified in the `user_fields` argument. "
   ]
  },
  {
   "cell_type": "code",
   "execution_count": 73,
   "id": "0432bbb7",
   "metadata": {},
   "outputs": [],
   "source": [
    "response = client.get_user(id=user_obj.data.id,\n",
    "                          user_fields=[\"created_at\",\"description\",\"location\",\n",
    "                                       \"entities\",\"name\",\"pinned_tweet_id\",\"profile_image_url\",\n",
    "                                       \"verified\",\"public_metrics\"])"
   ]
  },
  {
   "cell_type": "code",
   "execution_count": 74,
   "id": "eb69f9cb",
   "metadata": {},
   "outputs": [
    {
     "name": "stdout",
     "output_type": "stream",
     "text": [
      "for created_at we have 2009-04-18 22:08:22+00:00\n",
      "for verified we have False\n",
      "for username we have 37chandler\n",
      "for description we have He/Him. Data scientist, urban cyclist, educator, erstwhile frisbee player. \n",
      "\n",
      "¯\\_(ツ)_/¯\n",
      "for profile_image_url we have https://pbs.twimg.com/profile_images/2680483898/b30ae76f909352dbae5e371fb1c27454_normal.png\n",
      "for location we have MN\n",
      "for id we have 33029025\n",
      "for name we have John Chandler\n",
      "for public_metrics we have {'followers_count': 185, 'following_count': 592, 'tweet_count': 1049, 'listed_count': 3}\n"
     ]
    }
   ],
   "source": [
    "for field, value in response.data.items() :\n",
    "    print(f\"for {field} we have {value}\")"
   ]
  },
  {
   "cell_type": "markdown",
   "id": "6abc5dc6",
   "metadata": {},
   "source": [
    "Now a few questions for you about the user object.\n",
    "\n",
    "### Q: How many fields are being returned in the `response` object? \n",
    "\n",
    "A: 9 fields are returned -- all the user_fields specified in client.get_user() \n",
    "\n",
    "---\n",
    "\n",
    "### Q: Are any of the fields within the user object non-scalar? (I.e., more complicated than a simple data type like integer, float, string, boolean, etc.) \n",
    "\n",
    "A: Yes, below are the Non-scalar fields  (assuming strings are scalar):\n",
    "\n",
    "'created_at' -- date/time\n",
    "'public metrics' -- Set, although within it, the data are integers.\n",
    "'profile_image_url' -- url, or image (ultimately)\n",
    "'description' -- this a document\n",
    "\n",
    "The rest are simple strings or binary.\n",
    "\n",
    "---\n",
    "\n",
    "### Q: How many friends, followers, and tweets does this user have? \n",
    "\n",
    "A: This user is following 592 people (or has 592 friends), has 183 followers, and 183 tweets.\n"
   ]
  },
  {
   "cell_type": "code",
   "execution_count": 75,
   "id": "3a9b1952",
   "metadata": {},
   "outputs": [
    {
     "data": {
      "text/plain": [
       "{'followers_count': 185,\n",
       " 'following_count': 592,\n",
       " 'tweet_count': 1049,\n",
       " 'listed_count': 3}"
      ]
     },
     "execution_count": 75,
     "metadata": {},
     "output_type": "execute_result"
    }
   ],
   "source": [
    "# displaying just those public metrics asked in last question\n",
    "\n",
    "response.data['public_metrics']"
   ]
  },
  {
   "cell_type": "markdown",
   "id": "d8564d2c",
   "metadata": {},
   "source": [
    "Although you won't need it for this assignment, individual tweets can be a rich source of text-based data. To illustrate the concepts, let's look at the last few tweets for this user. You are encouraged to explore the fields that are available about Tweets."
   ]
  },
  {
   "cell_type": "code",
   "execution_count": 76,
   "id": "70b8e93a",
   "metadata": {},
   "outputs": [
    {
     "name": "stdout",
     "output_type": "stream",
     "text": [
      "1611545485029810180\n",
      "Happy Dia de los Reyes to all who celebrate it. https://t.co/4G7zAuwC70\n",
      "\n",
      "1608230093071212544\n",
      "RT @year_progress: ▓▓▓▓▓▓▓▓▓▓▓▓▓▓▓ 99%\n",
      "\n",
      "1606038920604499969\n",
      "RT @CoachBalto: This video is perfect. Parents please watch. Part 1/2 https://t.co/NvcBFmyFPO\n",
      "\n",
      "1602407567036190743\n",
      "RT @LindsayMasland: I had the realization that \"grades are pretend\" the first time I taught (as a TA).  \n",
      "\n",
      "I was grading something with both…\n",
      "\n",
      "1598645130075856896\n",
      "RT @marinaendicott: My new favourite lawyer’s letter, just for the sheer joy of the tone.\n",
      "\n",
      "1598156055997222912\n",
      "RT @_TanHo: Hey friends, #AdventOfCode starts TONIGHT! I've organized a friendly leaderboard every year for the #rstats (and friends) commu…\n",
      "\n",
      "1597746144108740608\n",
      "If you like biking and not getting hit by muederboxes, you should consider one of these. https://t.co/0prMLbvj3b\n",
      "\n",
      "1597734124927995904\n",
      "RT @CraigTheDev: A lot of people argue that AI art isn't theft as it isn't copying the original images but referencing them like a person.…\n",
      "\n",
      "1597641859509415936\n",
      "RT @nytimesbooks: Here’s our full list of the 10 Best Books of 2022. Learn more about each title here. https://t.co/DtsSSlHyJg https://t.co…\n",
      "\n",
      "1597628397391208448\n",
      "@KevinQ @UpshotNYT Or maybe the effect is the same for every team, since everyone has some unlikely edge probabilities filling out their graph.\n",
      "\n"
     ]
    }
   ],
   "source": [
    "\n",
    "response = client.get_users_tweets(user_obj.data.id)\n",
    "\n",
    "# By default, only the ID and text fields of each Tweet will be returned\n",
    "for idx, tweet in enumerate(response.data) :\n",
    "    print(tweet.id)\n",
    "    print(tweet.text)\n",
    "    print()\n",
    "    \n",
    "    if idx > 10 :\n",
    "        break"
   ]
  },
  {
   "cell_type": "markdown",
   "id": "66d50726",
   "metadata": {},
   "source": [
    "## Pulling Follower Information\n",
    "\n",
    "In this next section of the assignment, we will pull information about the followers of your two artists. We've seen above how to pull a set of followers using `client.get_users_followers`. This function has a parameter, `max_results`, that we can use to change the number of followers that we pull. Unfortunately, we can only pull 1000 followers at a time, which means we will need to handle the _pagination_ of our results. \n",
    "\n",
    "The return object has the `.data` field, where the results will be found. It also has `.meta`, which we use to select the next \"page\" in the results using the `next_token` result. I will illustrate the ideas using our user from above. \n",
    "\n",
    "\n",
    "### Rate Limiting\n",
    "\n",
    "Twitter limits the rates at which we can pull data, as detailed in [this guide](https://developer.twitter.com/en/docs/twitter-api/rate-limits). We can make 15 user requests per 15 minutes, meaning that we can pull $4 \\cdot 15 \\cdot 1000 = 60000$ users per hour. I illustrate the handling of rate limiting below, though whether or not you hit that part of the code depends on your value of `handle`.  \n",
    "\n",
    "\n",
    "In the below example, I'll pull all the followers, 25 at a time. (We're using 25 to illustrate the idea; when you do this set the value to 1000.) "
   ]
  },
  {
   "cell_type": "code",
   "execution_count": 77,
   "id": "e5236335",
   "metadata": {},
   "outputs": [],
   "source": [
    "handle_followers = [] \n",
    "pulls = 0\n",
    "max_pulls = 100\n",
    "next_token = None\n",
    "\n",
    "while True :\n",
    "\n",
    "    followers = client.get_users_followers(\n",
    "        user_obj.data.id, \n",
    "        max_results=1000, # when you do this for real, set this to 1000!\n",
    "        pagination_token = next_token,\n",
    "        user_fields=[\"created_at\",\"description\",\"location\",\n",
    "                     \"entities\",\"name\",\"pinned_tweet_id\",\"profile_image_url\",\n",
    "                     \"verified\",\"public_metrics\"]\n",
    "    )\n",
    "    pulls += 1\n",
    "    \n",
    "    for follower in followers.data : \n",
    "        follower_row = (follower.id,follower.name,follower.created_at,follower.description)\n",
    "        handle_followers.append(follower_row)\n",
    "    \n",
    "    if 'next_token' in followers.meta and pulls < max_pulls :\n",
    "        next_token = followers.meta['next_token']\n",
    "    else : \n",
    "        break\n",
    "        \n",
    "\n"
   ]
  },
  {
   "cell_type": "markdown",
   "id": "9f3ec0e5",
   "metadata": {},
   "source": [
    "## Pulling Twitter Data for Your Artists\n",
    "\n",
    "Now let's take a look at your artists and see how long it is going to take to pull all their followers. "
   ]
  },
  {
   "cell_type": "code",
   "execution_count": 6,
   "id": "6b37383c",
   "metadata": {},
   "outputs": [
    {
     "name": "stdout",
     "output_type": "stream",
     "text": [
      "It would take 2.79 hours to pull all 167449 followers for frankturner. \n",
      "It would take 7.94 hours to pull all 476552 followers for tompetty. \n"
     ]
    }
   ],
   "source": [
    "artists = dict()\n",
    "\n",
    "for handle in ['frankturner', 'tompetty'] : \n",
    "    user_obj = client.get_user(username=handle,user_fields=[\"public_metrics\"])\n",
    "    artists[handle] = (user_obj.data.id, \n",
    "                       handle,\n",
    "                       user_obj.data.public_metrics['followers_count'])\n",
    "    \n",
    "for artist, data in artists.items() : \n",
    "    print(f\"It would take {data[2]/(1000*15*4):.2f} hours to pull all {data[2]} followers for {artist}. \")"
   ]
  },
  {
   "cell_type": "markdown",
   "id": "4696b685",
   "metadata": {},
   "source": [
    "data[2] -- is this the id for each artist? "
   ]
  },
  {
   "cell_type": "markdown",
   "id": "dc6ed3f9",
   "metadata": {},
   "source": [
    "Depending on what you see in the display above, you may want to limit how many followers you pull. It'd be great to get at least 200,000 per artist. \n",
    "\n",
    "As we pull data for each artist we will write their data to a folder called \"twitter\", so we will make that folder if needed."
   ]
  },
  {
   "cell_type": "code",
   "execution_count": 79,
   "id": "e3a32641",
   "metadata": {},
   "outputs": [],
   "source": [
    "# Make the \"twitter\" folder here. \n",
    "\n",
    "if not os.path.isdir(\"twitter\") : \n",
    "    os.mkdir(\"twitter\")"
   ]
  },
  {
   "cell_type": "markdown",
   "id": "dd58dd90",
   "metadata": {},
   "source": [
    "In this following cells, build on the above code to pull some of the followers and their data for your two artists. As you pull the data, write the follower ids to a file called `[artist name]_followers.txt` in the \"twitter\" folder. For instance, for Cher I would create a file named `cher_followers.txt`. As you pull the data, also store it in an object like a list or a data frame.\n",
    "\n",
    "In addition to creating a file that only has follower IDs in it, you will create a file that includes user data. From the response object please extract and store the following fields: \n",
    "\n",
    "* screen_name\t\n",
    "* name\t\n",
    "* id\t\n",
    "* location\t\n",
    "* followers_count\t\n",
    "* friends_count\t\n",
    "* description\n",
    "\n",
    "Store the fields with one user per row in a tab-delimited text file with the name `[artist name]_follower_data.txt`. For instance, for Cher I would create a file named `cher_follower_data.txt`. \n",
    "\n",
    "One note: the user's description can have tabs or returns in it, so make sure to clean those out of the description before writing them to the file. I've included some example code to do that below the stub. "
   ]
  },
  {
   "cell_type": "code",
   "execution_count": 23,
   "id": "ad5d24ae",
   "metadata": {},
   "outputs": [],
   "source": [
    "num_followers_to_pull = 1000 # using this to limit number of followers we pull"
   ]
  },
  {
   "cell_type": "code",
   "execution_count": 81,
   "id": "32fa765d",
   "metadata": {},
   "outputs": [],
   "source": [
    "handles = [\"frankturner\",\"tompetty\"]\n",
    "whitespace_pattern = re.compile(r\"\\s+\")\n",
    "user_data = dict()\n",
    "follower_data = dict()\n",
    "\n",
    "\n",
    "\n",
    "for handle in handles :\n",
    "    user_data[handle] = [] # will be a list of lists\n",
    "    follower_data[handle] = [] # will be a simple list of IDs\n",
    "    \n",
    "# Grabs the time when we start making requests to the API\n",
    "start_time = datetime.datetime.now()"
   ]
  },
  {
   "cell_type": "code",
   "execution_count": 82,
   "id": "a02fcd12",
   "metadata": {},
   "outputs": [
    {
     "data": {
      "text/plain": [
       "<User id=12449542 name=Tom Petty username=tompetty>"
      ]
     },
     "execution_count": 82,
     "metadata": {},
     "output_type": "execute_result"
    }
   ],
   "source": [
    "client.get_user(username = \"tompetty\", user_fields = ['public_metrics']).data"
   ]
  },
  {
   "cell_type": "code",
   "execution_count": 83,
   "id": "3d0cd7d7",
   "metadata": {},
   "outputs": [
    {
     "data": {
      "text/plain": [
       "{'followers_count': 476550,\n",
       " 'following_count': 83,\n",
       " 'tweet_count': 6104,\n",
       " 'listed_count': 2792}"
      ]
     },
     "execution_count": 83,
     "metadata": {},
     "output_type": "execute_result"
    }
   ],
   "source": [
    "client.get_user(username = \"tompetty\", user_fields = ['public_metrics']).data.public_metrics"
   ]
  },
  {
   "cell_type": "code",
   "execution_count": null,
   "id": "e4546b87",
   "metadata": {},
   "outputs": [],
   "source": [
    "# follow_rows = (follower.username, follower.name, follower.id,\n",
    "                                 # follower.location, follower['public_metrics']['followers_count'], \n",
    "                             #     follower['public_metrics']['following_count'],\n",
    "                                 # follower.description)\n",
    "# follow_ids = follower.id\n",
    "            \n",
    "            "
   ]
  },
  {
   "cell_type": "code",
   "execution_count": 32,
   "id": "30fe862c",
   "metadata": {},
   "outputs": [
    {
     "name": "stdout",
     "output_type": "stream",
     "text": [
      "0:00:05.721474\n"
     ]
    }
   ],
   "source": [
    "# full code\n",
    "\n",
    "handles = [\"frankturner\", \"tompetty\"]\n",
    "whitespace_pattern = re.compile(r\"\\s+\")\n",
    "user_data = dict()\n",
    "follower_data = dict()\n",
    "\n",
    "\n",
    "for handle in handles :\n",
    "    user_data[handle] = [] # will be a list of lists\n",
    "    follower_data[handle] = [] # will be a simple list of IDs\n",
    "    \n",
    "# Grabs the time when we start making requests to the API\n",
    "start_time = datetime.datetime.now()\n",
    "\n",
    "for handle in handles:\n",
    "    user_obj = client.get_user(username = handle, user_fields = [\"public_metrics\"])\n",
    "    \n",
    "    \n",
    "    follower_data_dict = {\"id\": []}\n",
    "    user_data_dict = {\"screen_name\": [], \"name\": [], \"id\": [], \"location\": [], \"followers_count\": [],\n",
    "                 \"friends_count\": [], \"description\": []}\n",
    "    \n",
    "    user_data[handle] = []\n",
    "    follower_data[handle] = []\n",
    "    \n",
    "    for response in tweepy.Paginator(client.get_users_followers, user_obj.data.id, max_results = 1000, \n",
    "                                     limit = 5,\n",
    "                                 user_fields = [\"username\", \"name\", \"id\", \"location\",\n",
    "                                                              \"public_metrics\", \"description\"]):\n",
    "        for idx, follower in enumerate(response.data):        \n",
    "            \n",
    "            follow_rows = {\"screen_name\": follower.username,\"name\": follower.name, \"id\": follower.id,\n",
    "                           \"location\": follower.location, \n",
    "                           \"followers_count\": follower['public_metrics']['followers_count'], \n",
    "                            \"friends_count\": follower['public_metrics']['following_count'],\n",
    "                           \"description\": follower.description}\n",
    "            follow_ids = {\"id\": follower.id}\n",
    "            \n",
    "            user_data[handle].append(follow_rows)\n",
    "            \n",
    "            follower_data[handle].append(follower.id)\n",
    "            \n",
    "            \n",
    "            if idx >= (num_followers_to_pull - 1) :\n",
    "                    break\n",
    "            \n",
    "# Let's see how long it took to grab all follower IDs\n",
    "end_time = datetime.datetime.now()\n",
    "print(end_time - start_time)          "
   ]
  },
  {
   "cell_type": "code",
   "execution_count": 53,
   "id": "d067f280",
   "metadata": {},
   "outputs": [],
   "source": [
    "import json\n",
    "import os\n",
    "\n",
    "\n",
    "for i in handles:\n",
    "    # Create the output file names \n",
    "    path = os.getcwd()\n",
    "    \n",
    "    followers_output_file = path + f\"\\\\twitter\\\\{i}_followers.txt\"\n",
    "    user_data_output_file = path + f\"\\\\twitter\\\\{i}_follower_data.txt\"\n",
    "    with open(followers_output_file, 'w') as f:\n",
    "        f.write(json.dumps(follower_data[i]))\n",
    "    with open(user_data_output_file, 'w') as f:\n",
    "        f.write(json.dumps(user_data[i]))"
   ]
  },
  {
   "cell_type": "markdown",
   "id": "f9512b3b",
   "metadata": {},
   "source": [
    "Other notes:\n",
    "\n",
    "response.data -- user objects\n",
    "\n",
    "hit tab to see what you can do with object"
   ]
  },
  {
   "cell_type": "code",
   "execution_count": 87,
   "id": "2311694f",
   "metadata": {},
   "outputs": [
    {
     "data": {
      "text/plain": [
       "'Home by Warsan Shire no one leaves home unless home is the mouth of a shark. you only run for the border when you see the whole city running as well.'"
      ]
     },
     "execution_count": 87,
     "metadata": {},
     "output_type": "execute_result"
    }
   ],
   "source": [
    "tricky_description = \"\"\"\n",
    "    Home by Warsan Shire\n",
    "    \n",
    "    no one leaves home unless\n",
    "    home is the mouth of a shark.\n",
    "    you only run for the border\n",
    "    when you see the whole city\n",
    "    running as well.\n",
    "    \n",
    "\"\"\"\n",
    "# This won't work in a tab-delimited text file.\n",
    "\n",
    "clean_description = re.sub(r\"\\s+\",\" \",tricky_description).strip()\n",
    "clean_description"
   ]
  },
  {
   "cell_type": "markdown",
   "id": "45c13af3",
   "metadata": {},
   "source": [
    "---\n",
    "\n",
    "# Lyrics Scrape\n",
    "\n",
    "This section asks you to pull data from the Twitter API and scrape www.AZLyrics.com. In the notebooks where you do that work you are asked to store the data in specific ways. "
   ]
  },
  {
   "cell_type": "code",
   "execution_count": 3,
   "id": "5bd7df77",
   "metadata": {},
   "outputs": [],
   "source": [
    "artists = {\"frankturner\":\"https://www.azlyrics.com/f/frankturner.html\",\n",
    "           \"tompetty\":\"https://www.azlyrics.com/t/tompettyandtheheartbreakers.html\"} \n",
    "# we'll use this dictionary to hold both the artist name and the link on AZlyrics\n",
    "\n"
   ]
  },
  {
   "cell_type": "markdown",
   "id": "c236c99b",
   "metadata": {},
   "source": [
    "## A Note on Rate Limiting\n",
    "\n",
    "The lyrics site, www.azlyrics.com, does not have an explicit maximum on number of requests in any one time, but in our testing it appears that too many requests in too short a time will cause the site to stop returning lyrics pages. (Entertainingly, the page that gets returned seems to only have the song title to [a Tom Jones song](https://www.azlyrics.com/lyrics/tomjones/itsnotunusual.html).) \n",
    "\n",
    "Whenever you call `requests.get` to retrieve a page, put a `time.sleep(5 + 10*random.random())` on the next line. This will help you not to get blocked. If you _do_ get blocked, which you can identify if the returned pages are not correct, just request a lyrics page through your browser. You'll be asked to perform a CAPTCHA and then your requests should start working again. \n",
    "\n",
    "## Part 1: Finding Links to Songs Lyrics\n",
    "\n",
    "That general artist page has a list of all songs for that artist with links to the individual song pages. \n",
    "\n",
    "Q: Take a look at the `robots.txt` page on www.azlyrics.com. (You can read more about these pages [here](https://developers.google.com/search/docs/advanced/robots/intro).) Is the scraping we are about to do allowed or disallowed by this page? How do you know? \n",
    "\n",
    "A: From what I received, it said Disallow: /lyricsdb/ and Disallow: /song/ \n",
    "    - so, this makes me thing that scraping lyrics and songs is disallowed this page, but perhaps its because at this current moment, my IP is blocked from making more requests.\n"
   ]
  },
  {
   "cell_type": "code",
   "execution_count": 9,
   "id": "db6f4acd",
   "metadata": {},
   "outputs": [
    {
     "data": {
      "text/plain": [
       "True"
      ]
     },
     "execution_count": 9,
     "metadata": {},
     "output_type": "execute_result"
    }
   ],
   "source": [
    "# running some code around robots.txt from the book, and ensuring we can get data\n",
    "\n",
    "import urllib.robotparser\n",
    "\n",
    "rp = urllib.robotparser.RobotFileParser()\n",
    "rp.set_url(\"https://www.azlyrics.com/robots.txt\")\n",
    "rp.read()\n",
    "rp.can_fetch(\"*\", \"https://www.azlyrics.com/sitemap.xml\")"
   ]
  },
  {
   "cell_type": "markdown",
   "id": "be721ca0",
   "metadata": {},
   "source": [
    "####  this said true, and now, it is false ^^"
   ]
  },
  {
   "cell_type": "code",
   "execution_count": 50,
   "id": "103eb364",
   "metadata": {},
   "outputs": [],
   "source": [
    "\n",
    "# testing out a smaller loop\n",
    "\n",
    "urls = []\n",
    "\n",
    "r = requests.get(\"https://www.azlyrics.com/t/tompettyandtheheartbreakers.html\")\n",
    "\n",
    "soup = BeautifulSoup(r.text, 'html.parser')\n",
    "\n",
    "for div in soup.find_all(\"div\", {\"id\": \"listAlbum\"}):\n",
    "    for i in div.find_all('a', href = True):\n",
    "        url = i['href']\n",
    "        main = \"azlyrics.com\"\n",
    "        url = main + url\n",
    "        urls.append(url)\n",
    "        \n",
    "    \n",
    "# urls"
   ]
  },
  {
   "cell_type": "code",
   "execution_count": 11,
   "id": "ac9d31ec",
   "metadata": {},
   "outputs": [],
   "source": [
    "# Let's set up a dictionary of lists to hold our links\n",
    "from collections import defaultdict\n",
    "import random\n",
    "\n",
    "lyrics_pages = defaultdict(list)\n",
    "\n",
    "\n",
    "for artist, artist_page in artists.items() :\n",
    "    # request the page and sleep\n",
    "    r = requests.get(artist_page)\n",
    "          \n",
    "    soup = BeautifulSoup(r.text, 'html.parser')\n",
    "    \n",
    "    time.sleep(5 + 10*random.random())\n",
    "    \n",
    "    lyrics_pages[artist] = []\n",
    "          \n",
    "\n",
    "\n",
    "    # now extract the links to lyrics pages from this page\n",
    "    for div in soup.find_all(\"div\", {\"id\": \"listAlbum\"}):\n",
    "          for i in div.find_all('a', href = True):\n",
    "                urls = i['href']\n",
    "                # store the links `lyrics_pages` where the key is the artist and the\n",
    "                # value is a list of links. \n",
    "    \n",
    "                lyrics_pages[artist].append(urls)\n",
    "                \n"
   ]
  },
  {
   "cell_type": "code",
   "execution_count": 13,
   "id": "a7059c1d",
   "metadata": {},
   "outputs": [],
   "source": [
    "# lyrics_pages"
   ]
  },
  {
   "cell_type": "markdown",
   "id": "9c285ec1",
   "metadata": {},
   "source": [
    "Let's make sure we have enough lyrics pages to scrape. "
   ]
  },
  {
   "cell_type": "code",
   "execution_count": 14,
   "id": "ae4cda68",
   "metadata": {},
   "outputs": [],
   "source": [
    "for artist, lp in lyrics_pages.items() :\n",
    "    assert(len(set(lp)) > 20) "
   ]
  },
  {
   "cell_type": "code",
   "execution_count": 15,
   "id": "edca10d6",
   "metadata": {},
   "outputs": [
    {
     "name": "stdout",
     "output_type": "stream",
     "text": [
      "For frankturner we have 234.\n",
      "The full pull will take for this artist will take 0.65 hours.\n",
      "For tompetty we have 216.\n",
      "The full pull will take for this artist will take 0.6 hours.\n"
     ]
    }
   ],
   "source": [
    "# Let's see how long it's going to take to pull these lyrics \n",
    "# if we're waiting `5 + 10*random.random()` seconds \n",
    "for artist, links in lyrics_pages.items() : \n",
    "    print(f\"For {artist} we have {len(links)}.\")\n",
    "    print(f\"The full pull will take for this artist will take {round(len(links)*10/3600,2)} hours.\")"
   ]
  },
  {
   "cell_type": "markdown",
   "id": "011be6c6",
   "metadata": {},
   "source": [
    "## Part 2: Pulling Lyrics\n",
    "\n",
    "Now that we have the links to our lyrics pages, let's go scrape them! Here are the steps for this part. \n",
    "\n",
    "1. Create an empty folder in our repo called \"lyrics\". \n",
    "1. Iterate over the artists in `lyrics_pages`. \n",
    "1. Create a subfolder in lyrics with the artist's name. For instance, if the artist was Cher you'd have `lyrics/cher/` in your repo.\n",
    "1. Iterate over the pages. \n",
    "1. Request the page and extract the lyrics from the returned HTML file using BeautifulSoup.\n",
    "1. Use the function below, `generate_filename_from_url`, to create a filename based on the lyrics page, then write the lyrics to a text file with that name. \n"
   ]
  },
  {
   "cell_type": "code",
   "execution_count": 16,
   "id": "25dcbe52",
   "metadata": {},
   "outputs": [
    {
     "data": {
      "text/plain": [
       "\"Why be lonely Why be blue You got me babe, I got you And I can't stop thinkin' 'bout you How I dig rockin' around with you I was waiting You came through You knew no one else will do And I can't stop thinkin' 'bout you How I dig rockin' around with you You know I dig rockin' around You know I dig rockin' around You know I dig rockin' around\""
      ]
     },
     "execution_count": 16,
     "metadata": {},
     "output_type": "execute_result"
    }
   ],
   "source": [
    "# testing out smaller loop on just one lyric page\n",
    "\n",
    "test_link = 'https://azlyrics.com/lyrics/tompettyandtheheartbreakers/rockinaroundwithyou.html'\n",
    "\n",
    "soup = BeautifulSoup(requests.get(test_link).content, \"html.parser\")\n",
    "\n",
    "lyric = soup.select_one(\".ringtone ~ div\").get_text(strip = True, separator = \"\\n\").replace(\"\\n\", \" \")\n",
    "\n",
    "\n",
    "title = soup.title.text # this is good for title\n",
    "\n",
    "lyric"
   ]
  },
  {
   "cell_type": "code",
   "execution_count": 22,
   "id": "67693711",
   "metadata": {},
   "outputs": [],
   "source": [
    "def generate_filename_from_link(link) :\n",
    "    \n",
    "    if not link :\n",
    "        return None\n",
    "    \n",
    "    # drop the http or https and the html\n",
    "    name = link.replace(\"https\",\"\").replace(\"http\",\"\")\n",
    "    name = name.replace(\".html\",\"\")\n",
    "    name = name.replace(\"azlyrics.com\", \"\")\n",
    "\n",
    "    name = name.replace(\"/lyrics/\",\"\")\n",
    "    \n",
    "    # Replace useless chareacters with UNDERSCORE\n",
    "    name = name.replace(\"://\",\"\").replace(\".\",\"_\").replace(\"/\",\"_\")\n",
    "    \n",
    "    # tack on .txt\n",
    "    name = name + \".txt\"\n",
    "    \n",
    "    return(name)\n"
   ]
  },
  {
   "cell_type": "code",
   "execution_count": 23,
   "id": "c99cb183",
   "metadata": {},
   "outputs": [
    {
     "data": {
      "text/plain": [
       "'frankturner_therealdamage.txt'"
      ]
     },
     "execution_count": 23,
     "metadata": {},
     "output_type": "execute_result"
    }
   ],
   "source": [
    "# testing function\n",
    "\n",
    "generate_filename_from_link('/lyrics/frankturner/therealdamage.html')"
   ]
  },
  {
   "cell_type": "code",
   "execution_count": 41,
   "id": "94a78c78",
   "metadata": {},
   "outputs": [],
   "source": [
    "# Make the lyrics folder here. If you'd like to practice your programming, add functionality \n",
    "# that checks to see if the folder exists. If it does, then use shutil.rmtree to remove it and create a new one.\n",
    "import shutil\n",
    "\n",
    "if os.path.isdir(\"lyrics\") : \n",
    "    shutil.rmtree(\"lyrics/\")\n",
    "\n",
    "os.mkdir(\"lyrics\")\n",
    "\n"
   ]
  },
  {
   "cell_type": "code",
   "execution_count": null,
   "id": "781584e0",
   "metadata": {},
   "outputs": [],
   "source": [
    "# changing to lyrics directory\n",
    "\n",
    "os.chdir('/lyrics')"
   ]
  },
  {
   "cell_type": "code",
   "execution_count": 46,
   "id": "f3799fdd",
   "metadata": {},
   "outputs": [],
   "source": [
    "# making folders for artists\n",
    "\n",
    "if os.path.isdir(\"frankturner\") : \n",
    "    shutil.rmtree(\"frankturner/\")\n",
    "\n",
    "os.mkdir(\"frankturner\")\n",
    "\n",
    "if os.path.isdir(\"tompetty\") : \n",
    "    shutil.rmtree(\"tompetty/\")\n",
    "\n",
    "os.mkdir(\"tompetty\")"
   ]
  },
  {
   "cell_type": "code",
   "execution_count": 51,
   "id": "c997dc54",
   "metadata": {},
   "outputs": [
    {
     "name": "stdout",
     "output_type": "stream",
     "text": [
      "frankturner\n",
      "tompetty\n"
     ]
    }
   ],
   "source": [
    "for artist in lyrics_pages:\n",
    "    print(artist)"
   ]
  },
  {
   "cell_type": "code",
   "execution_count": 67,
   "id": "9518fa5c",
   "metadata": {},
   "outputs": [
    {
     "name": "stdout",
     "output_type": "stream",
     "text": [
      "Total run time for frankturner was 0.06 hours.\n",
      "Total run time for tompetty was 0.12 hours.\n"
     ]
    }
   ],
   "source": [
    "url_stub = \"https://www.azlyrics.com\" \n",
    "\n",
    "\n",
    "path = os.getcwd()\n",
    "\n",
    "\n",
    "\n",
    "for artist in lyrics_pages:\n",
    "    total_pages = 0 \n",
    "    max_pages = 21 # pulling >20 pages; don't want to be blocked from site \n",
    "    start = time.time()\n",
    "    \n",
    "    while total_pages < max_pages:\n",
    "        \n",
    "        for link in lyrics_pages[artist]:\n",
    "\n",
    "            full_url = url_stub + link\n",
    "            \n",
    "            soup = BeautifulSoup(requests.get(full_url).content, \"html.parser\")\n",
    "            \n",
    "            total_pages += 1\n",
    "            \n",
    "            time.sleep(5 + 10*random.random())\n",
    "            \n",
    "            lyric = soup.select_one(\".ringtone ~ div\").get_text(strip = True, separator = \"\\n\").replace(\"\\n\",\" \")\n",
    "            title = soup.title.text\n",
    "            \n",
    "            filename = generate_filename_from_link(link)\n",
    "            filename_path = path + f\"\\\\{artist}\\\\\" + filename\n",
    "            \n",
    "            # lyric data\n",
    "            lyric_data = title + \" \\n\\n \" + lyric\n",
    "            \n",
    "            with open(filename_path, 'w') as f:\n",
    "                f.write(json.dumps(lyric_data))\n",
    "                \n",
    "            if total_pages >= max_pages:\n",
    "                break\n",
    "                \n",
    "    print(f\"Total run time for {artist} was {round((time.time() - start)/3600,2)} hours.\")\n",
    "            \n",
    "            \n",
    "        "
   ]
  },
  {
   "cell_type": "markdown",
   "id": "054cf14b",
   "metadata": {},
   "source": [
    "---\n",
    "\n",
    "# Evaluation\n",
    "\n",
    "This assignment asks you to pull data from the Twitter API and scrape www.AZLyrics.com.  After you have finished the above sections , run all the cells in this notebook. Print this to PDF and submit it, per the instructions."
   ]
  },
  {
   "cell_type": "code",
   "execution_count": 65,
   "id": "217c2b0a",
   "metadata": {},
   "outputs": [],
   "source": [
    "# Simple word extractor from Peter Norvig: https://norvig.com/spell-correct.html\n",
    "def words(text): \n",
    "    return re.findall(r'\\w+', text.lower())"
   ]
  },
  {
   "cell_type": "markdown",
   "id": "9290b4c3",
   "metadata": {},
   "source": [
    "---\n",
    "\n",
    "## Checking Twitter Data\n",
    "\n",
    "The output from your Twitter API pull should be two files per artist, stored in files with formats like `cher_followers.txt` (a list of all follower IDs you pulled) and `cher_followers_data.txt`. These files should be in a folder named `twitter` within the repository directory. This code summarizes the information at a high level to help the instructor evaluate your work. "
   ]
  },
  {
   "cell_type": "code",
   "execution_count": 46,
   "id": "1713148e",
   "metadata": {},
   "outputs": [
    {
     "data": {
      "text/plain": [
       "'C:\\\\Users\\\\steph\\\\OneDrive\\\\Documents\\\\GitHub\\\\ads509-api-scrape'"
      ]
     },
     "execution_count": 46,
     "metadata": {},
     "output_type": "execute_result"
    }
   ],
   "source": [
    "# change directory back to api_scrape overall directory\n",
    "\n",
    "os.chdir('../')\n",
    "\n",
    "os.getcwd()"
   ]
  },
  {
   "cell_type": "code",
   "execution_count": 45,
   "id": "d2174c46",
   "metadata": {},
   "outputs": [
    {
     "name": "stdout",
     "output_type": "stream",
     "text": [
      "We see two artist handles: frankturner and tompetty.\n"
     ]
    }
   ],
   "source": [
    "twitter_files = os.listdir(\"twitter\")\n",
    "twitter_files = [f for f in twitter_files if f != \".DS_Store\"]\n",
    "artist_handles = list(set([name.split(\"_\")[0] for name in twitter_files]))\n",
    "\n",
    "print(f\"We see two artist handles: {artist_handles[0]} and {artist_handles[1]}.\")"
   ]
  },
  {
   "cell_type": "markdown",
   "id": "3f56b721",
   "metadata": {},
   "source": [
    "Running into an issue with \"data rate exceded\" so running the two below separately"
   ]
  },
  {
   "cell_type": "code",
   "execution_count": 67,
   "id": "7ad545be",
   "metadata": {},
   "outputs": [
    {
     "name": "stdout",
     "output_type": "stream",
     "text": [
      "We see 99906 in your follower file for frankturner, assuming a header row.\n",
      "We see 89349 in your follower file for tompetty, assuming a header row.\n"
     ]
    }
   ],
   "source": [
    "for artist in artist_handles :\n",
    "    follower_file = artist + \"_followers.txt\"\n",
    "    follower_data_file = artist + \"_follower_data.txt\"\n",
    "    \n",
    "    ids = open(\"twitter/\" + follower_file,'r').readlines()\n",
    "    \n",
    "    print(f\"We see {len(ids[0])-1} in your follower file for {artist}, assuming a header row.\")\n",
    "    "
   ]
  },
  {
   "cell_type": "code",
   "execution_count": 66,
   "id": "fcbd7d64",
   "metadata": {},
   "outputs": [
    {
     "name": "stderr",
     "output_type": "stream",
     "text": [
      "IOPub data rate exceeded.\n",
      "The notebook server will temporarily stop sending output\n",
      "to the client in order to avoid crashing it.\n",
      "To change this limit, set the config variable\n",
      "`--NotebookApp.iopub_data_rate_limit`.\n",
      "\n",
      "Current values:\n",
      "NotebookApp.iopub_data_rate_limit=1000000.0 (bytes/sec)\n",
      "NotebookApp.rate_limit_window=3.0 (secs)\n",
      "\n"
     ]
    }
   ],
   "source": [
    "for artist in artist_handles :\n",
    "\n",
    "    follower_data_file = artist + \"_follower_data.txt\"\n",
    "    \n",
    "    with open(\"twitter/\" + follower_data_file,'r') as infile :\n",
    "        \n",
    "        # check the headers\n",
    "        headers = infile.readline().split(\"\\t\")\n",
    "        \n",
    "        print(f\"In the follower data file ({follower_data_file}) for {artist}, we have these columns:\")\n",
    "        print(\" : \".join(headers))\n",
    "        \n",
    "        description_words = []\n",
    "        locations = set()\n",
    "        \n",
    "        \n",
    "        for idx, line in enumerate(infile.readlines()) :\n",
    "            line = line.strip(\"\\n\").split(\"\\t\")\n",
    "            \n",
    "            try : \n",
    "                locations.add(line[3])            \n",
    "                description_words.extend(words(line[6]))\n",
    "            except :\n",
    "                pass\n",
    "    \n",
    "        \n",
    "\n",
    "        print(f\"We have {idx+1} data rows for {artist} in the follower data file.\")\n",
    "\n",
    "        print(f\"For {artist} we have {len(locations)} unique locations.\")\n",
    "\n",
    "        print(f\"For {artist} we have {len(description_words)} words in the descriptions.\")\n",
    "        print(\"Here are the five most common words:\")\n",
    "        print(Counter(description_words).most_common(5))\n",
    "\n",
    "        \n",
    "        print(\"\")\n",
    "        print(\"-\"*40)\n",
    "        print(\"\")"
   ]
  },
  {
   "cell_type": "markdown",
   "id": "37778a1c",
   "metadata": {},
   "source": [
    "## Checking Lyrics \n",
    "\n",
    "The output from your lyrics scrape should be stored in files located in this path from the directory:\n",
    "`/lyrics/[Artist Name]/[filename from URL]`. This code summarizes the information at a high level to help the instructor evaluate your work. "
   ]
  },
  {
   "cell_type": "code",
   "execution_count": 61,
   "id": "cf425504",
   "metadata": {},
   "outputs": [
    {
     "data": {
      "text/plain": [
       "['frankturner', 'tompetty']"
      ]
     },
     "execution_count": 61,
     "metadata": {},
     "output_type": "execute_result"
    }
   ],
   "source": [
    "os.listdir()"
   ]
  },
  {
   "cell_type": "code",
   "execution_count": 68,
   "id": "bccac29c",
   "metadata": {},
   "outputs": [
    {
     "name": "stdout",
     "output_type": "stream",
     "text": [
      "For frankturner we have 21 files.\n",
      "For frankturner we have roughly 6643 words, 1316 are unique.\n",
      "For tompetty we have 21 files.\n",
      "For tompetty we have roughly 4143 words, 605 are unique.\n"
     ]
    }
   ],
   "source": [
    "artist_folders = os.listdir()\n",
    "artist_folders = [f for f in artist_folders if os.path.isdir(f)]\n",
    "\n",
    "for artist in artist_folders : \n",
    "    artist_files = os.listdir(artist)\n",
    "    artist_files = [f for f in artist_files if 'txt' in f or 'csv' in f or 'tsv' in f]\n",
    "\n",
    "    print(f\"For {artist} we have {len(artist_files)} files.\")\n",
    "\n",
    "    artist_words = []\n",
    "\n",
    "    for f_name in artist_files : \n",
    "        with open(artist + \"/\" + f_name) as infile : \n",
    "            artist_words.extend(words(infile.read()))\n",
    "\n",
    "            \n",
    "    print(f\"For {artist} we have roughly {len(artist_words)} words, {len(set(artist_words))} are unique.\")\n"
   ]
  },
  {
   "cell_type": "markdown",
   "id": "486adbc2",
   "metadata": {},
   "source": [
    "Looks like all files are in the folder they should be in!"
   ]
  },
  {
   "cell_type": "code",
   "execution_count": null,
   "id": "308f5e75",
   "metadata": {},
   "outputs": [],
   "source": []
  }
 ],
 "metadata": {
  "kernelspec": {
   "display_name": "Python 3 (ipykernel)",
   "language": "python",
   "name": "python3"
  },
  "language_info": {
   "codemirror_mode": {
    "name": "ipython",
    "version": 3
   },
   "file_extension": ".py",
   "mimetype": "text/x-python",
   "name": "python",
   "nbconvert_exporter": "python",
   "pygments_lexer": "ipython3",
   "version": "3.9.1"
  }
 },
 "nbformat": 4,
 "nbformat_minor": 5
}

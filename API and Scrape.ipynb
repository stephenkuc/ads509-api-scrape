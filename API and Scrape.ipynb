{
 "cells": [
  {
   "cell_type": "markdown",
   "id": "95952cac",
   "metadata": {},
   "source": [
    "# ADS 509 Module 1: APIs and Web Scraping\n",
    "\n",
    "This notebook has three parts. In the first part you will pull data from the Twitter API. In the second, you will scrape lyrics from AZLyrics.com. In the last part, you'll run code that verifies the completeness of your data pull. \n",
    "\n",
    "For this assignment you have chosen two musical artists who have at least 100,000 Twitter followers and 20 songs with lyrics on AZLyrics.com. In this part of the assignment we pull the some of the user information for the followers of your artist and store them in text files. \n"
   ]
  },
  {
   "cell_type": "markdown",
   "id": "4ce62b2b",
   "metadata": {},
   "source": [
    "## Important Note\n",
    "\n",
    "This assignment requires you to have a version of Tweepy that is at least version 4. The latest version is 4.10 as I write this. Critically, this version of Tweepy is *not* on the upgrade path from Version 3, so you will not be able to simply upgrade the package if you are on Version 3. Instead you will need to explicitly install version 4, which you can do with a command like this: `pip install \"tweepy>=4\"`. You will also be using Version 2 of the Twitter API for this assignment. \n",
    "\n",
    "Run the below cell. If your version of Tweepy begins with a \"4\", then you should be good to go. If it begins with a \"3\" then run the following command, found [here](https://stackoverflow.com/questions/5226311/installing-specific-package-version-with-pip), at the command line or in a cell: `pip install -Iv tweepy==4.9`. (You may want to update that version number if Tweepy has moved on past 4.9. "
   ]
  },
  {
   "cell_type": "code",
   "execution_count": 1,
   "id": "23cf2158",
   "metadata": {},
   "outputs": [
    {
     "name": "stdout",
     "output_type": "stream",
     "text": [
      "Name: tweepy\n",
      "Note: you may need to restart the kernel to use updated packages.Version: 4.12.1\n",
      "Summary: Twitter library for Python\n",
      "Home-page: https://www.tweepy.org/\n",
      "Author: Joshua Roesslein\n",
      "Author-email: tweepy@googlegroups.com\n",
      "\n",
      "License: MIT\n",
      "Location: c:\\users\\steph\\miniconda3\\lib\\site-packages\n",
      "Requires: requests, oauthlib, requests-oauthlib\n",
      "Required-by: \n"
     ]
    }
   ],
   "source": [
    "pip show tweepy"
   ]
  },
  {
   "cell_type": "markdown",
   "id": "069b7ae8",
   "metadata": {},
   "source": [
    "## General Assignment Instructions\n",
    "\n",
    "These instructions are included in every assignment, to remind you of the coding standards for the class. Feel free to delete this cell after reading it. \n",
    "\n",
    "One sign of mature code is conforming to a style guide. We recommend the [Google Python Style Guide](https://google.github.io/styleguide/pyguide.html). If you use a different style guide, please include a cell with a link. \n",
    "\n",
    "Your code should be relatively easy-to-read, sensibly commented, and clean. Writing code is a messy process, so please be sure to edit your final submission. Remove any cells that are not needed or parts of cells that contain unnecessary code. Remove inessential `import` statements and make sure that all such statements are moved into the designated cell. \n",
    "\n",
    "Make use of non-code cells for written commentary. These cells should be grammatical and clearly written. In some of these cells you will have questions to answer. The questions will be marked by a \"Q:\" and will have a corresponding \"A:\" spot for you. *Make sure to answer every question marked with a `Q:` for full credit.* \n"
   ]
  },
  {
   "cell_type": "markdown",
   "id": "91c8969e",
   "metadata": {},
   "source": [
    "# Twitter API Pull"
   ]
  },
  {
   "cell_type": "code",
   "execution_count": 1,
   "id": "185076b0",
   "metadata": {},
   "outputs": [],
   "source": [
    "# for the twitter section\n",
    "import tweepy\n",
    "import os\n",
    "import datetime\n",
    "import re\n",
    "from pprint import pprint\n",
    "\n",
    "# for the lyrics scrape section\n",
    "import requests\n",
    "import time\n",
    "from bs4 import BeautifulSoup\n"
   ]
  },
  {
   "cell_type": "code",
   "execution_count": 53,
   "id": "a47e2d5f",
   "metadata": {},
   "outputs": [],
   "source": [
    "# Use this cell for any import statements you add\n",
    "import json\n",
    "\n",
    "import twit_api_keys as keys # file with my keys saved"
   ]
  },
  {
   "cell_type": "markdown",
   "id": "c21c86ec",
   "metadata": {},
   "source": [
    "We need bring in our API keys. Since API keys should be kept secret, we'll keep them in a file called `api_keys.py`. This file should be stored in the directory where you store this notebook. The example file is provided for you on Blackboard. The example has API keys that are _not_ functional, so you'll need to get Twitter credentials and replace the placeholder keys. "
   ]
  },
  {
   "cell_type": "code",
   "execution_count": 69,
   "id": "d08eb1fd",
   "metadata": {},
   "outputs": [
    {
     "data": {
      "text/plain": [
       "<tweepy.client.Client at 0x21bbd1370a0>"
      ]
     },
     "execution_count": 69,
     "metadata": {},
     "output_type": "execute_result"
    }
   ],
   "source": [
    "client = tweepy.Client(keys.bearer_token,wait_on_rate_limit=True) #added in my own bearer_token\n",
    "\n",
    "client"
   ]
  },
  {
   "cell_type": "markdown",
   "id": "6aa67032",
   "metadata": {},
   "source": [
    "# Testing the API\n",
    "\n",
    "The Twitter APIs are quite rich. Let's play around with some of the features before we dive into this section of the assignment. For our testing, it's convenient to have a small data set to play with. We will seed the code with the handle of John Chandler, one of the instructors in this course. His handle is `@37chandler`. Feel free to use a different handle if you would like to look at someone else's data. \n",
    "\n",
    "We will write code to explore a few aspects of the API: \n",
    "\n",
    "1. Pull some of the followers @37chandler.\n",
    "1. Explore response data, which gives us information about Twitter users. \n",
    "1. Pull the last few tweets by @37chandler.\n"
   ]
  },
  {
   "cell_type": "code",
   "execution_count": 70,
   "id": "76cf6447",
   "metadata": {},
   "outputs": [],
   "source": [
    "handle = \"37chandler\"\n",
    "user_obj = client.get_user(username=handle)\n",
    "\n",
    "followers = client.get_users_followers(\n",
    "    # Learn about user fields here: \n",
    "    # https://developer.twitter.com/en/docs/twitter-api/data-dictionary/object-model/user\n",
    "    user_obj.data.id, user_fields=[\"created_at\",\"description\",\"location\",\n",
    "                                   \"public_metrics\"]\n",
    ")\n",
    "\n"
   ]
  },
  {
   "cell_type": "markdown",
   "id": "de7892a4",
   "metadata": {},
   "source": [
    "Now let's explore these a bit. We'll start by printing out names, locations, following count, and followers count for these users. "
   ]
  },
  {
   "cell_type": "code",
   "execution_count": 71,
   "id": "c48d6bc9",
   "metadata": {},
   "outputs": [
    {
     "name": "stdout",
     "output_type": "stream",
     "text": [
      "John chandler lists 'Decatur, GA' as their location.\n",
      " Following: 130, Followers: 10.\n",
      "\n",
      "Frank P Seidl lists 'Twin Cities, Minnesota USA' as their location.\n",
      " Following: 37870, Followers: 37564.\n",
      "\n",
      "Roberta lists 'Salinas' as their location.\n",
      " Following: 1894, Followers: 181.\n",
      "\n",
      "Anna bikes MKE lists 'mke ' as their location.\n",
      " Following: 2287, Followers: 1756.\n",
      "\n",
      "Catherine lists 'San Angelo' as their location.\n",
      " Following: 2188, Followers: 224.\n",
      "\n",
      "Lisa lists 'None' as their location.\n",
      " Following: 2596, Followers: 831.\n",
      "\n",
      "Lexi lists 'None' as their location.\n",
      " Following: 432, Followers: 25.\n",
      "\n",
      "Dave Renn lists 'None' as their location.\n",
      " Following: 98, Followers: 10.\n",
      "\n",
      "Lionel lists 'None' as their location.\n",
      " Following: 200, Followers: 200.\n",
      "\n",
      "Megan Randall lists 'None' as their location.\n",
      " Following: 142, Followers: 98.\n",
      "\n",
      "Jacob Salzman lists 'None' as their location.\n",
      " Following: 563, Followers: 136.\n",
      "\n",
      "twiter not fun lists 'None' as their location.\n",
      " Following: 218, Followers: 20.\n",
      "\n",
      "Christian Tinsley lists 'None' as their location.\n",
      " Following: 11, Followers: 0.\n",
      "\n",
      "Steve lists 'I'm over here.' as their location.\n",
      " Following: 1626, Followers: 31.\n",
      "\n",
      "John O'Connor 🇺🇦 lists 'None' as their location.\n",
      " Following: 13, Followers: 1.\n",
      "\n",
      "CodeGrade lists 'Amsterdam' as their location.\n",
      " Following: 2772, Followers: 439.\n",
      "\n",
      "Cleverhood lists 'Providence, RI' as their location.\n",
      " Following: 2760, Followers: 3635.\n",
      "\n",
      "Regina 🚶‍♀️🚲🌳 lists 'Minneapolis' as their location.\n",
      " Following: 2829, Followers: 3131.\n",
      "\n",
      "Eric Hallstrom lists 'Missoula, MT' as their location.\n",
      " Following: 474, Followers: 292.\n",
      "\n",
      "Tyler 📊 🐕 🚲 lists 'Minneapolis, MN' as their location.\n",
      " Following: 586, Followers: 110.\n",
      "\n"
     ]
    }
   ],
   "source": [
    "num_to_print = 20\n",
    "\n",
    "for idx, user in enumerate(followers.data) :\n",
    "    following_count = user.public_metrics['following_count']\n",
    "    followers_count = user.public_metrics['followers_count']\n",
    "    \n",
    "    print(f\"{user.name} lists '{user.location}' as their location.\")\n",
    "    print(f\" Following: {following_count}, Followers: {followers_count}.\")\n",
    "    print()\n",
    "    \n",
    "    if idx >= (num_to_print - 1) :\n",
    "        break\n",
    "    "
   ]
  },
  {
   "cell_type": "markdown",
   "id": "8bbfe05f",
   "metadata": {},
   "source": [
    "Let's find the person who follows this handle who has the most followers. "
   ]
  },
  {
   "cell_type": "code",
   "execution_count": 72,
   "id": "bda3eec3",
   "metadata": {},
   "outputs": [
    {
     "name": "stdout",
     "output_type": "stream",
     "text": [
      "SpaceConscious\n",
      "{'followers_count': 37564, 'following_count': 37870, 'tweet_count': 13961, 'listed_count': 305}\n"
     ]
    }
   ],
   "source": [
    "max_followers = 0\n",
    "\n",
    "for idx, user in enumerate(followers.data) :\n",
    "    followers_count = user.public_metrics['followers_count']\n",
    "    \n",
    "    if followers_count > max_followers :\n",
    "        max_followers = followers_count\n",
    "        max_follower_user = user\n",
    "\n",
    "        \n",
    "print(max_follower_user)\n",
    "print(max_follower_user.public_metrics)"
   ]
  },
  {
   "cell_type": "markdown",
   "id": "2dad0a3f",
   "metadata": {},
   "source": [
    "Let's pull some more user fields and take a look at them. The fields can be specified in the `user_fields` argument. "
   ]
  },
  {
   "cell_type": "code",
   "execution_count": 73,
   "id": "0432bbb7",
   "metadata": {},
   "outputs": [],
   "source": [
    "response = client.get_user(id=user_obj.data.id,\n",
    "                          user_fields=[\"created_at\",\"description\",\"location\",\n",
    "                                       \"entities\",\"name\",\"pinned_tweet_id\",\"profile_image_url\",\n",
    "                                       \"verified\",\"public_metrics\"])"
   ]
  },
  {
   "cell_type": "code",
   "execution_count": 74,
   "id": "eb69f9cb",
   "metadata": {},
   "outputs": [
    {
     "name": "stdout",
     "output_type": "stream",
     "text": [
      "for created_at we have 2009-04-18 22:08:22+00:00\n",
      "for verified we have False\n",
      "for username we have 37chandler\n",
      "for description we have He/Him. Data scientist, urban cyclist, educator, erstwhile frisbee player. \n",
      "\n",
      "¯\\_(ツ)_/¯\n",
      "for profile_image_url we have https://pbs.twimg.com/profile_images/2680483898/b30ae76f909352dbae5e371fb1c27454_normal.png\n",
      "for location we have MN\n",
      "for id we have 33029025\n",
      "for name we have John Chandler\n",
      "for public_metrics we have {'followers_count': 185, 'following_count': 592, 'tweet_count': 1049, 'listed_count': 3}\n"
     ]
    }
   ],
   "source": [
    "for field, value in response.data.items() :\n",
    "    print(f\"for {field} we have {value}\")"
   ]
  },
  {
   "cell_type": "markdown",
   "id": "6abc5dc6",
   "metadata": {},
   "source": [
    "Now a few questions for you about the user object.\n",
    "\n",
    "### Q: How many fields are being returned in the `response` object? \n",
    "\n",
    "A: 9 fields are returned -- all the user_fields specified in client.get_user() \n",
    "\n",
    "---\n",
    "\n",
    "### Q: Are any of the fields within the user object non-scalar? (I.e., more complicated than a simple data type like integer, float, string, boolean, etc.) \n",
    "\n",
    "A: Yes, below are the Non-scalar fields  (assuming strings are scalar):\n",
    "\n",
    "'created_at' -- date/time\n",
    "'public metrics' -- Set, although within it, the data are integers.\n",
    "'profile_image_url' -- url, or image (ultimately)\n",
    "'description' -- this a document\n",
    "\n",
    "The rest are simple strings or binary.\n",
    "\n",
    "---\n",
    "\n",
    "### Q: How many friends, followers, and tweets does this user have? \n",
    "\n",
    "A: This user is following 592 people (or has 592 friends), has 183 followers, and 183 tweets.\n"
   ]
  },
  {
   "cell_type": "code",
   "execution_count": 75,
   "id": "3a9b1952",
   "metadata": {},
   "outputs": [
    {
     "data": {
      "text/plain": [
       "{'followers_count': 185,\n",
       " 'following_count': 592,\n",
       " 'tweet_count': 1049,\n",
       " 'listed_count': 3}"
      ]
     },
     "execution_count": 75,
     "metadata": {},
     "output_type": "execute_result"
    }
   ],
   "source": [
    "# displaying just those public metrics asked in last question\n",
    "\n",
    "response.data['public_metrics']"
   ]
  },
  {
   "cell_type": "markdown",
   "id": "d8564d2c",
   "metadata": {},
   "source": [
    "Although you won't need it for this assignment, individual tweets can be a rich source of text-based data. To illustrate the concepts, let's look at the last few tweets for this user. You are encouraged to explore the fields that are available about Tweets."
   ]
  },
  {
   "cell_type": "code",
   "execution_count": 76,
   "id": "70b8e93a",
   "metadata": {},
   "outputs": [
    {
     "name": "stdout",
     "output_type": "stream",
     "text": [
      "1611545485029810180\n",
      "Happy Dia de los Reyes to all who celebrate it. https://t.co/4G7zAuwC70\n",
      "\n",
      "1608230093071212544\n",
      "RT @year_progress: ▓▓▓▓▓▓▓▓▓▓▓▓▓▓▓ 99%\n",
      "\n",
      "1606038920604499969\n",
      "RT @CoachBalto: This video is perfect. Parents please watch. Part 1/2 https://t.co/NvcBFmyFPO\n",
      "\n",
      "1602407567036190743\n",
      "RT @LindsayMasland: I had the realization that \"grades are pretend\" the first time I taught (as a TA).  \n",
      "\n",
      "I was grading something with both…\n",
      "\n",
      "1598645130075856896\n",
      "RT @marinaendicott: My new favourite lawyer’s letter, just for the sheer joy of the tone.\n",
      "\n",
      "1598156055997222912\n",
      "RT @_TanHo: Hey friends, #AdventOfCode starts TONIGHT! I've organized a friendly leaderboard every year for the #rstats (and friends) commu…\n",
      "\n",
      "1597746144108740608\n",
      "If you like biking and not getting hit by muederboxes, you should consider one of these. https://t.co/0prMLbvj3b\n",
      "\n",
      "1597734124927995904\n",
      "RT @CraigTheDev: A lot of people argue that AI art isn't theft as it isn't copying the original images but referencing them like a person.…\n",
      "\n",
      "1597641859509415936\n",
      "RT @nytimesbooks: Here’s our full list of the 10 Best Books of 2022. Learn more about each title here. https://t.co/DtsSSlHyJg https://t.co…\n",
      "\n",
      "1597628397391208448\n",
      "@KevinQ @UpshotNYT Or maybe the effect is the same for every team, since everyone has some unlikely edge probabilities filling out their graph.\n",
      "\n"
     ]
    }
   ],
   "source": [
    "\n",
    "response = client.get_users_tweets(user_obj.data.id)\n",
    "\n",
    "# By default, only the ID and text fields of each Tweet will be returned\n",
    "for idx, tweet in enumerate(response.data) :\n",
    "    print(tweet.id)\n",
    "    print(tweet.text)\n",
    "    print()\n",
    "    \n",
    "    if idx > 10 :\n",
    "        break"
   ]
  },
  {
   "cell_type": "markdown",
   "id": "66d50726",
   "metadata": {},
   "source": [
    "## Pulling Follower Information\n",
    "\n",
    "In this next section of the assignment, we will pull information about the followers of your two artists. We've seen above how to pull a set of followers using `client.get_users_followers`. This function has a parameter, `max_results`, that we can use to change the number of followers that we pull. Unfortunately, we can only pull 1000 followers at a time, which means we will need to handle the _pagination_ of our results. \n",
    "\n",
    "The return object has the `.data` field, where the results will be found. It also has `.meta`, which we use to select the next \"page\" in the results using the `next_token` result. I will illustrate the ideas using our user from above. \n",
    "\n",
    "\n",
    "### Rate Limiting\n",
    "\n",
    "Twitter limits the rates at which we can pull data, as detailed in [this guide](https://developer.twitter.com/en/docs/twitter-api/rate-limits). We can make 15 user requests per 15 minutes, meaning that we can pull $4 \\cdot 15 \\cdot 1000 = 60000$ users per hour. I illustrate the handling of rate limiting below, though whether or not you hit that part of the code depends on your value of `handle`.  \n",
    "\n",
    "\n",
    "In the below example, I'll pull all the followers, 25 at a time. (We're using 25 to illustrate the idea; when you do this set the value to 1000.) "
   ]
  },
  {
   "cell_type": "code",
   "execution_count": 77,
   "id": "e5236335",
   "metadata": {},
   "outputs": [],
   "source": [
    "handle_followers = [] \n",
    "pulls = 0\n",
    "max_pulls = 100\n",
    "next_token = None\n",
    "\n",
    "while True :\n",
    "\n",
    "    followers = client.get_users_followers(\n",
    "        user_obj.data.id, \n",
    "        max_results=1000, # when you do this for real, set this to 1000!\n",
    "        pagination_token = next_token,\n",
    "        user_fields=[\"created_at\",\"description\",\"location\",\n",
    "                     \"entities\",\"name\",\"pinned_tweet_id\",\"profile_image_url\",\n",
    "                     \"verified\",\"public_metrics\"]\n",
    "    )\n",
    "    pulls += 1\n",
    "    \n",
    "    for follower in followers.data : \n",
    "        follower_row = (follower.id,follower.name,follower.created_at,follower.description)\n",
    "        handle_followers.append(follower_row)\n",
    "    \n",
    "    if 'next_token' in followers.meta and pulls < max_pulls :\n",
    "        next_token = followers.meta['next_token']\n",
    "    else : \n",
    "        break\n",
    "        \n",
    "\n"
   ]
  },
  {
   "cell_type": "markdown",
   "id": "9f3ec0e5",
   "metadata": {},
   "source": [
    "## Pulling Twitter Data for Your Artists\n",
    "\n",
    "Now let's take a look at your artists and see how long it is going to take to pull all their followers. "
   ]
  },
  {
   "cell_type": "code",
   "execution_count": 78,
   "id": "6b37383c",
   "metadata": {},
   "outputs": [
    {
     "name": "stdout",
     "output_type": "stream",
     "text": [
      "It would take 2.79 hours to pull all 167453 followers for frankturner. \n",
      "It would take 7.94 hours to pull all 476550 followers for tompetty. \n"
     ]
    }
   ],
   "source": [
    "artists = dict()\n",
    "\n",
    "for handle in ['frankturner', 'tompetty'] : \n",
    "    user_obj = client.get_user(username=handle,user_fields=[\"public_metrics\"])\n",
    "    artists[handle] = (user_obj.data.id, \n",
    "                       handle,\n",
    "                       user_obj.data.public_metrics['followers_count'])\n",
    "    \n",
    "for artist, data in artists.items() : \n",
    "    print(f\"It would take {data[2]/(1000*15*4):.2f} hours to pull all {data[2]} followers for {artist}. \")"
   ]
  },
  {
   "cell_type": "markdown",
   "id": "307bf4be",
   "metadata": {},
   "source": [
    "data[2] -- is this the id for each artist? "
   ]
  },
  {
   "cell_type": "markdown",
   "id": "dc6ed3f9",
   "metadata": {},
   "source": [
    "Depending on what you see in the display above, you may want to limit how many followers you pull. It'd be great to get at least 200,000 per artist. \n",
    "\n",
    "As we pull data for each artist we will write their data to a folder called \"twitter\", so we will make that folder if needed."
   ]
  },
  {
   "cell_type": "code",
   "execution_count": 79,
   "id": "e3a32641",
   "metadata": {},
   "outputs": [],
   "source": [
    "# Make the \"twitter\" folder here. \n",
    "\n",
    "if not os.path.isdir(\"twitter\") : \n",
    "    os.mkdir(\"twitter\")"
   ]
  },
  {
   "cell_type": "markdown",
   "id": "dd58dd90",
   "metadata": {},
   "source": [
    "In this following cells, build on the above code to pull some of the followers and their data for your two artists. As you pull the data, write the follower ids to a file called `[artist name]_followers.txt` in the \"twitter\" folder. For instance, for Cher I would create a file named `cher_followers.txt`. As you pull the data, also store it in an object like a list or a data frame.\n",
    "\n",
    "In addition to creating a file that only has follower IDs in it, you will create a file that includes user data. From the response object please extract and store the following fields: \n",
    "\n",
    "* screen_name\t\n",
    "* name\t\n",
    "* id\t\n",
    "* location\t\n",
    "* followers_count\t\n",
    "* friends_count\t\n",
    "* description\n",
    "\n",
    "Store the fields with one user per row in a tab-delimited text file with the name `[artist name]_follower_data.txt`. For instance, for Cher I would create a file named `cher_follower_data.txt`. \n",
    "\n",
    "One note: the user's description can have tabs or returns in it, so make sure to clean those out of the description before writing them to the file. I've included some example code to do that below the stub. "
   ]
  },
  {
   "cell_type": "code",
   "execution_count": 80,
   "id": "ad5d24ae",
   "metadata": {},
   "outputs": [],
   "source": [
    "num_followers_to_pull = 20*1000 # using this to limit number of followers we pull"
   ]
  },
  {
   "cell_type": "code",
   "execution_count": 81,
   "id": "739f108f",
   "metadata": {},
   "outputs": [],
   "source": [
    "handles = [\"frankturner\",\"tompetty\"]\n",
    "whitespace_pattern = re.compile(r\"\\s+\")\n",
    "user_data = dict()\n",
    "follower_data = dict()\n",
    "\n",
    "\n",
    "\n",
    "for handle in handles :\n",
    "    user_data[handle] = [] # will be a list of lists\n",
    "    follower_data[handle] = [] # will be a simple list of IDs\n",
    "    \n",
    "# Grabs the time when we start making requests to the API\n",
    "start_time = datetime.datetime.now()"
   ]
  },
  {
   "cell_type": "code",
   "execution_count": 82,
   "id": "be33f10a",
   "metadata": {},
   "outputs": [
    {
     "data": {
      "text/plain": [
       "<User id=12449542 name=Tom Petty username=tompetty>"
      ]
     },
     "execution_count": 82,
     "metadata": {},
     "output_type": "execute_result"
    }
   ],
   "source": [
    "client.get_user(username = \"tompetty\", user_fields = ['public_metrics']).data"
   ]
  },
  {
   "cell_type": "code",
   "execution_count": 83,
   "id": "583b40dc",
   "metadata": {},
   "outputs": [
    {
     "data": {
      "text/plain": [
       "{'followers_count': 476550,\n",
       " 'following_count': 83,\n",
       " 'tweet_count': 6104,\n",
       " 'listed_count': 2792}"
      ]
     },
     "execution_count": 83,
     "metadata": {},
     "output_type": "execute_result"
    }
   ],
   "source": [
    "client.get_user(username = \"tompetty\", user_fields = ['public_metrics']).data.public_metrics"
   ]
  },
  {
   "cell_type": "code",
   "execution_count": null,
   "id": "afbddbe5",
   "metadata": {},
   "outputs": [],
   "source": [
    "# full code\n",
    "\n",
    "handles = [\"frankturner\", \"tompetty\"]\n",
    "whitespace_pattern = re.compile(r\"\\s+\")\n",
    "user_data = dict()\n",
    "follower_data = dict()\n",
    "\n",
    "\n",
    "for handle in handles :\n",
    "    user_data[handle] = [] # will be a list of lists\n",
    "    follower_data[handle] = [] # will be a simple list of IDs\n",
    "    \n",
    "# Grabs the time when we start making requests to the API\n",
    "start_time = datetime.datetime.now()\n",
    "\n",
    "\n",
    "\n",
    "for handle in handles:\n",
    "    user_obj = client.get_user(username = handle, user_fields = [\"public_metrics\"])\n",
    "    \n",
    "    \n",
    "    follower_data_dict = {\"id\": []}\n",
    "    user_data_dict = {\"screen_name\": [], \"name\": [], \"id\": [], \"location\": [], \"followers_count\": [],\n",
    "                 \"friends_count\": [], \"description\": []}\n",
    "    \n",
    "    user_data[handle] = []\n",
    "    follower_data[handle] = []\n",
    "    \n",
    "    for response in tweepy.Paginator(client.get_users_followers, user_obj.data.id, max_results = 1000, \n",
    "                                     limit = 5,\n",
    "                                 user_fields = [\"username\", \"name\", \"id\", \"location\",\n",
    "                                                              \"public_metrics\", \"description\"]):\n",
    "        for idx, follower in enumerate(response.data):\n",
    "            follow_rows = (follower.username, follower.name, follower.id,\n",
    "                                 follower.location, follower['public_metrics']['followers_count'], \n",
    "                                 follower['public_metrics']['following_count'],\n",
    "                                 follower.description)\n",
    "            follow_ids = follower.id\n",
    "            \n",
    "            \n",
    "        \n",
    "            \n",
    "            user_data_dict[\"screen_name\"].append(follower.username)\n",
    "            user_data_dict[\"name\"].append(follower.name)\n",
    "            user_data_dict[\"id\"].append(follow_ids)\n",
    "            user_data_dict[\"location\"].append(follower.location)\n",
    "            user_data_dict[\"followers_count\"].append(follower['public_metrics']['followers_count'])\n",
    "            user_data_dict[\"friends_count\"].append(follower['public_metrics']['following_count'])\n",
    "            user_data_dict[\"description\"].append(follower.description)\n",
    "            \n",
    "            follower_data_dict['id'].append(follow_ids)\n",
    "            \n",
    "            user_data[handle].append(user_data_dict)\n",
    "            follower_data[handle].append(follower_data_dict)\n",
    "            \n",
    "\n",
    "    \n",
    "            \n",
    "            \n",
    "            if idx >= (num_followers_to_pull - 1) :\n",
    "                    break\n",
    "    \n",
    "\n",
    "\n",
    "    \n",
    "            \n",
    "# Let's see how long it took to grab all follower IDs\n",
    "end_time = datetime.datetime.now()\n",
    "print(end_time - start_time)          "
   ]
  },
  {
   "cell_type": "code",
   "execution_count": 107,
   "id": "9b87ef2a",
   "metadata": {},
   "outputs": [
    {
     "ename": "NameError",
     "evalue": "name 'tompetty' is not defined",
     "output_type": "error",
     "traceback": [
      "\u001b[1;31m---------------------------------------------------------------------------\u001b[0m",
      "\u001b[1;31mNameError\u001b[0m                                 Traceback (most recent call last)",
      "\u001b[1;32m~\\AppData\\Local\\Temp/ipykernel_36188/1227201344.py\u001b[0m in \u001b[0;36m<module>\u001b[1;34m\u001b[0m\n\u001b[1;32m----> 1\u001b[1;33m \u001b[0mfollower_data\u001b[0m\u001b[1;33m[\u001b[0m\u001b[0mtompetty\u001b[0m\u001b[1;33m]\u001b[0m\u001b[1;33m\u001b[0m\u001b[1;33m\u001b[0m\u001b[0m\n\u001b[0m",
      "\u001b[1;31mNameError\u001b[0m: name 'tompetty' is not defined"
     ]
    }
   ],
   "source": [
    "follower_data['tompetty']"
   ]
  },
  {
   "cell_type": "code",
   "execution_count": 108,
   "id": "89467259",
   "metadata": {},
   "outputs": [
    {
     "ename": "KeyError",
     "evalue": "'frankturner'",
     "output_type": "error",
     "traceback": [
      "\u001b[1;31m---------------------------------------------------------------------------\u001b[0m",
      "\u001b[1;31mKeyError\u001b[0m                                  Traceback (most recent call last)",
      "\u001b[1;32m~\\AppData\\Local\\Temp/ipykernel_36188/1362153303.py\u001b[0m in \u001b[0;36m<module>\u001b[1;34m\u001b[0m\n\u001b[0;32m     10\u001b[0m     \u001b[0muser_data_output_file\u001b[0m \u001b[1;33m=\u001b[0m \u001b[0mpath\u001b[0m \u001b[1;33m+\u001b[0m \u001b[1;34mf\"\\\\twitter\\\\{i}_follower_data.txt\"\u001b[0m\u001b[1;33m\u001b[0m\u001b[1;33m\u001b[0m\u001b[0m\n\u001b[0;32m     11\u001b[0m     \u001b[1;32mwith\u001b[0m \u001b[0mopen\u001b[0m\u001b[1;33m(\u001b[0m\u001b[0mfollowers_output_file\u001b[0m\u001b[1;33m,\u001b[0m \u001b[1;34m'w'\u001b[0m\u001b[1;33m)\u001b[0m \u001b[1;32mas\u001b[0m \u001b[0mf\u001b[0m\u001b[1;33m:\u001b[0m\u001b[1;33m\u001b[0m\u001b[1;33m\u001b[0m\u001b[0m\n\u001b[1;32m---> 12\u001b[1;33m         \u001b[0mf\u001b[0m\u001b[1;33m.\u001b[0m\u001b[0mwrite\u001b[0m\u001b[1;33m(\u001b[0m\u001b[0mjson\u001b[0m\u001b[1;33m.\u001b[0m\u001b[0mdumps\u001b[0m\u001b[1;33m(\u001b[0m\u001b[0muser_data\u001b[0m\u001b[1;33m[\u001b[0m\u001b[0mi\u001b[0m\u001b[1;33m]\u001b[0m\u001b[1;33m)\u001b[0m\u001b[1;33m)\u001b[0m\u001b[1;33m\u001b[0m\u001b[1;33m\u001b[0m\u001b[0m\n\u001b[0m\u001b[0;32m     13\u001b[0m     \u001b[1;32mwith\u001b[0m \u001b[0mopen\u001b[0m\u001b[1;33m(\u001b[0m\u001b[0muser_data_output_file\u001b[0m\u001b[1;33m,\u001b[0m \u001b[1;34m'w'\u001b[0m\u001b[1;33m)\u001b[0m \u001b[1;32mas\u001b[0m \u001b[0mf\u001b[0m\u001b[1;33m:\u001b[0m\u001b[1;33m\u001b[0m\u001b[1;33m\u001b[0m\u001b[0m\n\u001b[0;32m     14\u001b[0m         \u001b[0mf\u001b[0m\u001b[1;33m.\u001b[0m\u001b[0mwrite\u001b[0m\u001b[1;33m(\u001b[0m\u001b[0mjson\u001b[0m\u001b[1;33m.\u001b[0m\u001b[0mdumps\u001b[0m\u001b[1;33m(\u001b[0m\u001b[0mfollower_data\u001b[0m\u001b[1;33m[\u001b[0m\u001b[0mi\u001b[0m\u001b[1;33m]\u001b[0m\u001b[1;33m)\u001b[0m\u001b[1;33m)\u001b[0m\u001b[1;33m\u001b[0m\u001b[1;33m\u001b[0m\u001b[0m\n",
      "\u001b[1;31mKeyError\u001b[0m: 'frankturner'"
     ]
    }
   ],
   "source": [
    "import json\n",
    "import os\n",
    "\n",
    "\n",
    "for i in handles:\n",
    "    # Create the output file names \n",
    "    path = os.getcwd()\n",
    "    \n",
    "    followers_output_file = path + f\"\\\\twitter\\\\{i}_followers.txt\"\n",
    "    user_data_output_file = path + f\"\\\\twitter\\\\{i}_follower_data.txt\"\n",
    "    with open(followers_output_file, 'w') as f:\n",
    "        f.write(json.dumps(user_data[i]))\n",
    "    with open(user_data_output_file, 'w') as f:\n",
    "        f.write(json.dumps(follower_data[i]))"
   ]
  },
  {
   "cell_type": "code",
   "execution_count": 86,
   "id": "37ff6633",
   "metadata": {},
   "outputs": [
    {
     "data": {
      "text/plain": [
       "'C:\\\\Users\\\\steph\\\\OneDrive\\\\Documents\\\\GitHub\\\\ads509-api-scrape\\\\lyrics\\\\twitter\\\\tompetty_followers.txt'"
      ]
     },
     "execution_count": 86,
     "metadata": {},
     "output_type": "execute_result"
    }
   ],
   "source": [
    "followers_output_file"
   ]
  },
  {
   "cell_type": "markdown",
   "id": "248dbd90",
   "metadata": {},
   "source": [
    "Other notes:\n",
    "\n",
    "response.data -- user objects\n",
    "\n",
    "hit tab to see what you can do with object"
   ]
  },
  {
   "cell_type": "code",
   "execution_count": 87,
   "id": "2311694f",
   "metadata": {},
   "outputs": [
    {
     "data": {
      "text/plain": [
       "'Home by Warsan Shire no one leaves home unless home is the mouth of a shark. you only run for the border when you see the whole city running as well.'"
      ]
     },
     "execution_count": 87,
     "metadata": {},
     "output_type": "execute_result"
    }
   ],
   "source": [
    "tricky_description = \"\"\"\n",
    "    Home by Warsan Shire\n",
    "    \n",
    "    no one leaves home unless\n",
    "    home is the mouth of a shark.\n",
    "    you only run for the border\n",
    "    when you see the whole city\n",
    "    running as well.\n",
    "    \n",
    "\"\"\"\n",
    "# This won't work in a tab-delimited text file.\n",
    "\n",
    "clean_description = re.sub(r\"\\s+\",\" \",tricky_description).strip()\n",
    "clean_description"
   ]
  },
  {
   "cell_type": "markdown",
   "id": "45c13af3",
   "metadata": {},
   "source": [
    "---\n",
    "\n",
    "# Lyrics Scrape\n",
    "\n",
    "This section asks you to pull data from the Twitter API and scrape www.AZLyrics.com. In the notebooks where you do that work you are asked to store the data in specific ways. "
   ]
  },
  {
   "cell_type": "code",
   "execution_count": 3,
   "id": "5bd7df77",
   "metadata": {},
   "outputs": [],
   "source": [
    "artists = {\"frankturner\":\"https://www.azlyrics.com/f/frankturner.html\",\n",
    "           \"tompetty\":\"https://www.azlyrics.com/t/tompettyandtheheartbreakers.html\"} \n",
    "# we'll use this dictionary to hold both the artist name and the link on AZlyrics\n",
    "\n"
   ]
  },
  {
   "cell_type": "markdown",
   "id": "c236c99b",
   "metadata": {},
   "source": [
    "## A Note on Rate Limiting\n",
    "\n",
    "The lyrics site, www.azlyrics.com, does not have an explicit maximum on number of requests in any one time, but in our testing it appears that too many requests in too short a time will cause the site to stop returning lyrics pages. (Entertainingly, the page that gets returned seems to only have the song title to [a Tom Jones song](https://www.azlyrics.com/lyrics/tomjones/itsnotunusual.html).) \n",
    "\n",
    "Whenever you call `requests.get` to retrieve a page, put a `time.sleep(5 + 10*random.random())` on the next line. This will help you not to get blocked. If you _do_ get blocked, which you can identify if the returned pages are not correct, just request a lyrics page through your browser. You'll be asked to perform a CAPTCHA and then your requests should start working again. \n",
    "\n",
    "## Part 1: Finding Links to Songs Lyrics\n",
    "\n",
    "That general artist page has a list of all songs for that artist with links to the individual song pages. \n",
    "\n",
    "Q: Take a look at the `robots.txt` page on www.azlyrics.com. (You can read more about these pages [here](https://developers.google.com/search/docs/advanced/robots/intro).) Is the scraping we are about to do allowed or disallowed by this page? How do you know? \n",
    "\n",
    "A: From what I received, it said Disallow: /lyricsdb/ and Disallow: /song/ \n",
    "    - so, this makes me thing that scraping lyrics and songs is disallowed this page, but perhaps its because at this current moment, my IP is blocked from making more requests.\n"
   ]
  },
  {
   "cell_type": "code",
   "execution_count": 9,
   "id": "ab64c60e",
   "metadata": {},
   "outputs": [
    {
     "data": {
      "text/plain": [
       "True"
      ]
     },
     "execution_count": 9,
     "metadata": {},
     "output_type": "execute_result"
    }
   ],
   "source": [
    "# running some code around robots.txt from the book, and ensuring we can get data\n",
    "\n",
    "import urllib.robotparser\n",
    "\n",
    "rp = urllib.robotparser.RobotFileParser()\n",
    "rp.set_url(\"https://www.azlyrics.com/robots.txt\")\n",
    "rp.read()\n",
    "rp.can_fetch(\"*\", \"https://www.azlyrics.com/sitemap.xml\")"
   ]
  },
  {
   "cell_type": "markdown",
   "id": "60050b66",
   "metadata": {},
   "source": [
    "####  this said true, and now, it is false ^^"
   ]
  },
  {
   "cell_type": "code",
   "execution_count": 50,
   "id": "0e4590a7",
   "metadata": {},
   "outputs": [],
   "source": [
    "\n",
    "# testing out a smaller loop\n",
    "\n",
    "urls = []\n",
    "\n",
    "r = requests.get(\"https://www.azlyrics.com/t/tompettyandtheheartbreakers.html\")\n",
    "\n",
    "soup = BeautifulSoup(r.text, 'html.parser')\n",
    "\n",
    "for div in soup.find_all(\"div\", {\"id\": \"listAlbum\"}):\n",
    "    for i in div.find_all('a', href = True):\n",
    "        url = i['href']\n",
    "        main = \"azlyrics.com\"\n",
    "        url = main + url\n",
    "        urls.append(url)\n",
    "        \n",
    "    \n",
    "# urls"
   ]
  },
  {
   "cell_type": "code",
   "execution_count": 11,
   "id": "ac9d31ec",
   "metadata": {},
   "outputs": [],
   "source": [
    "# Let's set up a dictionary of lists to hold our links\n",
    "from collections import defaultdict\n",
    "import random\n",
    "\n",
    "lyrics_pages = defaultdict(list)\n",
    "\n",
    "\n",
    "for artist, artist_page in artists.items() :\n",
    "    # request the page and sleep\n",
    "    r = requests.get(artist_page)\n",
    "          \n",
    "    soup = BeautifulSoup(r.text, 'html.parser')\n",
    "    \n",
    "    time.sleep(5 + 10*random.random())\n",
    "    \n",
    "    lyrics_pages[artist] = []\n",
    "          \n",
    "\n",
    "\n",
    "    # now extract the links to lyrics pages from this page\n",
    "    for div in soup.find_all(\"div\", {\"id\": \"listAlbum\"}):\n",
    "          for i in div.find_all('a', href = True):\n",
    "                urls = i['href']\n",
    "                # store the links `lyrics_pages` where the key is the artist and the\n",
    "                # value is a list of links. \n",
    "    \n",
    "                lyrics_pages[artist].append(urls)\n",
    "                \n"
   ]
  },
  {
   "cell_type": "code",
   "execution_count": 13,
   "id": "ff166bcd",
   "metadata": {},
   "outputs": [],
   "source": [
    "# lyrics_pages"
   ]
  },
  {
   "cell_type": "markdown",
   "id": "9c285ec1",
   "metadata": {},
   "source": [
    "Let's make sure we have enough lyrics pages to scrape. "
   ]
  },
  {
   "cell_type": "code",
   "execution_count": 14,
   "id": "ae4cda68",
   "metadata": {},
   "outputs": [],
   "source": [
    "for artist, lp in lyrics_pages.items() :\n",
    "    assert(len(set(lp)) > 20) "
   ]
  },
  {
   "cell_type": "code",
   "execution_count": 15,
   "id": "edca10d6",
   "metadata": {},
   "outputs": [
    {
     "name": "stdout",
     "output_type": "stream",
     "text": [
      "For frankturner we have 234.\n",
      "The full pull will take for this artist will take 0.65 hours.\n",
      "For tompetty we have 216.\n",
      "The full pull will take for this artist will take 0.6 hours.\n"
     ]
    }
   ],
   "source": [
    "# Let's see how long it's going to take to pull these lyrics \n",
    "# if we're waiting `5 + 10*random.random()` seconds \n",
    "for artist, links in lyrics_pages.items() : \n",
    "    print(f\"For {artist} we have {len(links)}.\")\n",
    "    print(f\"The full pull will take for this artist will take {round(len(links)*10/3600,2)} hours.\")"
   ]
  },
  {
   "cell_type": "markdown",
   "id": "011be6c6",
   "metadata": {},
   "source": [
    "## Part 2: Pulling Lyrics\n",
    "\n",
    "Now that we have the links to our lyrics pages, let's go scrape them! Here are the steps for this part. \n",
    "\n",
    "1. Create an empty folder in our repo called \"lyrics\". \n",
    "1. Iterate over the artists in `lyrics_pages`. \n",
    "1. Create a subfolder in lyrics with the artist's name. For instance, if the artist was Cher you'd have `lyrics/cher/` in your repo.\n",
    "1. Iterate over the pages. \n",
    "1. Request the page and extract the lyrics from the returned HTML file using BeautifulSoup.\n",
    "1. Use the function below, `generate_filename_from_url`, to create a filename based on the lyrics page, then write the lyrics to a text file with that name. \n"
   ]
  },
  {
   "cell_type": "code",
   "execution_count": 16,
   "id": "e071d64f",
   "metadata": {},
   "outputs": [
    {
     "data": {
      "text/plain": [
       "\"Why be lonely Why be blue You got me babe, I got you And I can't stop thinkin' 'bout you How I dig rockin' around with you I was waiting You came through You knew no one else will do And I can't stop thinkin' 'bout you How I dig rockin' around with you You know I dig rockin' around You know I dig rockin' around You know I dig rockin' around\""
      ]
     },
     "execution_count": 16,
     "metadata": {},
     "output_type": "execute_result"
    }
   ],
   "source": [
    "# testing out smaller loop on just one lyric page\n",
    "\n",
    "test_link = 'https://azlyrics.com/lyrics/tompettyandtheheartbreakers/rockinaroundwithyou.html'\n",
    "\n",
    "soup = BeautifulSoup(requests.get(test_link).content, \"html.parser\")\n",
    "\n",
    "lyric = soup.select_one(\".ringtone ~ div\").get_text(strip = True, separator = \"\\n\").replace(\"\\n\", \" \")\n",
    "\n",
    "\n",
    "title = soup.title.text # this is good for title\n",
    "\n",
    "lyric"
   ]
  },
  {
   "cell_type": "code",
   "execution_count": 22,
   "id": "67693711",
   "metadata": {},
   "outputs": [],
   "source": [
    "def generate_filename_from_link(link) :\n",
    "    \n",
    "    if not link :\n",
    "        return None\n",
    "    \n",
    "    # drop the http or https and the html\n",
    "    name = link.replace(\"https\",\"\").replace(\"http\",\"\")\n",
    "    name = name.replace(\".html\",\"\")\n",
    "    name = name.replace(\"azlyrics.com\", \"\")\n",
    "\n",
    "    name = name.replace(\"/lyrics/\",\"\")\n",
    "    \n",
    "    # Replace useless chareacters with UNDERSCORE\n",
    "    name = name.replace(\"://\",\"\").replace(\".\",\"_\").replace(\"/\",\"_\")\n",
    "    \n",
    "    # tack on .txt\n",
    "    name = name + \".txt\"\n",
    "    \n",
    "    return(name)\n"
   ]
  },
  {
   "cell_type": "code",
   "execution_count": 23,
   "id": "4c58bc02",
   "metadata": {},
   "outputs": [
    {
     "data": {
      "text/plain": [
       "'frankturner_therealdamage.txt'"
      ]
     },
     "execution_count": 23,
     "metadata": {},
     "output_type": "execute_result"
    }
   ],
   "source": [
    "# testing function\n",
    "\n",
    "generate_filename_from_link('/lyrics/frankturner/therealdamage.html')"
   ]
  },
  {
   "cell_type": "code",
   "execution_count": 41,
   "id": "94a78c78",
   "metadata": {},
   "outputs": [],
   "source": [
    "# Make the lyrics folder here. If you'd like to practice your programming, add functionality \n",
    "# that checks to see if the folder exists. If it does, then use shutil.rmtree to remove it and create a new one.\n",
    "import shutil\n",
    "\n",
    "if os.path.isdir(\"lyrics\") : \n",
    "    shutil.rmtree(\"lyrics/\")\n",
    "\n",
    "os.mkdir(\"lyrics\")\n",
    "\n"
   ]
  },
  {
   "cell_type": "code",
   "execution_count": 45,
   "id": "3cbe659c",
   "metadata": {},
   "outputs": [
    {
     "ename": "FileNotFoundError",
     "evalue": "[WinError 2] The system cannot find the file specified: '/lyrics'",
     "output_type": "error",
     "traceback": [
      "\u001b[1;31m---------------------------------------------------------------------------\u001b[0m",
      "\u001b[1;31mFileNotFoundError\u001b[0m                         Traceback (most recent call last)",
      "\u001b[1;32m~\\AppData\\Local\\Temp/ipykernel_36188/1116268140.py\u001b[0m in \u001b[0;36m<module>\u001b[1;34m\u001b[0m\n\u001b[0;32m      1\u001b[0m \u001b[1;31m# changing to lyrics directory\u001b[0m\u001b[1;33m\u001b[0m\u001b[1;33m\u001b[0m\u001b[1;33m\u001b[0m\u001b[0m\n\u001b[0;32m      2\u001b[0m \u001b[1;33m\u001b[0m\u001b[0m\n\u001b[1;32m----> 3\u001b[1;33m \u001b[0mos\u001b[0m\u001b[1;33m.\u001b[0m\u001b[0mchdir\u001b[0m\u001b[1;33m(\u001b[0m\u001b[1;34m'/lyrics'\u001b[0m\u001b[1;33m)\u001b[0m\u001b[1;33m\u001b[0m\u001b[1;33m\u001b[0m\u001b[0m\n\u001b[0m",
      "\u001b[1;31mFileNotFoundError\u001b[0m: [WinError 2] The system cannot find the file specified: '/lyrics'"
     ]
    }
   ],
   "source": [
    "# changing to lyrics directory\n",
    "\n",
    "os.chdir('/lyrics')"
   ]
  },
  {
   "cell_type": "code",
   "execution_count": 46,
   "id": "df0c4a3b",
   "metadata": {},
   "outputs": [],
   "source": [
    "# making folders for artists\n",
    "\n",
    "if os.path.isdir(\"frankturner\") : \n",
    "    shutil.rmtree(\"frankturner/\")\n",
    "\n",
    "os.mkdir(\"frankturner\")\n",
    "\n",
    "if os.path.isdir(\"tompetty\") : \n",
    "    shutil.rmtree(\"tompetty/\")\n",
    "\n",
    "os.mkdir(\"tompetty\")"
   ]
  },
  {
   "cell_type": "code",
   "execution_count": 51,
   "id": "2c8141d7",
   "metadata": {},
   "outputs": [
    {
     "name": "stdout",
     "output_type": "stream",
     "text": [
      "frankturner\n",
      "tompetty\n"
     ]
    }
   ],
   "source": [
    "for artist in lyrics_pages:\n",
    "    print(artist)"
   ]
  },
  {
   "cell_type": "code",
   "execution_count": 67,
   "id": "bc931a59",
   "metadata": {},
   "outputs": [
    {
     "name": "stdout",
     "output_type": "stream",
     "text": [
      "Total run time for frankturner was 0.06 hours.\n",
      "Total run time for tompetty was 0.12 hours.\n"
     ]
    }
   ],
   "source": [
    "url_stub = \"https://www.azlyrics.com\" \n",
    "\n",
    "\n",
    "path = os.getcwd()\n",
    "\n",
    "\n",
    "\n",
    "for artist in lyrics_pages:\n",
    "    total_pages = 0 \n",
    "    max_pages = 21 # pulling >20 pages; don't want to be blocked from site \n",
    "    start = time.time()\n",
    "    \n",
    "    while total_pages < max_pages:\n",
    "        \n",
    "        for link in lyrics_pages[artist]:\n",
    "\n",
    "            full_url = url_stub + link\n",
    "            \n",
    "            soup = BeautifulSoup(requests.get(full_url).content, \"html.parser\")\n",
    "            \n",
    "            total_pages += 1\n",
    "            \n",
    "            time.sleep(5 + 10*random.random())\n",
    "            \n",
    "            lyric = soup.select_one(\".ringtone ~ div\").get_text(strip = True, separator = \"\\n\").replace(\"\\n\",\" \")\n",
    "            title = soup.title.text\n",
    "            \n",
    "            filename = generate_filename_from_link(link)\n",
    "            filename_path = path + f\"\\\\{artist}\\\\\" + filename\n",
    "            \n",
    "            # lyric data\n",
    "            lyric_data = title + \" \\n\\n \" + lyric\n",
    "            \n",
    "            with open(filename_path, 'w') as f:\n",
    "                f.write(json.dumps(lyric_data))\n",
    "                \n",
    "            if total_pages >= max_pages:\n",
    "                break\n",
    "                \n",
    "    print(f\"Total run time for {artist} was {round((time.time() - start)/3600,2)} hours.\")\n",
    "            \n",
    "            \n",
    "        "
   ]
  },
  {
   "cell_type": "markdown",
   "id": "054cf14b",
   "metadata": {},
   "source": [
    "---\n",
    "\n",
    "# Evaluation\n",
    "\n",
    "This assignment asks you to pull data from the Twitter API and scrape www.AZLyrics.com.  After you have finished the above sections , run all the cells in this notebook. Print this to PDF and submit it, per the instructions."
   ]
  },
  {
   "cell_type": "code",
   "execution_count": 65,
   "id": "217c2b0a",
   "metadata": {},
   "outputs": [],
   "source": [
    "# Simple word extractor from Peter Norvig: https://norvig.com/spell-correct.html\n",
    "def words(text): \n",
    "    return re.findall(r'\\w+', text.lower())"
   ]
  },
  {
   "cell_type": "markdown",
   "id": "9290b4c3",
   "metadata": {},
   "source": [
    "---\n",
    "\n",
    "## Checking Twitter Data\n",
    "\n",
    "The output from your Twitter API pull should be two files per artist, stored in files with formats like `cher_followers.txt` (a list of all follower IDs you pulled) and `cher_followers_data.txt`. These files should be in a folder named `twitter` within the repository directory. This code summarizes the information at a high level to help the instructor evaluate your work. "
   ]
  },
  {
   "cell_type": "code",
   "execution_count": 94,
   "id": "954c9c78",
   "metadata": {},
   "outputs": [
    {
     "data": {
      "text/plain": [
       "'C:\\\\Users\\\\steph\\\\OneDrive\\\\Documents\\\\GitHub\\\\ads509-api-scrape'"
      ]
     },
     "execution_count": 94,
     "metadata": {},
     "output_type": "execute_result"
    }
   ],
   "source": [
    "# change directory back to api_scrape overall directory\n",
    "\n",
    "os.chdir('../')\n",
    "\n",
    "os.getcwd()"
   ]
  },
  {
   "cell_type": "code",
   "execution_count": 95,
   "id": "d2174c46",
   "metadata": {},
   "outputs": [
    {
     "name": "stdout",
     "output_type": "stream",
     "text": [
      "We see two artist handles: tompetty and frankturner.\n"
     ]
    }
   ],
   "source": [
    "twitter_files = os.listdir(\"twitter\")\n",
    "twitter_files = [f for f in twitter_files if f != \".DS_Store\"]\n",
    "artist_handles = list(set([name.split(\"_\")[0] for name in twitter_files]))\n",
    "\n",
    "print(f\"We see two artist handles: {artist_handles[0]} and {artist_handles[1]}.\")"
   ]
  },
  {
   "cell_type": "code",
   "execution_count": 97,
   "id": "7ad545be",
   "metadata": {},
   "outputs": [
    {
     "name": "stdout",
     "output_type": "stream",
     "text": [
      "We see 0 in your follower file for tompetty, assuming a header row.\n",
      "In the follower data file (tompetty_follower_data.txt) for tompetty, we have these columns:\n",
      "[1592010937409544192, 1615066376544157696, 51813178, 1613623782945525763, 1615050787909996544, 1608787884047323137, 1444415982823411717, 726586874, 1609209028327899136, 1615036043396268032, 1351145155630424065, 1071842266057269249, 1568319444308443137, 1586387911544606722, 1519148369905561600, 1557849482779295744, 1553326778646777856, 53497500, 1448796905207525400, 1614257183604051971, 1614995599404703746, 1342912700876279819, 1558828928550125569, 1499054980808024065, 1259497951791058946, 1508899145288982542, 1357198069, 1585288606687629312, 1614942148545183745, 149510682, 410855789, 1614961889619988480, 1570243807915958279, 1504505943916429313, 807933766995996672, 1614643232754868224, 1445864294311104522, 1564525730943455234, 4374186743, 864963111924764672, 1609181690810830857, 54492864, 797615105563205632, 1614905440373972993, 1614176329041121281, 1490234281494388736, 1607813790715846657, 1614889280328941568, 1614101435498610691, 143377427, 1586486630055137281, 864465636109557760, 1564491957895802880, 1355816526583103491, 1434501017740189696, 824338345258086400, 1598791955055792129, 1281382311750180864, 1614656984346664960, 37226179, 1488224634910638081, 1614691781098045441, 1541745831119912962, 1247841822900137984, 1614815570775662592, 1608317303044689920, 80947007, 1613687682210697216, 2462271954, 1614798518010494976, 1594127428326236162, 1456810888435048449, 1613284809748500489, 703666303928815616, 52639416, 1606367094643228690, 1435330271939809291, 1594501870600736771, 125442749, 743563118, 1320095336900235271, 127553812, 314953316, 829547932013719552, 833822184229437441, 1318468882294857728, 26781769, 1614310774502981635, 1471201644658450435, 1520500814560833536, 1614737940877348873, 78000810, 1613679410141356034, 871931496034160640, 1614730060312846336, 2840550549, 1431635263709646851, 1581969386893676544, 1612162445203619841, 2383789063, 123911533, 1611900736840863744, 1614719067683753986, 42859169, 1614025521050030087, 1614730061810212866, 1954914180, 1062078630, 868894928583229441, 1614676010217209862, 4408201456, 926800724192718849, 1517709600975474690, 1614704818425053184, 1369615922646953988, 1490458807843143681, 1605657815145713683, 1576044800494616576, 1588882845401055235, 1412244698413121536, 1293396556071272451, 1614499730418982912, 1570580355379257344, 387262381, 1494425109574021129, 1542641545685385218, 1329948554, 1567339326094163969, 1589615652649566208, 1587188243858178048, 1393934725065105414, 1612160367437795331, 912669054552350730, 1319082921295187968, 1614646221112483847, 1214567926487035906, 854434539707539458, 1612118409084370947, 451147892, 1589441026661519360, 857736194083495937, 41034150, 274252319, 1510971338533609478, 1635824413, 1605036353036615680, 1581474274409422849, 4877208435, 4653603738, 34810400, 93430601, 1612902752727846912, 67982913, 1614358844498378755, 80577926, 1500449330439901192, 1614571614515138562, 82238974, 1610243627250290689, 1121526028701138944, 452144107, 1555953901764980736, 458687036, 1569283074751602690, 4568360421, 1598318208569614336, 824254626, 3055847029, 1614534828749361153, 909779809919803393, 916655024784265218, 1555611855825080327, 2149180519, 1464125433369481218, 1609332985790070784, 1605075537059352578, 421751418, 36923736, 1614469480624652288, 2280306329, 2287455834, 1539972686280937474, 277208470, 1609572104319676416, 1588963016942436352, 902279727880253440, 2822694403, 1107929052155990016, 888167210, 1634795108, 1612488345484988423, 1612664985246928897, 1593804031473856512, 1125556356902031360, 1461060159707492352, 1174692722, 1610348575124242439, 1614334399125880836, 1608869169314889728, 1614263425307123713, 182292003, 951858326861766656, 1612229345824706574, 1517609219134009345, 198494972, 1608184284975878144, 1586333724903350275, 1457201461968789506, 53427127, 27033636, 529566980, 604485928, 78208143, 3154633521, 771668169169727488, 1613876764324798464, 1520014128760471553, 1467844504170475537, 1585769535658872832, 1408177857323491332, 1611990063344418816, 1430216069751480323, 1521316837962784768, 761901998782357505, 1560559523428958208, 24128381, 1596727253752225793, 1598119909686493184, 92563596, 21602489, 1473048391, 1326304572231528448, 825618762975965184, 1577872486905020416, 1603746098773991424, 1604943945368215572, 888460712884019202, 90007980, 934800649182760960, 28241102, 1614328089340936192, 1496303486186799107, 962449296, 1354571278062153731, 2966181625, 418941665, 1589977418193944578, 62386369, 610224215, 1614309894517030913, 1500601828014239744, 1613574496442617860, 1614256067743223808, 1603137502054858754, 1599912822925934592, 1455272717196877837, 75805485, 41985431, 2794427790, 484946896, 1613277030270881799, 4873134413, 65982110, 1614285557177237504, 36488916, 1052415032787722240, 1523444508, 1603435299887108097, 1060218033895927808, 1412442142723784705, 1587104696115732484, 1614268769764876290, 2904551355, 66714733, 1556832598403547138, 2167597176, 1478438114213470216, 113233355, 1609164618605142016, 1610635595578998786, 1476661295311044614, 1612304687830540288, 27966692, 565973552, 956669235240910848, 1291776782291607552, 1614248593812254721, 1080787946142220288, 922666139884408832, 1555336457446907904, 1568604202317873153, 1613979528526762007, 1145940239757840384, 1508402504110784513, 3087041032, 19610163, 3314893260, 1385374817378086922, 1612425552182345728, 1021285956438183937, 1599546349296435202, 1598336838028214272, 1883554748, 1538595772882616322, 1613219833268604949, 1945585286, 2237449298, 1074508368, 2185168823, 176112357, 2205364468, 1611267214224592896, 1242888373246791686, 1388241929440276487, 1019469163939729408, 1602595521369059328, 1518820663175262208, 1432098160889917442, 1462769672152137732, 2805409400, 1026719766340423680, 1547987814519750661, 957200117345419265, 1347534060, 819819155595689985, 1100978289743585280, 1419663945426636800, 473284812, 759303390044168192, 124063496, 702592867785641986, 707691117941280769, 1557541853419171840, 1613002058600448001, 1505716558991081479, 2917453918, 1178375795670212609, 1511147981608681472, 1614144568462827520, 1607811524848136193, 1145190815179800576, 72443132, 1054622359, 72753394, 1589095237544251393, 1451198110651203593, 1485074482247380993, 91739498, 2397082459, 1614119868831305729, 105698554, 1232362859193143296, 1614110749575593986, 470980009, 1614065447652958212, 1500958652647284736, 1597869392305352704, 1579394678163705856, 1614104299184726016, 1175148463740338176, 387826641, 1607904184464211969, 1176938208, 417120087, 84939134, 1614095226368409601, 1596254724466114568, 719518455557406720, 1613425827873705986, 140184448, 3247578581, 903717932, 598818366, 1455939634169401344, 1625955996, 1242154384269537280, 1528564976444747776, 1604507710166384640, 831226237955743746, 1081381101866704898, 40598939, 332659482, 911328044140367876, 1614078082213609474, 48707405, 1577868605143732224, 1047020731412963329, 1529011722593390593, 1570482152822968320, 1056571378852421641, 268981829, 24526283, 1605340829098418176, 1416331866060251140, 1279103857931350016, 1593757458434084864, 1590492785169383427, 1231916620395745281, 277685019, 1490767202412343307, 1614057005832105984, 934487516, 1612522812215812112, 823037077700886529, 3310989004, 1341744272987533312, 109216378, 1602476787597918208, 1869822344, 199565660, 1463195482063208449, 30088897, 76689036, 1279224096836988931, 1599519088287662080, 434520486, 866803933829894146, 2600724962, 1048103479, 558222084, 1614027608924082178, 1220238903866798080, 1385468015530086401, 3985709205, 15539539, 269712390, 1610777684971241472, 1518709278369980416, 1590772152621568013, 490281230, 3797508736, 2912590379, 1193656626336686086, 408985797, 137120456, 1058832979932237824, 277277918, 1455816379609800704, 433955647, 1272560900126519301, 1102316608326840320, 1427576618097205278, 265634056, 1614001651706126338, 1532417040992043009, 1614004692849229824, 1347416796916232198, 1090593699539574785, 2183740679, 1027329217, 169591351, 1533509174180446208, 1586114223893106694, 1468853573622673408, 1611377746080317441, 742859598814666752, 1443526838907809794, 1212909597305921536, 24572068, 1389588793095860234, 720516402797494272, 227841377, 1576427925552992261, 1593979067820384256, 40749716, 1605263727388925970, 2923199080, 2720795128, 898421082339725312, 1430410429214363651, 2843834389, 1605944402748137472, 1613957664764985344, 1603840773518155777, 1547750614024671232, 2919972969, 1562496679621713927, 1597684708854403077, 4122057143, 439181280, 1508272232119869445, 59028570, 727237272232321024, 713608428632023040, 3011286580, 243631142, 1488252435713904644, 1613881905782431744, 1612939776952246275, 1611217576780247041, 1541527677949153285, 220170896, 1559184146563563521, 1613925312622104577, 1613925940689510402, 715087698441211905, 1579533820323237888, 1611397126856265728, 1613541143723089921, 1119635846494244865, 45620381, 887912335880400896, 1496779171930030085, 2277776102, 1586778260612026368, 1590843398273077249, 1585991325194690562, 251038436, 1524525841803317253, 1612601509681700864, 1403704605888761861, 1613865122572771329, 1610300047177957376, 86446843, 1532763657540599811, 1345397257949085696, 2162668242, 265001309, 527670825, 1584793182272774149, 18468310, 19716769, 168382675, 1211012827437125632, 1602307442204868611, 1588673034973597696, 1613842147790258176, 1536693833794084867, 1376599353150877697, 884981166293569537, 1074630519684354051, 1514042368932171776, 1426073575484764163, 1594121452432809985, 1189706692482752514, 1613307897907392512, 1613092907745185792, 1048705768701054976, 1610428790085193728, 1549785155992264707, 238749515, 1398265879, 1613802731906424832, 829193336305102848, 1214275619057360896, 1607259484476542977, 1600632145306845184, 3276654572, 416499686, 20692165, 1326004511199039490, 1612190955817390080, 81499226, 368537033, 19945228, 1588588231062347780, 2585488461, 1498826979990147075, 2976192271, 754110822, 579166663, 1540033392, 1062809794418040832, 1518969604776902661, 336446551, 68934157, 1519169800446128130, 1327164968, 40275165, 1053810759279366144, 28574567, 927995773597442051, 26894401, 1554062937861783552, 17198223, 33067368, 34113343, 1586058825643315202, 1432792312304660482, 28214874, 1611626085334093826, 1018478957669289984, 965909818069454848, 1610561172004036609, 1560378976190840832, 1613707876475756552, 1578233462611476480, 1613368577179910144, 3271937342, 1586817195761627136, 2721636049, 337922932, 318187331, 18154709, 1147915374983372800, 1587541464136966146, 408175464, 1595628238478245888, 880489665740111877, 981345720631472129, 1596231508074831872, 937466069022838784, 1407180352704200707, 1496609428455493633, 1106866605726855169, 82260469, 1498361372857483271, 1613675223135420423, 749598262810669058, 62525794, 1361412108232118275, 1596260192051777542, 955025068819611648, 177398557, 1613654162973106179, 1585964124944711682, 1600620793335058432, 92052039, 833400210, 1425629670783979525, 1566015678490066949, 1608673404340559874, 1611389770071932929, 2411442662, 1271066369157627912, 1608248668314038272, 1601742959715688448, 537553522, 1613628100566204416, 1489038680450813954, 1613620861881171968, 1288646141618331649, 1172322302274371584, 1503835110134915072, 192607050, 1466177714109526021, 1592139090048204800, 286220561, 306124204, 1387258272881729541, 1383079237817602049, 2980425346, 1136805447032344577, 1613526162545704961, 2583286429, 1613201893227896833, 1471598246485278720, 1613598691348054036, 179650540, 2765607528, 1553359604574310400, 1613594009527517188, 1613544066675007488, 937360333274079238, 75114964, 1575004066660352000, 1607117047472979968, 1611079385679036417, 1369804028167614464, 1595447757556285442, 1452344795058225152, 86715496, 1611055380397756417, 114996630, 46017915, 1613556760190533633, 1537148751210594304, 906391668600979457, 239189413, 19998500, 190546366, 1606299765720981504, 1605668594741829647, 1338020280, 918915040404824065, 1489974829692309506, 1556232908230230018, 1325028086073749504, 17061477, 1366905339589914625, 2925074242, 1519319874681688070, 1541823151608406018, 1097341694679371776, 1613493335192227842, 1406371762057711618, 1540365350188875776, 1611141286702075904, 1454618219856150530, 563158282, 19311773, 2800212605, 273200567, 969886311036354560, 1085262867375579137, 130028814, 2892697763, 1545942123627028480, 1588236338154946561, 1507892288118304771, 1438434869940531206, 242771967, 1613338581405437952, 820772228707057665, 1613297443478568961, 1574729159045251072, 461801951, 1425557191352795136, 839551587672547328, 1587510535729315840, 1612003726079791104, 1613484719827734528, 76981896, 1611396190418894854, 1458442219183034368, 1518103617776930816, 790624086837821440, 1412221214366396418, 1305863386643615745, 2188937606, 361024385, 756907890296823809, 1596480757924593665, 731648933718589440, 1413945978021888006, 163375187, 1596096512882540544, 1587743560509554692, 1609221524451463169, 468631872, 29583625, 1593722774702497794, 1427696016204173312, 193651248, 1608897435077644288, 1609260274392989700, 2348918431, 1405964303547699205, 17298599, 458876203, 1489512936594763776, 1482583987398889472, 1613416169557618689, 1511710037533769733, 1612775645267853312, 1610858317433434112, 1341590135930933249, 1530623856527953921, 1366245438349737984, 1221933752160522241, 284403708, 1379013133268877325, 1491924136960184323, 1597804874976083969, 1586775392077103105, 121870204, 1598027212413878273, 1546554964247318529, 1313021661273354243, 140485550, 1571921182068195328, 3337837131, 841919100, 1519104000406216704, 115402970, 1496188063201914881, 230884066, 393846464, 1613368861100855296, 1590935290927013890, 102765511, 1529913053344583684, 73798606, 707665259293609985, 1586003220849197056, 101557035, 38792284, 1487538837937029120, 957043594333949952, 1329273528533839880, 1586171187637411842, 1242652000925503489, 1608575279110266887, 1242513971317477377, 1613344525988028421, 366013565, 1372821887739367424, 1513921469608300544, 1601405372878802944, 23393358, 242114492, 1613264800145874956, 1391761187700891654, 1611082234089332740, 1608555817200123905, 1498461936152887297, 226461215, 1349894270401077249, 293499373, 767588736112562176, 1382768844326985734, 1166071115019620353, 1602721457964044289, 1018552845669425152, 2344232794, 1590289869670354945, 748292184164622336, 838806440970240000, 1589122100, 784103143529381888, 1600676316298313728, 15145965, 1318656930148175875, 286502297, 1263942589822181377, 833889675785826304, 1442260150480343043, 229912254, 1564893906021523458, 1471655473082675201, 1519821415985434629, 1613310648880095232, 3357587212, 1504161028724039683, 1276307576, 1598506933975146496, 1526307623603056640, 1612343965965246465, 1602535975208751104, 481451298, 326140466, 344906135, 1236825696913231873, 2661516930, 297087709, 1587480647584604162, 1308313739377152000, 15380803, 210777399, 1586381559522902019, 4852837822, 1146551486, 1414589269696450573, 41457112, 1414321595724804103, 1421700145, 1335580264353968129, 3235963229, 1584537459630776321, 1379117371365937157, 1611566081826557952, 1560641173122949121, 1613275393003233280, 1613266071934345245, 1483155453647409154, 2412456170, 1179121810199236611, 1568844799242813440, 1611456700027965440, 1605553748822134784, 1259892914320261122, 1612385346674728961, 66472625, 25959284, 1449829534216376325, 1225844555322478600, 2985093671, 1613215035311939584, 1613204174015004675, 1613205924973363200, 1613206005478727686, 1161379914, 40086366, 1348434240694845441, 21454845, 3329577527, 1613187062244544513, 1598684014457622530, 1257019967330975744, 1610360477951098882, 1613178619945164800, 78497860, 1586802918497320960, 1668553670, 1484814083664793601, 1212830224120864768, 1613147822269906946, 68233800, 1011129026704965632, 803437494633164800, 1380922580996083712, 1595204272584548352, 26255253, 363808391, 1611446375522115598, 1612625687315386368, 216016980, 1612306571345952770, 1565069213617864704, 369538303, 1450878895037816835, 1452984531196260354, 1611762336959692800, 1490195142212472832, 1571660043170316290, 1430822870247043074, 16796097, 2368052248, 501453131, 1590172368508436481, 1049379185704226817, 1606131593986318336, 263493480, 2647191859, 21060928, 1613032874646683650, 1591583816657010690, 1613032900156428288, 38520809, 1601373934523502592, 36157236, 985249848, 1551961826463735809, 2466257874, 119205294, 794741682, 269094178, 187996195, 815675202071719936, 971477411010433024, 885349988, 21265275, 1451068090230345733, 1612815357869436928, 1512822200503570439, 1554966133358432264, 1532220652325081088, 1408030307731845122, 3304133595, 1608472397539147777, 1608388051725873152, 242866181, 1600340575017918465, 1610140685927063552, 1581083597401980934, 2830489104, 16940185, 1610374696100417539, 2601270428, 383490429, 1609854490806558726, 1592970997757624320, 1607966548265955328, 2779467024, 1586139802474369028, 21504152, 79312047, 1432563524912521219, 1606635865308073985, 1444384020574343171, 1612904388699234311, 1445706573528117249, 1213868643307515904, 1612864427627352081, 26464396, 841524133, 1545015912406851584, 1327271838985064448, 27141458, 21473598, 1207843509002293249, 1600162297091063811, 1323256360306417664, 106855064, 1401588320291983366, 1542701045868072960, 792594456016986112, 1567905824994910209, 1322594179, 1455629672448995329, 2665274889, 1611879128864641030, 1519500064334430208, 1594351337697083394, 1481658552603217926, 1486910698923773953, 754427046860816384, 2753905552, 1612678580516814849, 871811888467849216, 863036625424715776, 1559707405570785280, 1585835169138761728, 759911702099931140, 1348755458664910848, 1012739361044082689, 1612302080642879489, 825804064063647745, 1519241185822482432, 28997226, 1310941251278196737, 1611916488847261696, 1603902052308078592, 1607486985647656963, 1612542442150006784, 2235178698, 1611162084301017088, 881255328003706880, 1083158798225862656, 1612562137771311104, 1606425614571143170, 1612126818265341953, 1611415161952157697, 1463078315514859520, 2338771976, 1519049934338723843, 1612074958129172481, 1605026061028364289, 1599857908480675849, 28508110, 1605827204906205185, 1612189067915005952, 748819710, 1514966373876830208, 1606096582004424709, 847086701528932354, 1612040388117925889, 1924753610, 1511365458397736961, 1567876635080155136, 1593795004425768963, 1294117884, 1612256407629209600, 1591115794267635732, 1561041529631916032, 1518945812302209026, 1562526500913524738, 846840182120833025, 89738380, 1612316886045171712, 1524877629471481859, 1527366298048471041, 1609460345721978884, 1612329263721762817, 1565366270932832256, 845850126522482688, 36453686, 774414502251094016, 1612285763122511872, 1605305649688154114, 1612126689089261568, 1590025223033831425, 258242349, 790384437837959168, 52833853, 1496486056711139332, 1547570442709307392, 1599546675328057345, 1487104981077577738, 1475839743300624391, 2484836554, 1384766739494412289, 1498486970141626369, 1445070750176645125, 1167996331, 1607273238270287873, 1610733634398613504, 1586743563915653120, 1301236936594653184, 1609619803253215232, 1611954678060785664, 347627447, 1611808697725980679, 204952086, 1599382288680230912, 3252700461, 3519775771, 1612224717091397633, 1609636568091836418, 1609335952656470017, 1269411957154680832, 3090136282, 1527387646506307584, 1603163828623216640, 1564657046233948160, 14711077, 6131012, 1122451212, 1594139396894179328, 3219838956, 1612206832117768196, 52351190, 740970856730394624, 2610060884, 40547203, 181740497, 810158292, 1462551226793570304, 1607019470828064771, 1546453803964063745, 2550438802, 1601382211193868288, 3481913473, 1611414139322122248, 1113817101054218241, 601478959, 1246121652, 1612164262700670976, 1311546868963463170, 1190284253130579975, 1510962907177263112, 1456326938151239681, 823757034185224192, 1611060533620314123, 1599837328792600578, 1450172632431792130, 1555258146863595521, 429554997, 1612124694651478022, 92835635, 1605174756059258882, 1541177409399046145, 1330973248733982724, 1612104486050304003, 1592136910390059008, 526917031, 2984381044, 1601719321952227329, 132410242, 747854490599030784, 18920591, 1610627919772106752, 554355882, 272701693, 1294188361058418694, 767853295, 240033135, 795013349431853056, 1508853452323102728, 1612046964706742273, 37797961, 217015843, 1612018062634483715, 19463681, 44857123, 1606619129271795713, 1612009107308920832, 1607694673723723776, 1543370274497781762, 1478755826537955329, 1542123368404713473, 161484404, 1484606259580002308, 2907512330, 1185719792688193536, 30107339, 1565155857599705089, 77872966, 3178845132, 1596459858638823424, 1202989535535210498, 856709620277977088, 957410038284537856, 111975498, 79258147, 1165766846274056197, 547196876, 822158655772622850, 1554623795817861120, 61259901, 1611924761185067011, 1272986909640470533, 1575246854060752896, 1611820071223017475, 1590586241363345408, 1477982832869978118, 26611390, 1611915824742236162, 1598289295642599424, 335980428, 1611897601896456192, 413555566, 1519113702523518982, 1448298921315368960, 337248502, 1542217110624997376, 128976363, 541658416, 1611876194059784199, 1611863684283879424, 254650564, 1611828576734806016, 1507448044484235286, 1603019744021454848, 1598884216002969600, 1159154465829613568, 1537597401493536768, 1546155795443814401, 29985886, 1606405964097327104, 22488978, 1571328711269711873, 1439357706968649739, 1611825885551726595, 1610126824167596035, 1451601926198530053, 1586658663145639936, 1578913238116290561, 1499294267856011264, 1579963672570519555, 1611765111672250370, 1609296036777828358, 1489595265099182082, 1546821354455973888, 27034968, 1611387634118426625, 1608565768567808001, 1404216088452157440, 1022497706, 1414133647892905987, 965263653690847232, 466474680, 1557892408364392454, 1604829123049918464, 1138728607, 1084214960018935808, 400999694, 879901859594592257, 1611008818565054464, 1507816534365900801, 1261104723370766337, 29201653, 749223792350728192, 2651803268, 1608663180565250049, 1582866609336614913, 969264266976079873, 718138938981027840, 3271296548, 1231690361531224065, 1611689588027756544, 218180563, 1610700778028650503, 111906673, 1164846781055848449, 4180386089, 1519608217139097600, 1611653086124331008, 1585618559572516865, 1235361793, 2948239941, 1518657867007549440, 257526806, 250296022, 1611373278408450049, 1611612009832890370, 1610814976561668097, 153035430, 1611607765364916225, 1611264105834242048, 1611585013174210562, 1566064306352947202, 1611551838800576520, 981109676, 791453624706535424, 1589136640311980032, 26429219, 1608774868916396032, 1498970671421919237, 1609768304641716224, 1125948873246236672, 107234518, 1574391465337290753, 1611537556490838017, 3323081042, 46772821, 1589416634422272002, 1611127182704922624, 1610349646970232836, 1590774590787264512, 1264991019491303428, 1486346362367234056, 1529116490556915713, 21425822, 1611414900017872897, 1611517254138478592, 1611520518603112448, 1491947953816317953, 1414554663219863559, 1610503457085198338, 1609644779390009344, 1849289989, 1545163436367151107, 1603399144202190853, 1611494812557139968, 1582629981183680513, 1598942626367012864, 1594059774345224192, 1609248211021037572, 1468970321311010829, 1594397758823100417, 1488015951744409607, 1562468079812362243, 1444835526050189318, 1605304920055287808, 1611474314297053184, 1484883165730770945, 203166029, 1611366634018447364, 1611452717561421867, 1499680969925832708, 1279769706577133569, 1598416453581012997, 1611433675995975681, 28125959, 1468710323913994240, 14937770, 1391578958886580230, 1181029748308361217, 1196582340493037572, 1611421951104368641, 1308094421024595968, 1611420910933708826, 1503667118683922432, 2414633574, 1604772836937461762, 1611403215186051091, 188349709, 1238885369485176845, 418162159, 1611370959134498816, 1110528348, 174207998, 28054407, 26777575, 1607797067438788609, 565081727, 1611171389666467841, 1610028930722942977, 1608693343709454338, 1389052212572299265, 1589588136660795393, 1209522870252195840, 68507046, 253996684, 1303744981384024066, 1098342998151176194, 339071506, 1611335532088381440, 131806321, 1611322464298057728, 1345373960297455618, 1611314125082165248, 1169915754, 1586571990403612673, 815294994332401664, 1600960958356135940, 1611244302541144067, 1314078856068898816, 1576978310457876480, 1609087658726232066, 937722150202564609, 1471687389256896514, 1323123486299140098, 1611214821931753472, 1609936915888734208, 1403818647185920002, 1186020809329872897, 1611216140692328449, 281646011, 47303073, 1604191825891295232, 1610913413655396352, 1607588020282134530, 3407984692, 514002219, 1609287369022210048, 16894775, 310602527, 144692818, 1605761885525213190, 1430954462, 1594872603944300544, 1577859159051100162, 1553015224818667520, 2779945130, 886043509710626819, 1433669363266203657, 1335235158, 1207809882058981376, 4531136592, 1182277687, 93139768, 1602848103844954113, 1520013020344115200, 1610490214492815360, 1604040012915425280, 326424165, 496568554, 1611065123438792707, 59496365, 1204480027062099968, 1610725818895826944, 1595163402355281927, 908338096944570368, 735698922388099072, 23055560, 27510089, 136592564, 42938501, 1606272801572356097, 1610754210491932673, 314042689, 1610087783560790017, 51265394, 1601670112435527680, 1610990909608402944, 1207108995284119552, 1465470646260047879, 1610894436149362688, 785415027029344256, 45996220, 1610733610918711296, 1608693559561179138, 1533971260274876416, 1610721860651450378, 2268697755, 1086157174076776448, 1610912050401656833, 455649646, 3130783666, 180768626, 388291797, 1604906267788673043, 1510435614633734147, 1526296231353679872, 235448143, 1608053842024751104, 1605795981555007491, 2255392878, 1523621064076677126, 851913513207570432, 1597771749160062976, 713715046266765312, 1610832280481660929, 1571682955809923074, 1604541317165584386, 1610812472642109441, 1610791681087123456, 1598475540821905408, 1498789650562912257, 1514752792447143937, 881143479778373632, 1599200683902771206, 1365979832, 1607080458109566978, 1054343728113111041, 400529724, 829171641003409408, 1610293120976945152, 1610733027377950720, 26059519, 526450475, 1610712308874985482, 1281313776453779457, 972518318472093696, 1576490482846285824, 417371534, 1602048692902567936, 856616706, 1608926397224914945, 1584215742676877317, 1607444923111936001, 514809372, 765037482987565056, 1471475841423089672, 719606450876784640, 1610657264108445697, 1610654245845336064, 1136736397275144202, 795599802075664384, 226285039, 1600450489702879232, 348170741, 76639143, 1599115220521259009, 767483852, 1585727059342639104, 1606872211918585856, 1474496535517925394, 3423231233, 1497151786167291904, 1547334510009794560, 1551786458171596800, 1589935367356030978, 1608020078905237505, 1386684789462380549, 2852088168, 1610495611085950983, 1519958347864154112, 1606377974122614812, 2975579365, 1238107690112626690, 1610485450338091009, 1610478836612829184, 1609786226814468096, 1610475923379216384, 183722147, 213029791, 2216083501, 1470821154948534274, 1466370198865264645, 165768648, 1578062672540704768, 1559017980897513472, 1605238581743828992, 1543786712064729089, 1610414993916268547, 538537809, 1610382235869368323, 737538743200927744, 1506715723636396052, 412212481, 1609653701014085633, 1132383887307563011, 1600977005901762568, 1174180989649727488, 1610341839403360256, 982311100225064960, 1610122503573377024, 1555645963536109575, 1488455677022556166, 1117231212, 20636881, 1518401410307665920, 22281909, 1610288394180984834, 1535994438933168129, 1242199116, 1603829375786520579, 1610105869059899395, 520531519, 1609683620461182976, 1499889443590885380, 403813183, 1398699195058556928, 1521209300630257664, 174629707, 1349588377843208192, 1591982418692481024, 1556411871145721858, 1519130487423393795, 404935874, 1610195039069642753, 1610222290167566342, 2311822698, 82408581, 1565863499300945920, 1599276127687680000, 1601919355792629760, 1610131024834355200, 1606409690346188800, 1085117882252443648, 45064157, 1610151737968713731, 492618289, 886925875223998465, 1569395949038088192, 1023511408607150081, 1606136185923010561, 1586630563233873921, 1610136474770341888, 829934228, 37509433, 1610108125473898498, 1602778741360525318, 1456234734892339201, 2899787871, 3124883097, 1595551865814630401, 19012703, 1601939183081295872, 256858345, 1610085656792793088, 1514611032953565190, 1458808046965215232, 2569575793, 1609762333697482753, 251973304, 1608637065452732416, 29919762, 872515996149481480, 1610018483466653699, 1610020295301107712, 1610008631621128192, 1520084259708485635, 2243110177, 1610000072829173761, 1600364651522441216, 1608192685772259328, 1044516638308151296, 1568497026517581825, 3277736058, 1507280023451058183, 1602193401172172800, 1588550397391773703, 111621330, 1032462076248240129, 1444404220531253254, 81480107, 1537984924808278019, 1015573938347184128, 1550950680596254723, 1609949034713694208, 58738789, 1609944942008221698, 1274219106, 1609937289958027265, 1604382733106413568, 46260415, 1235919472575176705, 1447165601298976769, 1609908674423828483, 552217552, 1609568837371891712, 1607137031204884484, 1609867675747995652, 1188235789534220295, 1403365249517080585, 1433107980304715784, 986059365651271685, 1453838250301403143, 1557006726280499205, 51261228, 1095340430823247872, 1609802408007241728, 1609564145191620616, 32052024, 1609762082161065984, 1335834997089964033, 1190858132483977216, 391275005, 147726095, 1559416361931395072, 1507871993034592265, 1600694300853116928, 936393975795154945, 1608637574439993345, 1057830316499451904, 1090951573365092352, 781483839373869056, 1219834988629307392, 1487914422613983233, 82710324, 1601698207335157761, 1603973445389357058, 1608201469181796352, 1609304393035153418, 1602403996509036549, 1164970323936239616, 33763022, 1168791434922610688, 1075265583791271938, 1609671246362329092, 1113250364466302976, 1598382096132833296, 1520834946805473280, 26999184, 1589623857891233792, 284528191, 1609336646834728960, 15745441, 1609637021856800768, 1285565324956295168, 3245408537, 2385285469, 1453671414653984769, 1457367293093158912, 988805369857216513, 2395414369, 1607423465094529024, 1119915001450573824, 1069956043441082368, 946195268302790656, 1532364248239726594, 1608687129390972929, 1606062396874936322, 1468811879195758592, 1602663241854980098, 14140438, 474490407, 1440406493962985473, 1598832763993481217, 1643520776, 1608612309793914882, 1544553704015032320, 1191569586388377602, 1518538535455895552, 191850067, 1609170912640647170, 3164510954, 1432999210496888838, 1547709674773889029, 1609494018903404544, 1609475760028536832, 1473718069, 3432399963, 1425550981945778181, 15902990, 364453896, 45982724, 1233790923500326912, 1595552537683320833, 210223274, 434639280, 1523738782641442816, 1609397691083288577, 913851461154549763, 1518671761168031748, 1609381760235626497, 1608298414487240704, 16498881, 1476089609855520768, 1372976484562915337, 1516465675560050688, 1609237929582362624, 1603125542244319234, 1035682896672186368, 1547748192514482179, 1308590359547531264, 715297047738507264, 64452245, 1352974459817353217, 1609327784312147971, 1073386236230930433, 1261416022151778306, 1574824423995097090, 1549045591090483201, 1542545753301729283, 1591838969624465409, 1378769686851170309, 1205239569697910794, 2173997777, 296504596, 1609291435672576000, 1490040427055136771, 1423787187506720771, 1641671990, 1591543641939525634, 2883261237, 1609210500054716419, 1604904124004372483, 96692307, 1609025973793554432, 1609249631648497667, 1609222002463711234, 936653491283435520, 1607069174815145986, 1267204100103561216, 1597982901295271936, 1462379405477658628, 1581325205724618756, 2335894237, 59499023, 1609024665904619521, 1609215272967376896, 2207060070, 1545998398758830080, 1483457161892179972, 1490343506086346752, 303894744, 1609192439771987969, 134896858, 1598851246152204288, 1064172715710529537, 1606549548692049921, 1608499788147720193, 1604730690108522496, 1601020801364508673, 28354468, 1604515271183564800, 1602512242943045632, 1609154100683493377, 1609111294774317056, 43748080, 1421358020823588866, 1571840716854132739, 1535390762648719362, 1452109473020059654, 1609094097708392448, 254871816, 2435232103, 1609069213955592192, 1049865075018756097, 1535631183526170629, 1587298442912665601, 803059072065032197, 1602623188906741761, 1407927141120024578, 1608940780889972737, 1589166808216391680, 370256262, 250532060, 1609023993121755136, 30106191, 3193176477, 1419008197675847684, 1390461901323350021, 948159338748592128, 82709555, 1458303816, 145402309, 47029237, 1557174406538878976, 335759978, 1608997312558256130, 500391228, 1559653237007028230, 1540863509218689026, 24047412, 1102024321583796224, 78981359, 817154113549062145, 1608628117597216768, 1608969248382001152, 860795816318877696, 928444946, 850298035410276353, 1608967503618932736, 822964772568203265, 1518393830780948482, 2835476437, 707243820, 1402392235329601541, 147873488, 1608939023963246592, 1600948818274557952, 1608932109456142336, 1505595038033711110, 1576714028143067136, 1459457438, 24667815, 2928926776, 1608911090741657613, 1215668626805731328, 3053270756, 884167794496946176, 1597770882029477888, 2707531834, 20011360, 1544416201786511361, 1608895890084741121, 1518231966839152645, 2868184670, 2340278390, 821524703068225538, 855774566, 1559643440710836224, 864161066955153408, 41769389, 1601774683774455810, 184597401, 1286857002828926976, 4298651057, 2677376208, 1608884201134166016, 1296570425779130371, 1432737774889746436, 19783234, 1598923001889783809, 26734477, 1564929135797243904, 23387364, 1594751764838088704, 1608831392808579077, 1608826415629090817, 1591375051734908931, 1668088550, 48954544, 246337306, 1563100733448556547, 803218356681801728, 497744321, 1605009704350105601, 1592878904360013824, 1352957758673477632, 1608704903974625282, 1608698482516459524, 1270131637129555968, 1467236349371564033, 43607579, 1522301371923456011, 1605845961623818242, 1603765263320629248, 1119899570, 1354534154940067850, 17402783, 1608614169225445376, 1589376157052542976, 17142711, 1608610531241246720, 1519682075959328770, 845484648, 1482013900233007106, 1608618435411607556, 1493996294620258307, 1594378069921472515, 1449829985716301825, 1603536505259139073, 1537197607134576641, 38493965, 820133622, 1608307165114077184, 2561585275, 144189766, 1608166078877671424, 1305125107560579077, 1608485819928428545, 1254414463954038784, 2923086456, 1495009852204199936, 360810532, 1564470405250723841, 2796906856, 1040301823360462849, 64566777, 1087437452053229572, 242086066, 1506115502497681409, 1519105131559628800, 1448682164925571072, 1445759797173784589, 1542382957, 1587939550957125632, 1605696110449676288, 1606353578146369536, 20118021, 1608489966400671752, 3367172037, 4105591677, 1580269146415239184, 1585222499532525571, 1608447958999080963, 1603619433242497025, 488190158, 1500530612700127232, 1906582232, 1608425777397104643, 362948514, 1511037516773793796, 177984908, 2450669300, 1233781491160604680, 1551319195194900488, 769804177, 1592133623272148993, 1608286450256150529, 2892485271, 18847455, 47599707, 1449755498069250057, 1608375009936019457, 1223605685897789440, 846827912410120196, 1597029537119870976, 49832055, 1607939373827334144, 86427270, 1608279688744505344, 2710536884, 1607735208383741952, 1488900919601381376, 1511410697799880707, 1350585667, 985244215461363712, 1608221533113126913, 570493966, 1607885631333740544, 1596902017154383875, 1472555610537406470, 1353834729624186883, 4535337012, 1608229862900174848, 30606988, 1324228032039542785, 3180378673, 1171536229445226496, 1608236276527910912, 24947561, 1608224852623736833, 1589758853536567296, 1607561425593008128, 1536510861828923393, 718967305, 483492720, 4766691793, 16480623, 92371674, 2183248191, 1604127216266346496, 1595179984506834944, 1572005026662432771, 1544233190528892934, 1597633061494980608, 1603847893286363139, 983192117882359808, 1608083323716263937, 2370824042, 1588167119958671360, 1605197808163766272, 885584137, 1246123273571708936, 1608016195609038848, 1607991869627158528, 252196439, 1607967920453189632, 332092033, 1586895044870537217, 21405973, 1607833508503851011, 945474433304682498, 1607933835806662658, 1601956708607299587, 1478986414305984512, 1464224163368148998, 18144249, 1514299356568080394, 1607911414940987392, 2569911843, 170789222, 921508020, 796833841298214912, 1607254983740723201, 1607883980636028930, 1574437420614959104, 1223734301331726336, 602813536, 1604247278067527681, 2564093348, 1607840592955904000, 1550152218002726916, 1566879574830481408, 1603477967228788752, 1606026203843944448, 1604780347182514177, 1577091786044051457, 3107646083, 1572305433670328322, 1605639956533223424, 63886673, 279236910, 1590523615191130112, 1382935344547569664, 1595787926218178564, 1607737887952338945, 1601818716433534976, 1496492902997921793, 1499220369999540227, 1606003086232879105, 1607406448266608640, 1591674309432512513, 1607754914263961601, 1480185522274377729, 1607336144869494784, 1909395854, 1607726713542266887, 1523370699699675137, 1607484554691940352, 1080740161158144000, 1408117731556265987, 49146550, 1601968471943806977, 383090534, 1444360984110448644, 48114686, 1088790744704393218, 1473706715833057282, 1607627009978519552, 1603274322155634688, 1209833542429106176, 1607155191908032513, 1373575589106384900, 3092885482, 281309264, 2970424561, 1606175547968593920, 2480781763, 1430935713298722827, 879138161909153792, 1536171769635160064, 475527403, 1607559877043392514, 851587944, 1345164549259931655, 1607546170779262976, 1264366590558175235, 1456774132146782209, 174135364, 1267960717853876225, 1607537928053587968, 1583617479246389250, 873013502, 75044545, 1519130221345136645, 1607508471863300097, 1607515555820355586, 2718231185, 1605037918371856387, 1206701184, 1607501827502661633, 1598522918224420864, 1607501512938225667, 1586109626268917760, 1607108764343173127, 18132695, 1447521359899369472, 811378249, 1325887799963361284, 1291764013626544128, 1517876739845853184, 1601538495155142656, 1590758519015444488, 293070513, 1580958697378938880, 1605658810298863640, 975573312, 1525809734082875393, 1549116123198750720, 1598072825994248198, 1229033412989767681, 1601645790019084290, 1357307665731493888, 831693164, 1595510499998896153, 1149287878767329283, 1606467417152053248, 1450928081947004928, 1603879623661654018, 1337222055226454016, 1590860599285747713, 1599412253224230913, 1601040345638514688, 112254959, 4060516162, 1432301828599865345, 1385708372951961605, 77630672, 44443409, 1602414986097463296, 1241033367728074754, 1588086060952715264, 1584713552945770496, 1606999521178820614, 1204320500694110208, 1560535471775703041, 94070420, 40831728, 1599466380058828801, 1592309805712113664, 1523004212480819202, 153133522, 1050269740353110016, 1607283250698878983, 23935667, 1600141156129677314, 1607270636161744897, 1592887100160069632, 1607058931238436864, 1600505389463834626, 402179907, 16068879, 1491440054408921095, 1501434045082836992, 1051896949354504203, 744133343864827904, 1563622843845226496, 937768940947804163, 1033448216111538176, 329326115, 1600604624804843545, 1604412094056636417, 616109061, 146535737, 1602155132266872832, 1364830342570532867, 1607020029261783041, 431234403, 1506852566, 1469311049098801152, 1582313090, 1538351667669716992, 1282794815550357508, 1607173117557837826, 733323862826450944, 1572984912919072768, 1604153075488505856, 1152913181918027776, 1574888446912512001, 1604493020757467138, 1586763293821210625, 1607154612011663367, 1607140678101778432, 1302580521868972033, 1589426483554025473, 1606302798240423938, 1007190463, 1705045230, 129038140, 1447676084120473602, 1565986477, 1606788892862152705, 881549290476232704, 1607071692127629312, 1606694009593909250, 1601440004101767168, 1388740431589019649, 904443442339745793, 1888143992, 1595586966770384896, 1599411495300890626, 971415346023489536, 101068719, 1401817183169269760, 2851120855, 104595526, 1586270592747163649, 135262378, 1607059497909985283, 1339582297608081415, 1256575578087587840, 348442524, 1201196105037438979, 1435529879756419072, 1555007656674336768, 1442829106475847681, 1606586203188465665, 1325544878256889865, 2588563424, 1595130766207422464, 1428361584519180299, 1560319266049646592, 1597343250540535809, 1582688575069556737, 1606982561779310593, 1606962535454085120, 2237908494, 283856610, 1559615047777021952, 369135943, 1464024760350773257, 4625984902, 992654362047668224, 1098629647653396480, 1606844946392268802, 1606349204418433047, 1600285186511540224, 1412312520, 50142408, 3241866638, 2594899194, 1472732242170589187, 1599608498337484801, 1229108924277764096, 1156469556325552128, 872853699265269760, 1606298520088186881, 1491364742107209729, 270060139, 1485340747498868737, 1151948917367562249, 1543598566354341888, 1449786794711650308, 1550948338828300289, 1605424065438785536, 1051598077, 1415422538327281665, 9294122, 1545095464676216832, 1518758009270423552, 870753868413628416, 1606680973080395778, 1523686435999547392, 37115166, 1601731345113354246, 3192871097, 1488274612714627076, 890113628, 864561806, 1370831954791260160, 1598811871854862338, 237432071, 808443559607173120, 1193223024255913985, 943286764780875779, 1566547214016602113, 1463888293356048390, 1606629964140670977, 1585976701791649793, 1537722812470808578, 1297888837956493315, 305150078, 2449284250, 1600148963625164800, 1606564825299140609, 1604929615859949569, 798347359, 1606324678905176067, 1403653297, 1503201199377588226, 66442454, 1599584244338147331, 1106409540541693952, 1572949432898912258, 40995689, 2216352996, 1606515708489510912, 1267338873639665666, 1546707597444653056, 367342555, 1595878820849991680, 1523806235656695808, 750827184621703168, 1604320559592005633, 1587558640994684929, 116947111, 1355396152779268096, 1606457360477786114, 1606236508037566464, 1497551399215071235, 144330270, 1605630748207218715, 1539326011732504577, 1589358708953608192, 1518687446791122945, 1441607107833257991, 1514991244157628421, 1597316152912478209, 1431968036324532232, 35557339, 1105388348, 4070341160, 1442131841973059591, 1606409261948575755, 1589708399188533255, 2358550968, 1600988865728233473, 629352987, 1173665234, 1523439910941827073, 1603902217345327104, 1595302230579707904, 1603431205067800576, 67641596, 1603224825668968449, 1605274537536262144, 266142532, 1601108882369257479, 1603324926877900801, 1599480739178881027, 1557811080314904578, 288494306, 1219303202379784192, 973578036753842177, 1606266971548442624, 449490364, 24565164, 2419295864, 1596639174928764928, 1603408440159866881, 1453827333178249221, 1541514115004305408, 1605172890126934016, 1443839868874858503, 1578135724263583745, 1588277167795871745, 951826020956606464, 1606131876711874563, 2463047495, 1589786646878240768, 1497787855598407680, 1224211230002335744, 1596571970971136001, 1606035108024164374, 1107408972460494848, 1494446463371264039, 1599146738060664832, 1579982178884141056, 569651370, 188992571, 1600167845333127174, 172584838, 1498369198132809733, 1605644025020977152, 1580218282640039941, 1020858463474388993, 1567531535355777024, 1957170475, 248063966, 986056482457141248, 1575675827609804800, 718642713, 1604887140105850880, 1965553710, 2902683876, 1436639164418560002, 1605574338861744134, 1584060321227886592, 766909958, 1480339517223620609, 1597249068316622849, 1605223217890746370, 1589389749713764352, 1604511240650366977, 1598027439174737920, 1597115951782035456, 65616190, 1604829452319457280, 86861129, 2962119089, 817044929260220416, 188486707, 28179068, 1165259194624303104, 14693659, 1576263540494815235, 1128803281059307520, 41435589, 1602349600408731649, 776858997362085888, 1605771491106226177, 1604710330428493824, 1594082283522326528, 1566965940222414849, 1273399358407540737, 1414955269210185734, 1584797309346480129, 1443982642379202575, 1584633370868297728, 1523580022665142272, 3273468793, 1278513872, 429459231, 1567982688895733761, 1534072330573553664, 1402429067253669892, 1596148906299121666, 1476775741450862592, 1552718614251421702, 1487647049684336646, 1605292050324377619, 1603202900674617344, 1560652015784660993, 1598658683470319616, 1597299238307827713, 1605591494248759297, 142613227, 35662059, 1601993222200299520, 1604516511808425985, 110783726, 909578123233996801, 1605507961023090688, 1597581078641811457, 140432231, 1077114169386688513, 1582745294046957570, 1598719192299360256, 174180213, 797147904360284160, 128887009, 790412164670423040, 1327592865216782338, 22767379, 1604552607476977666, 1604828271899705345, 1142644285017403393, 1234524707556380674, 144955937, 256155946, 3424123372, 1574630549481836549, 16135029, 1605478973361688576, 1605475010344280065, 17593203, 1597739628345319426, 1474853131309756419, 1453258559458775046, 1605464082533974018, 1601748556099964928, 1032900908546445312, 1605422628231069697, 1566854468695724041, 1347545835060531200, 1585837151442419712, 1196088676696174593, 1605438574329229312, 1488203232228745217, 2697166614, 1295864471546667010, 1472339062954496001, 1674889650, 1055465476338241543, 1518743065279803392, 1363591939, 1590197826612613120, 1605413302141607937, 150763064, 247557344, 1603616123416678407, 1399841446887411712, 2645999006, 27050330, 1605382626877100038, 255588458, 1597406243680882689, 83772881, 3048255465, 1585859790713999361, 1516912635849187328, 1452981144924872705, 1014448814, 1585962169027395585, 2419405268, 1406342038073790468, 1541133257428926467, 1604558322824249344, 1605335989169360896, 1223972433591447554, 258566493, 1482651908988940288, 1342896896411639809, 1489671034995462150, 15288840, 1579530695332040707, 834877760, 1605298592260018181, 1574450335388663813, 1582161459248775169, 1381385581129834500, 1598320145771991040, 24936639, 1604314081300811777, 20490846, 14374265, 781601103238557697, 122247368, 1605246597130076166, 1440450355586686988, 1605223469779755008, 1456304619081158663, 1605216007546617857, 1598118805099761666, 1132614038, 1463845539015966723, 2209480441, 1604973652390428672, 1157255484, 1605175314556063748, 1196984059039305728, 1605175334202212352, 1550428226819788800, 1605173147845545986, 1599409329593090050, 1237598108806082560, 268372266, 808340765818683392, 1605140619642273792, 1589796479312756736, 947980028712833026, 423518515, 923768281, 1367840481619677186, 1164660900072062976, 979560314650861568, 1603615396174733312, 355990369, 36520273, 1605102635207360513, 723972378578038786, 1604201711195025408, 1483911780757909505, 1166110355384348672, 1599171797164883969, 1605070117703847936, 1248270784688078854, 2477451350, 1601625606923370498, 1604988976879661056, 1386422245426352128, 353965796, 1594142018116104200, 1537392190418190336, 2746499827, 1595493771386490894, 956969487642824706, 1352289160204345345, 2427507649, 1578656008271892480, 1595186123705176069, 1912922227, 1571834682827837440, 1601319305135759361, 1604994876332019713, 1433670704420073484, 1480533254, 1575182321266966534, 2276628398, 1476291510450548738, 1585990172616933376, 1412390678491971587, 296469716, 1602312041288503299, 1568322042126127111, 20239066, 1396140269511249924, 18276543, 1604950701905530883, 1597796574452654081, 2858831151, 1586043116871729153, 1467659248708374531, 823252871349202944, 1244345821459394560, 1401872687543336961, 1594109894457712648, 714430140, 1495921390096166912, 2534570962, 471465304, 208650018, 1457461170772787205, 1604885253906202625, 56837136, 1604884297885818890, 1604876412657319942, 1308958639613456385, 1598485815520559104, 426159282, 119774617, 1591123412616826880, 1603802510493454336, 1443573993504587786, 1600285092479664128, 130429338, 1427400235228274690, 1551843953942544385, 836611418, 793553419, 1604676934796857344, 1518719141305364480, 1604792474802835456, 1604781835120148480, 212950075, 1598328009232207875, 1537825915929075712, 1565873192413061121, 1551197252089257985, 1248827601927516160, 748079251421683712, 1009752920, 134767215, 2783256330, 1040520958321274880, 1596237554109632514, 1604643875775078401, 1569205949365211138, 1516833857982586883, 1424054883074854917, 992108726772477952, 1602367900152729607, 1263821564, 771240875988885505, 2905542933, 803596083997839360, 1601711084423024640, 253717784, 1628376714, 582182408, 1453941201091002373, 1298040924350451718, 1519081539002318851, 1460632817768050688, 1300085034192457731, 1381727419342655488, 25643026, 1604625461337882629, 1594827576119369733, 1603526268821053442, 74077478, 1333332585699811328, 1571598830205894662, 1601779365951545344, 1567567914210828291, 1601740910944976896, 1496973298659430405, 309144520, 754899382797938688, 1448908911323475968, 54713333, 1485916621, 1323013614832410625, 1604569847207059456, 1160677546343583744, 1601839907357466624, 1477036879383908352, 1599106627990323203, 1537702254291066880, 1587058909407240194, 1530057805247414278, 1576382633659060225, 1604537833334652929, 574079029, 1604536641414127624, 742412951663960064, 1601021267154444288, 24899262, 1601941853796012040, 322211806, 1596812473201352704, 1548032309948928003, 1475481274600996866, 1596842686308405248, 1032722844768235521, 15461829, 345748544, 1594592326097199104, 705107902550417409, 1492935511438245891, 1558500347609595911, 1599090264169119745, 284213874, 1486363610028855303, 1600795450436730883, 1554510828505808898, 1603922282862333952, 1601965980573474817, 17388500, 1599929822834094082, 1604479957811478529, 1594790525760147456, 1604101332943634432, 1603047310409310211, 1558563585302753280, 23328623, 1537718591402958850, 1601202236817809408, 1586292733148372993, 24058367, 3828038243, 1587837434452213765, 33755142, 797691324073971716, 1391684497893175296, 1486079847331885057, 1493925820041203718, 1423368549624651783, 1552535638079148033, 1169213610779955200, 4739118797, 1026550125445955586, 1586362081405796353, 1487422749891080193, 1128333231227588608, 173230862, 4455837734, 987713191496044544, 1516754507186810893, 1411458226705637382, 1321777591402045443, 1183432820020006912, 1539339326005321729, 1604332833711046656, 1603969572150837248, 1564667025338908674, 4422637216, 255233546, 3423105915, 1580222867043717120, 1602821825695711232, 1601095644373991425, 1442025134525612032, 64231435, 320993899, 1240578512, 2454451357, 618159330, 1604162809343909889, 1601212710812688384, 1516729856, 1505244081680695297, 1358423751747133441, 43628787, 1603919135217524737, 1558516107002236931, 407318254, 889722343026806786, 1518742950636703744, 1543464866253623296, 979501730340712449, 713298925256445953, 1604258215583252481, 3063423227, 1604244928044957697, 1051462251067138048, 340906952, 1563921219946270727, 1242251027153399810, 3329063460, 1461049415637082112, 1594468050069295106, 795530413791911936, 1604007734730424320, 1599239024874377216, 1437425972849090564, 2932276071, 1517086082306875392, 1242790594579247105, 2760255883, 1009095699869372416, 3181402997, 1367350229960335363, 1604189130770059267, 527692482, 1604172413637369858, 361721930, 1551231226924584961, 1604166960606052352, 1462511669100175365, 1315125993217183744, 2929367355, 1056278872562356224, 1585804153678356482, 1193305213966393345, 1602971588797911040, 1602846674652626946, 1597746316800573443, 1603130853663641602, 1604125733349199873, 1460119733282512898, 1585946326046580736, 1596554685049085955, 2769559791, 1105111053069963264, 1514570544884203523, 1958338872, 1474061166330753037, 4267818678, 130862485, 1598144524806754304, 1518756070646288384, 1198449281524523008, 719098034, 1855074104, 1591158207518593026, 1563432713083703299, 1069688611656716289, 1460301459145338886, 1604029696986996737, 3407316707, 1320865130511564803, 1598201013726580737, 1458314564, 1596251997723762690, 1455316265380327427, 1603956421896568832, 1602902414490746883, 1598416843902951431, 1603952709329047552, 15776473, 231635931, 1597973798065676289, 732794948383297536, 1403192907104989185, 1454218418169815041, 1603937935891521536, 989510530434912256, 488777688, 1228294945565544449, 1603921287336058880, 1586735927497457669, 1603108433779113984, 1602339581180928004, 323409794, 262049573, 1437485073922596865, 4259419163, 1524105938273193987, 54602822, 197025317, 636602034, 867097765712502784, 847692371097559040, 1603885498241531911, 1564127110129745920, 1591066647581925384, 798216868888768514, 1204159722640859139, 1478070385858027527, 1597462720235945984, 1594847048397987842, 56855291, 1107745970, 312191159, 1603864048684220417, 1603852720460468234, 1528508340564680705, 1514069863349854213, 1583200027991744518, 1519017359821922305, 1525583958225846275, 1603833063217455104, 1603826616966303744, 1158441052321275904, 1475625704880488448, 1452701455278825478, 1348087939855749123, 1508138742728388609, 1593691598105329665, 509798276, 1568210022697410561, 1275669384279834624, 1462811730531262471, 1291908923994148864, 1590396087956799489, 1599672733205692417, 985639411881775105, 4035825672, 1603735174776324096, 1602008229374050304, 2280287468, 1595011870737547265, 1596578230487711744, 1603286354468564994, 776718289544290304, 906344429493129216, 803354561306066944, 1603462575320141825, 1603664553606275072, 1603665566757167106, 1603649066042548225, 436592341, 2467852872, 1304044537711489024, 1593050510210527232, 839746927, 1596556903081025539, 706912870806597632, 1603409219633422337, 2375752452, 1594172925841752065, 904422652990906368, 1548984702224240643, 1586431836481167360, 1596509835880808451, 1602792626998038528, 1518897485858623488, 1596455287661252608, 868549350963552256, 1603043178315235329, 1137829273555865601, 1472370384137818118, 1515204251479416832, 1562553594833821697, 1590347863036510211, 1424082816942448642, 923961597252354048, 1596164891752243200, 1329852672468512770, 1198410336652713984, 805009927, 473128255, 1594886134617853954, 1602320255409438720, 1600890271356575745, 1561376143919484929, 1590428876328443904, 2951347081, 1475295840969404416, 1498503475990249473, 1595410520483446788, 1595222515525238787, 112179348, 1598799430135816207, 1603391124881776642, 1585936832381992960, 1489997343063687174, 1595931118800457735, 1396806228400123904, 1597201370087579648, 1601705482191781891, 1577655265389748227, 1601027611723022336, 967477075018854400, 1044038690547400704, 1592232072663506949, 1409532247942836226, 1583057581739806720, 936728263, 1591511294997323779, 1596549123099926528, 1463041149010997254, 188235838, 1456303717800632331, 1571295780245307392, 1553059166092132352, 606376168, 1602890434032046081, 1592405997897015296, 859013653701337089, 1603275170319302656, 1501064286893973505, 1602185175579987970, 1594339181165252609, 1540020526772432896, 771750619518529536, 1591293064156413952, 1586351786926956544, 801633677503565824, 1603228692393639937, 1599492100852109313, 1585904283874041856, 1568215520188432385, 984421836413964288, 1555152409848172545, 4623204912, 1601089567389618179, 983272045, 363726328, 1462882707877216258, 1368899952668254219, 1603180823422767104, 948382207877505024, 1594350047356936193, 1510715292703408135, 1585007300384808960, 1427444227013713925, 1251553638897631238, 789261680760848384, 192374439, 1524620117551710208, 1386868983408726020, 2164918854, 32127610, 1478061614452535298, 1284156242617925642, 1588200511567806469, 328216309, 73419713, 260022146, 1576362200192749568, 1569342647239692293, 1480919888113946627, 2295656171, 1557248397660364803, 1149915078910779393, 1601595287524544516, 1601584950045822976, 1599884063707373569, 1602710947700801542, 1518730170139615233, 1603080713976397824, 1603056930209005569, 1602749223640104960, 1177325588119527424, 214171607, 918191781040345089, 1600516861514465283, 2790899880, 1590346462822547463, 3358364819, 385715249, 2400662325, 1416589163844022273, 2318343372, 1054168243177431040, 1602999819357896706, 1537217589377650689, 1581406616079007746, 164094481, 1273004247102173187, 562964537, 1598540502085021697, 1597674081536688130, 1388684402897653761, 1602232094041681925, 1574718418246328321, 1602900185276829696, 1521244514056347648, 1330939914876112902, 219950435, 183728845, 337363711, 565635143, 1602879389015973888, 771430731071512576, 1182874256805433344, 1576046835587760134, 1568134942525095938, 80602922, 1465708471450419206, 950759550830903298, 1601031848833925120, 1518744140585992193, 1325478192, 285260245, 1598170461829038080, 1602346930478129152, 3319170452, 1600490961020375040, 1176586646, 1522009978747310080, 80771176, 47526258, 370196961, 1602088488471597062, 1602083555013804033, 1356438248717864960, 26157884, 1089971938775257093, 112769277, 1598131613644181504, 1331536426190725121, 1602787624657293314, 1598412368802942976, 1562386908109750273, 11539822, 1600625223279480834, 1599876547040509952, 1600065112605224962, 1600635144318357506, 1365228180, 2922217124, 2595706866, 1376668329113481226, 1555311203769094144, 1601969105518600192, 1602741067924836358, 1602675449573826561, 1601455378696441858, 289445306, 1462274553753718790, 1602734625486422016, 318085712, 64448157, 1154020070, 1600612918072168448, 1598806129219444738, 1005448669674590208, 1602419548585660448, 1544585677286817792, 1463581312468590593, 233752733, 928380650155102208, 1602638791105282048, 1587524135185485828, 1602659294767349762, 1267469342637273090, 1602645299121512449, 369810375, 1599013240721268736, 3106833265, 839491598249492487, 1517543398571495424, 3248184306, 1588098343561035777, 1598110499429879813, 249569109, 995559444, 1600281331090456585, 24589939, 1602538681692307460, 976532338766176257, 1602547229935271936, 1602541721287540736, 1384001943454982145, 1287861001350782976, 344134837, 1539418998936313856, 1592028924875345920, 40690852, 1602503079965900800, 1434764209611546627, 1594346839582597125, 1597426528362676227, 32674205, 1466092774374129670, 1598408893230628865, 1592314524916326401, 3297912120, 1510628515384729604, 2163695192, 1602478684740653058, 1601383209153052673, 269089991, 1520536050233454597, 1602459126818283524, 1544964957631959041, 1602449064552964096, 1515893616555831297, 245596347, 1590503785897525250, 1598885276180512768, 407772998, 1256527584764071937, 1588360546750955520, 20911110, 1597798034909417474, 1597341002859220994, 1602381588364410881, 1216885361416310784, 50403939, 1555173158126239744, 1325513719699402754, 1061186749706186752, 1599718581465501697, 1043719776399441920, 1046150605620707328, 4835674500, 1115083069, 1375854679, 1445070040110411789, 1417166770402643972, 1599919573100371972, 3161653010, 1599621317778472961, 1599107774734127106, 1296190052, 2262125068, 1415784703626522628, 1601216536135467009, 8632362, 2729089990, 1550100289604276225, 1576371940649902081, 1144967641, 2895089080, 1588859489054253057, 1592616406830522369, 36768542, 915399332, 3430723857, 917367715, 1481289392798978048, 731324528, 1585970589914759168, 1487907859379765256, 1598040650, 1111095774, 1564465107178033153, 1406738968805359616, 1602173072576073729, 264099164, 2352260916, 4438734134, 1600026152349097984, 213706797, 418863428, 1586022404068937729, 1599235699546415104, 1600718570581028864, 1599758771282132993, 1597755652624875522, 1585988023086366720, 1588176385843302400, 174436185, 848268912143646720, 4696932625, 2561121004, 783479795346579456, 1601824508716916737, 2883231704, 185866313, 1289861454, 1602035316923273217, 2225236834, 1575597232090656768, 1599165660843724819, 1104190139381633024, 564813519, 793301859616239616, 1601998070430023681, 1593707686457069568, 1520763521700671489, 1601700161276854278, 1596999546818658304, 554793018, 1518820104317943808, 1557294938370588672, 1601644966836674567, 533363932, 923763368447557632, 1601973541506785281, 836427500, 1484608157611606020, 1590801559453138944, 2476829516, 1524224129540403201, 1601401649657880576, 1880058000, 1600532823454130176, 1601682475159375873, 1475804887061512192, 1594724442084708354, 1318164956030828545, 1592215133455007744, 1499675663431004165, 889604878728925185, 1601961222890524672, 1537345583391834114, 1439555716235333633, 2317528453, 1564251981459476484, 140406850, 1601938461669433347, 461705198, 19814591, 80928607, 1125489210985725952, 1245793914570891265, 1601818290820628480, 1598785991719981061, 1600155602294116353, 1501284951844556803, 1601901461696299009, 376955307, 1571317207220502528, 1600850898716004352, 1345125380, 880567978894479360, 1591090419974246401, 999792889306779648, 1601871458568835073, 14228767, 1594708228801265666, 51198670, 1472263326377955330, 3239351185, 1310054965931585536, 3033658256, 36717659, 59390103, 1546411726601682944, 1584058586098851840, 1524920828663562240, 872930463190405120, 1587561223314296832, 1461011386528636940, 170894383, 282354260, 1601806117746638850, 1597967218574344192, 878288474415263748, 25232175, 53563926, 1520167785447538688, 1217893633564631040, 1160722073070788608, 1589271947095019521, 1601711790517370882, 1517039871558365185, 1576039512760893443, 1587063641865691151, 1341874206779166720, 1278800847741218816, 1572361770756440065, 1519250785464459265, 1601765163065131008, 1601754507838476291, 1166508097, 3058610973, 1487416655789674496, 1590014133084250113, 852985010995048448, 1601735237440278528, 1427338018357014528, 742974612535975936, 23309691, 1598864349514407936, 1598415796791029760, 893310856985030656, 915373422, 856304940381331457, 1601743459743932416, 1590838670172594196, 47245449, 1601703970183020544, 190919785, 1601674045497511936, 23847032, 3416494877, 2899195720, 1599538719555469312, 1600628001229651975, 1595084785965318145, 1601601183491268610, 1601546879241752576, 1539234263861805056, 1601698192877187072, 1418064527925600259, 1459668977509191680, 834479367250182154, 950018702, 838706370690052097, 1039322530778173440, 1413183539256954881, 907033748, 1601635851594858498, 1601030860681236481, 900303026, 1582929983571660800, 1007316972084842496, 519174418, 1599372592095313921, 1601584262330941441, 721422530473521152, 1596926244033073156, 261003462, 1575204006632341526, 1535662343417257986, 122809538, 734810785428430848, 1589144231343448064, 463294188, 30469519, 1373607213990830083, 1063876021974253569, 1543043257290362880, 1601140419164872705, 1568599056, 1601499452241575936, 1568117879807041536, 1593717981032456198, 1293191593793654785, 1599267222601740290, 1036719749684781057, 1336808200805429251, 117283762, 1601488277466406921, 4880885302, 1597789242473992192, 1355012183982137348, 4796387655, 1448105077579960321, 274416421, 28115495, 759422586878955520, 41938636, 1598896496535113730, 1009946428381130752, 119452728, 1597808504961744896, 1467998163567058948, 1601047163517243393, 1601416561927114752, 1593586491552370689, 1440330454318469130, 1585828129192419330, 1443347724603101189, 1711607647, 1122155791, 747457063538724865, 1087436075772116997, 1585407471497125889, 1041071034554900480, 1598055332185604102, 1601372002861858817, 17631678, 311820760, 751251403058929664, 1598194510722383873, 1598896953223532544, 1601337875517382657, 1518680203362451456, 1598476773783650305, 1362163160376102913, 897768939706515456, 1498017646926774282, 1492194087998533636, 34900870, 31013567, 1439030485833949192, 1379678115367157766, 746957667671883777, 946236957453176833, 848455540623552512, 1127357411881308161, 1506074067266412544, 874107192, 171646609, 2947554843, 1140055934791835650, 1334872375213625350, 732041205744316416, 1600720458994917378, 105901468, 148209273, 1500184785234403328, 874600413709959168, 1149014493856485376, 1601192426667900929, 88783118, 998836200814399488, 1464106378180579328, 2160007625, 2540139996, 1597342220322934784, 1601228529110159360, 829811440374517760, 1466201412971474946, 22825634, 1491694828744318980, 3330021658, 1453636452269506564, 582833287, 1226349959773130752, 1601075344810844163, 389129140, 3328142950, 1598643109008740353, 1541667703345266688, 1601129908771717121, 1628140405, 1596445453121245184, 1587664464744046593, 1057931816684859392, 1600909440944840704, 1508819735353466884, 1461565344561057793, 901775486, 1601080847960276993, 546389860, 1591693299907145728, 49359939, 1342744646431121414, 1507137082472476680, 1576883989255798786, 93732095, 34040193, 1487572764223545357, 1456558821304721409, 1502690228800270344, 1600655583639752704, 1433076025907421192, 1522272362250616834, 1560310940259827712, 769369215874822144, 1370457687046127628, 912327733090201605, 1019395225201053696, 26853547, 1600594473964212226, 1601006626114134017, 1499187023244050436, 22461508, 1600990217590259715, 1224720273968156673, 1443045137412673541, 15383821, 979110280318898176, 257719732, 1597071239679451140, 310019496, 1125907508441354244, 2304319789, 1599204149673037829, 1600692670682243074, 1236061178268397568, 1548171698083532800, 8841002, 1464103332503601153, 1600961644187754530, 112497270, 1514596861557952512, 898825356, 1257296078287798274, 1514583736733638665, 593347194, 1600939726957326336, 1225584306, 2833229872, 1600916408925589505, 3772302973, 2590778402, 1593322183161511937, 1403654316704026624, 1044727406702075905, 1594900764668862465, 1202174443793125376, 823978903438036995, 1445753405348089866, 830926094047940608, 1408727790, 2242385413, 1600880136727007233, 1600878897188536323, 60148903, 13226812, 1600597087154016271, 1520576154079358976, 599582335, 43689490, 1582318233029431297, 1497456707051552768, 1592702483016478720, 1516835579870302218, 1584675442816176133, 822773658242469888, 1162162943498346497, 1588514853655822336, 1521484795309703169, 999055575685193728, 1600578358999400470, 3881878473, 1519457485639274500, 3436645539, 1594377431917514752, 1345774394782732289, 32647231, 1585903480081891335, 1569523413743726592, 1387782903564849160, 1591416078802063361, 1530229486888767488, 1598823443495002113, 1463798294765719553, 1590775603069947938, 1387067309181767680, 1559225041140826119, 1599684820434567168, 1600797913822597120, 1560191799259344896, 1523948641131675648, 1600669681068773379, 1486486502825771017, 1600763761085890561, 1595814131449450496, 1518712747625787392, 1434891661449039878, 3428100550, 1511167063515090952, 1417383714594557953, 34981857, 1597596321850040320, 1354258802497835011, 188445931, 2861675493, 1579180464795160576, 1557241871738486784, 1600701181407510528, 1596786171254013952, 1346936141665234945, 14385602, 1325199147050266625, 1573089997326000129, 1597382053435248646, 1596196986260279298, 1599575408726269952, 2416444501, 48300545, 472361740, 782520697, 1600645882231283713, 358879616, 159959857, 2687682480, 1514409794110693379, 1082599735117209602, 1231962994696912896, 533281203, 2555441798, 1590056577192583169, 1600634711822536704, 1342122074, 1585034455760216071, 1062082364, 1600452977361358848, 1600640963659157504, 56995462, 17194197, 1597299348278231040, 1599233051757797376, 1599218367579262976, 226454291, 1085367006185078784, 2478847739, 2783065844, 445304805, 1592864354344620032, 1514275737058136067, 614353747, 1531749236437557249, 16642453, 1513323286461128706, 1508903075628597257, 840663164484235268, 1600125738056818696, 1491133748, 1482554360861274112, 144249931, 1491210752824250368, 1584594405507350529, 1183422003254120448, 1097251665801969664, 1589933830944727045, 1600062654512447488, 1598374436171911168, 824308503150002176, 1543079841431519232, 21779964, 1600546186766827531, 1243288131354398721, 1514799048074534920, 946531245927944193, 1527460887333949440, 1263240356226793472, 1512165765004283914, 1599789748914163712, 1490339942, 4766558375, 794554827288219649, 1261082846942412801, 65114416, 1591132822588227594, 1319622362711687169, 1300170043376967682, 3348712684, 2998953426, 2869438274, 1153490641906745344, 1598002872410677249, 1600474127978020864, 1600226785194610724, 1588628418425458690, 189054393, 1303141318332485632, 1346870228723097600, 1283421722180542470, 307628221, 2184651551, 324828033, 1342136406035017729, 1595872453812789256, 1023249853357293568, 1597919411893067776, 1547341647008210944, 896266855, 1600337752226029569, 1600333847815942144, 1441742064270462984, 44035829, 1600324333720723457, 1472035149063737348, 1584022507426050049, 1600197792764395545, 56542485, 23760076, 1356100487100116994, 1494737424886517765, 1486752763124006923, 900528421, 36318729, 1600273911895269376, 1499018129497808901, 1600272661560573952, 1597666554363133952, 1506318916825591817, 915294656082190337, 1556721278312099840, 1428088070172254208, 1028466926031384582, 1523065105851822081, 1368317409266917382, 1139608848149483520, 1600212947212591107, 1476158131382194179, 2591753707, 376924176, 1599854615259922433, 3302628702, 1585795418507681794, 1281297386, 1530948272847740928, 1600194563687186464, 885324517303701504, 3296897391, 1591834936994140160, 1599475432390365184, 1596934916893122561, 3406452562, 1599918905803390976, 1600173691140284417, 1452450426201284612, 175921963, 1577727546921291782, 1597414882399379456, 624388444, 4317207740, 1443986193985769472, 1592385441537626115, 1598518807621943296, 1118224864974909440, 1522171681393250304, 1524850413236805633, 4313029634, 1600140983752163329, 1599045348571357185, 1517246448559177728, 437101059, 1525843625795457025, 1252667395396767746, 1582433311321952259, 1594403327445553152, 1587871098548486145, 1385458224518860803, 26134908, 147082798, 1369354063708450816, 1598436777001467904, 929120799646212096, 1496684603834204161, 1600058523517329409, 627870792, 1460536034995974147, 1473911770498674689, 409248699, 1600047872120176642, 3301135179, 1599644485264211968, 75721210, 242849373, 1600012511759040513, 1599990120379166721, 1592442497573289984, 133479678, 2402610510, 1161451734385881088, 1599979859383664640, 1480290278091149325, 1530625200827645953, 1559944521559019528, 16304806, 1171058726, 3427388813, 1585958072916348931, 845218674, 1598794283305377810, 110564322, 1599953439655710720, 1593038957301972993, 1592909417175207937, 446692998, 1477809695373074433, 1594405233098194945, 1056417626, 25939776, 1599424132252372992, 1506402321709686785, 1594707464238383106, 915886189, 130473882, 207175417, 215829572, 298994936, 1592245424827637761, 64210471, 1599879498660470784, 9135042, 1504181679681945600, 1587817743847460867, 2308646635, 1593620964176105472, 1235942733052882945, 1599793731418431494, 71145429, 1272481023549374465, 2945757041, 8223792, 1163207117626597381, 1598763331585703945, 1598825888833060865, 1381349916526706690, 1599791828924260355, 1285712980412444673, 1599759081752842240, 1590720603681701891, 1599254624623595520, 266628933, 807987617950208001, 1345157049286610947, 323889678, 1597352210333138946, 1563187852917501959, 1597647720336031745, 1597324200229969928, 993869164854079489, 53662474, 42805440, 1578161875065389056, 1100189273318440960, 556459891, 1389823180047413253, 605764130, 1425473690398040075, 1599081076223352833, 2793830212, 1378607346071568384, 1544242862958723072, 1546056069012721665, 2313824077, 2686173601, 1586020993193062400, 430090903, 1539322387790823424, 1599636612777857024, 1544465154615779329, 1586062801101004800, 766361008101285888, 1356366103841222657, 1598179269653430272, 1599582049786101760, 1497103886787788854, 272293945, 489984549, 3194513960, 1599596534412238848, 739096604662222848, 965140956021342208, 1586147511751811072, 1599487613710106624, 1198776077289738241, 1598117158038679552, 1330397707, 1578485972089638918, 25571468, 1426239218, 1069065079423930368, 4665064114, 901869684731072512, 899790669920821249, 1587642456643862529, 1599555972053274624, 1419375733928075270, 932965004961124352, 888053872488566785, 30941197, 1599288497587847169, 2558403154, 1591895000476012544, 1599107352195645440, 586651406, 1559864064624529409, 1599506591266504704, 1599030107728928770, 580595127, 1598983293533184001, 1146625990384398336, 15041057, 31007181, 59061743, 43959151, 1599003037561159681, 1503638376087539713, 328744243, 556303115, 1599230445559898119, 1599461083282128896, 1478763820977823744, 147701989, 1599420305025503232, 4857412019, 874409797, 1599438820658876418, 1574192008775737344, 2358383649, 1599431866485972994, 24362458, 1496823674959187969, 1475832880202981376, 1347200249274785792, 1594103474165370880, 1599408759540957192, 1599417159268048896, 1425563266659635209, 1518774557401833474, 714881430166351874, 1598275754609053696, 1263201937, 1554468682981691396, 51204750, 2391660562, 1556376640422383618, 1598370151514128384, 719154174303322112, 1529970116485603331, 1597624343311302659, 1596466757492940801, 3032301149, 2910724555, 1572891809201659904, 1598390734348062725, 1585263027854647296, 1076851115096969221, 1598080376399974400, 278585432, 1598968610629853188, 428451380, 1599018205611057152, 1373574160295804930, 1599292494239367174, 1325342012, 348240057, 1574117907579166721, 1599222237944504321, 1589139319385571333, 56724832, 2316001586, 108009158, 1536834091953307651, 972488866010685440, 1569872755696467968, 500288997, 4159447180, 1528530971192184833, 15224749, 1564707945874485248, 1539084485391699968, 1359706350264061965, 1599248672491196417, 1599263186422841345, 1598891261225836544, 341869360, 1599226581792292865, 1586734863742386178, 1597495493961125888, 1509844918566588418, 1599143410468016128, 209421315, 1599206019221127171, 1595447127760461824, 1430507876288716800, 1229428153149542402, 47494940, 363344277, 1346292596864376833, 1597767857571364864, 320433030, 997472031615668224, 1599189366810693633, 39590039, 823964686617956352, 21981354, 1599166228953812992, 35308937, 1566622972248334336, 948391422171860992, 1196992243308982272, 1599152281848610817, 1599178000808833024, 1599146369410908160, 1340101744542576641, 465639391, 1547011998906466305, 270629141, 1598785749356249088, 1032112495538917382, 1049698005752807424, 1593730940869570561, 1559502541964058625, 32767384, 48746050, 1570176465425076227, 1477718421769007104, 1179817429771395072, 1598984958827270146, 52629714, 1560111319226925056, 1599118597971918850, 1598832327941148672, 626805749, 1598848155990511616, 3298658987, 1590365424398602244, 1463600103168651280, 1568520005112811520, 282359452, 1211826779721105408, 1495541712730664961, 155732167, 1599077142675030020, 1463139606803537925, 1599069151217213440, 1509272632432152577, 1417497781661540358, 1165133727414083587, 1508270980292096002, 1586789972706836480, 1599043552457232390, 1467554505457901573, 1415134172142837764, 1317557112436854786, 1599037931087331331, 1597645498160119808, 1581294451938451457, 3236232911, 1505531762818093070, 1599029130153971713, 1589244152084107264, 62638733, 1599018349383630851, 1599017725715566593, 1599007524270886914, 1599011720646852610, 6450962, 3387806855, 1314016790998024193, 1243200421818241026, 898900164709974016, 1426782206664511488, 1598973195952222210, 1553549386717741057, 1598631814809133057, 77342485, 1247428736192045056, 1598940601428459521, 4786185689, 1597198258924929025, 861265451673956355, 952600835107717126, 890676573967462400, 1588602474532831232, 1598915865768267777, 35915596, 1010683587560001536, 49874366, 1544968548472291332, 1525624568748318720, 1598905930476830756, 275135579, 249199499, 1545253230342553602, 1483757474486366214, 345806923, 1585849295269498880, 1578551580776972288, 1233624121386377216, 1598882047249899520, 767557314823925760, 1598887942533136389, 874795880, 1598881808858447873, 1572070300497416193, 30249596, 1598871893477662722, 1536583540556476416, 1597771473615216642, 2925002858, 60794457, 803094527825297408, 53271473, 3712946235, 1590774108496826377, 1088005584115458050, 1598847250746204166, 1594365179671764996, 1598798428301307904, 31108560, 1586401806996934656, 1598844921213222912, 2891605441, 1457053386671591426, 39080486, 1598849408585666560, 1559939799414341637, 1598839618941882368, 1587889144495308805, 1598842453725003777, 2347666278, 804566619209039872, 1529171082376318978, 803104131330297856, 1570809111700275203, 1518745768265502726, 700965078, 1458274616162459652, 2536101860, 208031307, 2280509541, 1598821890465964034, 1495618352324259843, 1484863542713253891, 1593010465726242816, 1029489229284499456, 1598827363923812352, 70264128, 1598796646841819147, 1138927824, 714197186154639360, 1489335563073343488, 1598704893157670914, 1598815064949248000, 1558599810, 236534676, 1598815057961435138, 1598434041102999560, 1598808363466625024, 24233315, 1361586838540939266, 1598801436451774464, 1549172497614086144, 1598780531726028804, 1598794808453128194, 21582807, 1246126225376100352, 1518978503273766912, 1296154732625563648, 1598532371694948352, 466504816, 1283932551518679040, 1486272985296158720, 19061410, 1578772196213784577, 20826286, 1567158954735665154, 1292306851132923907, 822607887348486144, 286153276, 1017969221005869056, 1349024527653761032, 1373676058197757955, 1854071882, 1298790156363878400, 1598738874850840582, 4852884499, 74529070, 1446906838855962624, 1484646842574983170, 1510730241614000136, 1517316659027062785, 2364418081, 1319100638865784832, 1563195112288813063, 54940551, 55022751, 1227409404489801729, 314553970, 1520486912519200771, 825690001149095938, 1504125029390368776, 1403507973352210434, 1055922277257306113, 1267089588822179851, 1463851605724483595, 880771304076476416, 1597588682365599748, 172851241, 1021166092302110725, 256730808, 1574500310588039168, 248868951, 1598429762015219712, 2573350604, 750129148891312128, 36231273, 831171634593669121, 1510476129336967169, 917858190716555264, 803771070, 49748120, 1229025953910796291, 910733505897816064, 198169041, 1595805635232542720, 89728424, 371351933, 1375518541839958018, 1158722246933803008, 397476213, 1146385384680517632, 1968058004, 18196840, 241642055, 1146082906156044293, 1499835752041046016, 17571322, 1596843331950063616, 1439913355527929862, 3163282170, 2600527493, 1598361164802625548, 65381413, 1598620235719909377, 1276880859853991936, 32846209, 1596476945235169280, 1598470676347756545, 272376970, 1326998026808745984, 879978624845312001, 1239578537868144640, 1532801148209582081, 1403758133760172036, 1496743657696907267, 512402099, 1235561544, 1456505018752790533, 1466560366108979208, 1597116235573088257, 1598575045470814208, 837064077578928134, 222276295, 1598560243835080705, 3614112917, 1454943040595013634, 1589750488110714884, 1530623191068348416, 1388691934085066753, 30630696, 1323671583366344704, 61557277, 1736704700, 1144022108206448640, 10216, 278373849, 1597271921808351239, 1574755776853417985, 34510360, 257648402, 3252271285, 4713197830, 1568924665753501698, 1566726833541873664, 325959286, 250803007, 1598053978390003715, 1475725544415109120, 1311701726542536705, 1386365665326555137, 526957999, 1054526560047370240, 1490882885297057798, 1597795615957831681, 2184472106, 1598513653665382401, 1569337514594287618, 837025182992642048, 55090130, 1527513391010615311, 2798622528, 1507785598437888001, 97261054, 1597426050367111168, 1598428417535385607, 1598500765668196354, 1597652232895430659, 1597416784235270146, 1598496031435816960, 1728435415, 61947918, 1598018117392863232, 708591957908525056, 1303447282638041089, 1553276323522433025, 521536962, 380342467, 1199316835050643456, 1240303444604395522, 2745895381, 3306608477, 1598466212039630849, 1592997258701807616, 1566546897283719169, 395462505, 1201385898765701121, 1597632524435574787, 500114723, 1598467790918352904, 71388724, 1597266956901490688, 16710228, 768101262864764928, 1519704368441929729, 1574641806746288133, 477597714, 117535296, 31599848, 1572677955767205891, 231568327, 1350153211, 461682555, 945333475850248193, 1276589020693266434, 433354346, 1278480775718076417, 2176605931, 1215589882128740352, 1598438632968290309, 975084007519064064, 1597709447455035393, 1095774132, 1236478447037419523, 913348676, 1581135364273541120, 336193443, 1248271366610132995, 295361616, 1544967677030039553, 985977714, 1596996480807608320, 125144997, 1518693298197700608, 450659492, 1594150421328629761, 1319454617755844609, 1368959058678587392, 1567976204396814337, 1557685450671898624, 1598364485705732097, 35001605, 1574165855230865408, 1584899995534254080, 1580990436482682881, 1598409667801010176, 1487014150836527105, 1590084443963887616, 1481085110225100802, 1593052873071411201, 241984277, 3303881126, 25592698, 1381749520279642114, 1586079624152420352, 237251914, 1301969428326866950, 1387107749536862208, 83465948, 3069523786, 1552875571616653312, 48507835, 3001689783, 569367979, 845078986678026240, 1720903334, 853640324, 28561146, 1272877301420654597, 88046423, 1570853770137051136, 221863882, 1598385796133916673, 1543785740332580865, 1578046953442742272, 1467654902507839488, 1552175386087268355, 1068136206851035138, 150732860, 945286297211387904, 3257369827, 1426228076191518725, 214574139, 1326668723181268992, 47071646, 1557845681909415936, 291380841, 464778497, 1598257198680997888, 819300112568459264, 1343208810995970048, 1335221316182478849, 12571892, 1498321404491550720, 900504920, 1457203500392267776, 2523521410, 1587620545897586689, 576259121, 53193646, 19361171, 2832781487, 1598361235094999043, 54652599, 255063577, 1428789309914632195, 1092805692010962945, 1597626136162443268, 1597983996046020608, 56500487, 1559612161592365056, 1598340323150688256, 548378551, 1586868222795685888, 1591834896573538307, 1501131347976503298, 1585386894141128739, 1125755079607365632, 47652616, 1588870050987102209, 748166166082949120, 20702475, 1217539885894131714, 1567120337258569729, 3394584251, 1509246632214290441, 1457435720516313094, 1595895669134352387, 1232340444589314051, 1597780450767998977, 1367897641040949259, 1325076804013617168, 1597998756871507968, 2482354479, 719632234, 1597708896214188037, 57184024, 580625051, 1597367630897319936, 24824720, 1586168132489838592, 1545642163941228544, 1597723579679969280, 734904252, 1441146679248388102, 839514317150003200, 1499519086157615111, 4496964072, 1588052120149827584, 1359311431297081346, 844096467186864128, 1119571138034716672, 1325781617382711296, 336207880, 3321460117, 1596477594030964736, 1433364018845130753, 28257248, 636534022, 2758669991, 31595990, 1345160454864306176, 1446373983427964929, 1514292842407071748, 811767222590963712, 1100192877483831297, 863549564, 297991087, 1597186546238619649, 1008311484185808896, 1577654954373697538, 1583423427645423616, 1553882431979225088, 2194432534, 198692888, 911765885437775872, 29594787, 1409212758734868484, 1584332031147778049, 1502260456303788035, 448103195, 606330562, 60318090, 37819074, 34641090, 113178444, 1518660771173081088, 2795984151, 1504858681678180352, 1598259489610010624, 1598281913667559424, 2678223816, 1598264385222459392, 1021333712514965505, 1317073403648638976, 1538143969091235840, 28448602, 1412621356106125312, 1654179840, 1429386973, 1491016766050291713, 1597712111601418241, 929827832171323398, 1581428606529683456, 1416422646, 1061463098, 1597996177168941056, 1088611430839054336, 1579774231411310592, 398979088, 1526502772652363777, 1593635160578265089, 891097976, 1195966064, 2319330695, 1592094921388920833, 1849958540, 76921975, 893438761169698817, 1504747737497194497, 1229081362969264129, 1359898447986491402, 1333477185747824640, 1598250388171685888, 1060133644763828226, 1476121330818990083, 28766990, 1588266659164430336, 529441021, 703746325, 3434272546, 3119056443, 1537089381260984322, 603223728, 1685688266, 49281006, 1592946567992020992, 1598213630570422272, 1465950578958290944, 1598230068115177473, 2276801272, 355088957, 1271267561523621888, 556819399, 3331424763, 2480467238, 1591419563857649669, 1591731998015602688, 1598223611755642882, 1514832376924459016, 1378262742939877379, 28784867, 304954767, 1022227968964190208, 93089653, 922834716931252224, 4395843552, 270986978, 1597108386335789058, 846979363165929473, 1514988050409046018, 1598215241321615360, 153370458, 16352958, 259182289, 1595424957671956480, 487756933, 1479311431011024896, 102132165, 1584142411290144771, 129987951, 755227235003412481, 1544933360321331200, 1213514970580676608, 397769490, 1441917176391237632, 1076291176104370176, 236861564, 45419483, 1565839453935091714, 2783757256, 831244502, 1034560817319084032, 24674386, 1568808874517434370, 860556935971700736, 1519042826822033413, 1569365522738724864, 1590888747523969024, 1240795060398153729, 2604255790, 1547390204381732865, 848814861849112576, 1577150510448230400, 1541978222149210113, 1591390736, 1597975758571462657, 71672818, 1594806012569067538, 74822488, 1598174009828544512, 17600053, 29381558, 750484435, 15145369, 1598174340574576641, 2352610488, 1547256213372633091, 2964847239, 78672230, 881444076, 1597746136894275589, 1149523408515940352, 953030475613863940, 1594143993603973120, 1408985467, 739706163231608833, 1595664087748251648, 1176248469675102208, 1530270956169601027, 28533952, 274675902, 1598164156531691521, 1598157645969788928, 3009674222, 1485661471824621572, 1042600113783431173, 893243486954151936, 785644231926829056, 1410445754959859713, 1578051613545177088, 3342151732, 1167444554, 46993092, 1195915055952531457, 1583735321937809408, 430816396, 1243683036002242560, 1533318320694480898, 291468325, 26303363, 1347027688465248259, 87832097, 37548134, 845671809236250624, 1040459135035367424, 138579072, 1386501460591095809, 1540475555329351681, 1586463192154140674, 1597759291821375489, 1309627471151730693, 784841950734278657, 3481885101, 349496228, 1329671785558781952, 1559647665159393282, 1558423457087504389, 1450238498536001539, 1597924590642003968, 1009128097390776320, 1483596215203811331, 51572305, 14435971, 1519246837554814976, 1590388465241362432, 2745496834, 1464923503048593412, 1417766045155217410, 785986695715917824, 1594521610702159872, 142754255, 791781924448657408, 1563571976924344320, 1586895153758752768, 847458727082971141, 1141028680342351872, 30879592, 1561786744185446403, 1590740780989177857, 1551435888839860225, 1334582012678696960, 1561349777186590724, 40694035, 1598058326746550272, 1470098016988286979, 157764095, 76662618, 1238226065547542528, 381007294, 1569508449515622404, 2570597560, 1435779925143920642, 1429131496112246802, 1490625720942485505, 144485378, 148159084, 153830510, 4241360052, 14241665, 1091743220529332224, 829378235205054464, 1594343169415602177, 1598134944848560129, 1597400853547307009, 1596176356089511936, 1374569155475599371, 1488230075992584199, 1546275535793360898, 2459449686, 786334036016922624, 1443017145416175617, 1499621086497058816, 45382674, 1278753776111808512, 21974228, 1457513727893196803, 1284291329317642240, 1341823829505675265, 883819698449637376, 1498087142223876096, 1549601503731523585, 1592672060769271810, 1383043873971183625, 1585800255433543680, 201015181, 1458602556708605956, 47883437, 1534715776917295106, 1532793471106424839, 948582081575124992, 1519853294931390464, 46078341, 938922180980756480, 1591851054563577857, 1490688436470267906, 1442627891112468480, 1501644917726236675, 1574019949407920131, 10820722, 2942422223, 1308708243783315459, 1593774927743795203, 1532187435316105216, 1598106919952080898, 30892085, 250895270, 25991664, 989708478888456192, 1492967983131639810, 3517705575, 1598088782519099393, 1435746132307726343, 1511276354276372480, 132380447, 1477248055250407427, 979174125653573632, 1519392835593641984, 761649120117264384, 17642080, 1594057137721860096, 1482832863867412483, 1589023546130546688, 1502051001771212804, 14738870, 1575306228451926017, 1518684124482998272, 1052355909811412997, 983883613, 19098045, 66984067, 907022178524184576, 1096952887, 1389048211105583106, 1598043479346540544, 1285952893925957632, 105661513, 241759190, 1289319424110010368, 924972817208225792, 1311186954378121216, 1478600574606131201, 1588503867477606402, 1292118708706398215, 1526307302487343106, 1374796669351464961, 1590689944284045312, 2673454422, 454648406, 1590790123062525952, 1597728482896797700, 378032399, 1559933088402227202, 152315654, 974431054202318848, 184935811, 1597961969209937920, 1585868240554790912, 1439994051982462983, 1598003847221256192, 31267114, 1596558669088432128, 1577051582948118556, 2391084679, 1234926695620079616, 1586417801757163523, 1598048262006636544, 843257602511437825, 32172564, 1477814419, 1488155540077301764, 243354570, 245210299, 1586086686773186565, 19799108, 1590410307146600452, 909550548, 950698500, 1489392559369687041, 1435279056224886784, 2602063603, 174779305, 1314326950383702017, 1459269675465023492, 1588690281570136064, 234314889, 1578366481695399940, 264514790, 1507212290713546754, 1571480018940829698, 1593084867205812229, 1582804870259671062, 3949427675, 1460464349454163969, 2826898700, 1411804948283723779, 1408875569639563266, 65761791, 1442831015500730390, 23590445, 2756224209, 2183936735, 1385271913367449602, 1495327101951651840, 1597740660857225216, 1051803639399030785, 1178388409741643776, 913824706557616129, 381499804, 180294198, 1590078049105899523, 22249484, 1587174903719120897, 1496117583367528448, 1300172659796267009, 2838456620, 744993082639159296, 1559152397850923008, 229338849, 1597214337147572224, 1064574987661729793, 243980736, 23088397, 1166613517719543814, 1288573269059219458, 1437157628, 1555111420429205505, 2872320725, 1483261144269787138, 1467912612453273607, 4067344227, 1577764614384848910, 82313455, 1598085155855519776, 1456376487184117760, 302504619, 1440699210068725770, 1131146821, 1467966418842898432, 1527041752389013504, 1597447867240960000, 1590667657724006400, 1595155641059770368, 1573141620429656065, 2378383208, 1351586007104286725, 1221525145627422721, 565060128, 985680577604083712, 212663125, 23712199, 1289424016877461505, 2510937094, 1506375935083245573, 1476599442023268362, 1515427613849882625, 591213922, 1598033577693806593, 1598030509359128578, 1565851214058852352, 19870742, 238270844, 103898008, 1573285500483342336, 1597635443335598080, 525706573, 1523626805625823233, 1236483460849680385, 37990993, 1183884313936433152, 413273035, 418345478, 929563559255670784, 1592879100489830400, 1412509074781003780, 461978584, 21256626, 1323857915984293888, 1452747253890920457, 582318943, 1154411366729617408, 1595418300426719232]\n",
      "We have 999 data rows for tompetty in the follower data file.\n",
      "For tompetty we have 0 unique locations.\n",
      "For tompetty we have 0 words in the descriptions.\n",
      "Here are the five most common words:\n",
      "[]\n",
      "\n",
      "----------------------------------------\n",
      "\n",
      "We see 0 in your follower file for frankturner, assuming a header row.\n",
      "In the follower data file (frankturner_follower_data.txt) for frankturner, we have these columns:\n",
      "[1330854349694758914, 16951694, 1615046682181308418, 287713281, 1524909449747607553, 4484363789, 1967895096, 1604054673119379457, 1548714423346688000, 1202282094589808640, 1123615855621885955, 1588983585448628226, 1595237911254994944, 1569676754629070849, 3458160675, 1614652280443109377, 984790568, 1608124558627819520, 182501156, 626607606, 3428619766, 33569295, 1610504606936694784, 1612633399843323917, 1608834527446671363, 1545235967669424128, 1608832927990796288, 88556909, 1567029769560014848, 1613152868776681472, 1535927597208592384, 1588095893756067841, 1166240493992325120, 357009562, 1255166091858513921, 1592483474002386944, 1608574339992928256, 3110204002, 299481267, 1613695917743284226, 461068960, 2253034167, 3386161654, 1612457448350023681, 1544552958662172672, 1257296078287798274, 1421155838551601164, 884138468, 1524836876342939678, 1489930784332943361, 1563842626256011264, 1561150310608945152, 1364280147814318080, 220806062, 1519490905899732993, 1584437638769135616, 1078395852991983624, 56810175, 1073728615588773888, 725102640552546305, 1233051312973131781, 1602550200060583936, 1612986379293573122, 169573715, 1457364442015010823, 1390514239887052805, 1612916628705910789, 49569236, 944778685, 26778753, 1611833837465620483, 1612384568941883392, 1438715721861591040, 1489962000939692048, 1601179758573883393, 1611097532750352386, 3664119087, 1469764179380912132, 1549411419497676801, 1443931905683038210, 895702346914779136, 2646857697, 120806197, 1608618016983449603, 1612307234561888256, 1611982617343148032, 1611935857916923906, 103965132, 1353496627919679489, 1474865085839519745, 1130827632877211648, 1449257272929099782, 1608485819928428545, 1270060134430117888, 1611808336101445634, 1294258028200378368, 796797951620317184, 66388551, 633072769, 1599694039967797248, 84099055, 1609256638824710144, 1444136337171484676, 27074505, 276989347, 1571713947572604928, 1598518708833423361, 1558205363991748610, 2841818516, 1611455529527681039, 765952797414133760, 1367418721942257669, 1369065383047618562, 1474047441192239108, 4864965106, 18219565, 10692902, 1569543421098074114, 1606628150066176000, 1596183047782731779, 1562386908109750273, 1609957696790216707, 710345394, 1422356626967826433, 20021997, 60848564, 1502724978667667468, 1499038462481207296, 273113733, 23483816, 1215620910771843072, 1447653326720487425, 773487786716491776, 1610589849400086528, 1601957127320489986, 907665764525776897, 1610754612616695814, 4332175413, 214593016, 1234674556670857216, 224511948, 1603380013252120579, 1252336731845726208, 1603423580900966400, 1078269196046397440, 1360103609543761925, 720389806526582784, 1234541666431905792, 1610609071698182145, 1532357606844538881, 781885523765977088, 84372938, 796289636431761408, 292740672, 1506789576655876100, 1557359836656013312, 1321950743658549248, 86871028, 374004834, 881404345, 2915552099, 1609326251293941765, 97884557, 1197790216116932608, 1254112947611348994, 14455877, 1454111952989528078, 1131167238965342240, 2632246660, 1587853586553348096, 16616025, 161743099, 40686645, 1060443636851081216, 1521850353884540928, 376702952, 1587138595168591873, 1606089533493329921, 1577944517273157635, 1609884665627697153, 1609867675747995652, 2884271220, 1608705721042079747, 461128959, 383766339, 17884677, 1609676999793991680, 1571495944281067520, 708746017525669889, 391683314, 1609480635298480129, 264562184, 1543197937085435904, 976186572, 1606232543266734080, 1037894940913803264, 1609461475877490691, 1207535183911628805, 1570620199, 2393256474, 1513572168944156672, 46252651, 1609234196425314304, 1583525707816513538, 1541871253908328451, 1135307226, 1298216994467004417, 1558408852617527297, 1601013531343990784, 4892379298, 1549069624641191937, 481306555, 1609017372681060354, 1608941364544159745, 1608234034248777729, 1582792028756512768, 1605737913186390016, 1608901726920114176, 1302004372465999875, 1604540157784428546, 1597134071762673664, 1569371309334827008, 1312136711032442880, 1559542092854181888, 1523422765210087424, 1417788544840605699, 818064796142669825, 1606358683809611784, 2743362995, 1608500688572583936, 2308638163, 1182349130712023040, 53938471, 2225236333, 809146744110018560, 1601728008548663298, 1006341486244331520, 1401957895642681349, 1602011421847461888, 1607874816966594563, 78576088, 1608147804932771843, 1437897021566894087, 217908251, 1041022430230327297, 20955924, 722836708551737347, 1606675924220510210, 1606017050673090580, 1026130555132370944, 1332653990069358592, 1606929212203565057, 397383089, 1593239726475333639, 1188555278121406464, 3242767376, 1370276007824003074, 1605009704350105601, 1563264008807133184, 1533723990224687104, 1607843145944899585, 1428372836062797828, 2883310509, 1254793664896929798, 1247522378164219904, 22190884, 1607434962004836360, 2716195936, 739041433, 1600427113097617408, 476193325, 1607706410510327809, 114528943, 1602215613715435520, 1568673764501757953, 67125007, 1260994237597773824, 1607485965580255232, 1301010283, 1228400036, 802343820033720320, 3034809680, 1569012054228361217, 1599481004485476352, 1460157088030724101, 1486778063945969665, 1607280277432270848, 1574602569472962561, 3078948441, 1602774674470993920, 1583104380038955021, 1480139948070215682, 70548480, 1207019290895044608, 1553322288568848384, 1598851067143458816, 1292699684507656193, 1408709579064610818, 1606317123260776448, 1302965311394676736, 1600221992535396358, 1380814323757514753, 1600564058893197313, 841276690487750656, 1546136508423409664, 1605924264128937984, 1225787531767185410, 1529973196744712194, 1531410899856240642, 1606650059222925312, 818675451350675456, 238251158, 1546138295717056512, 587582017, 1467577931543330816, 1324322288406274049, 1606425151951847424, 1595060187806720000, 1581016988658302989, 1259050492598026240, 1598763532073459712, 1605732003151859712, 1350760872730353664, 807027078, 1604593957970780161, 1198953253993668608, 1093526236335431680, 1605624367852945413, 1584983528437153806, 1605889554782765057, 1518833073101897729, 1520127014413426688, 1604313742254252032, 1243927036013547520, 260977640, 1586477640512204801, 1427576350475444259, 1597811929149591554, 1605603404402794496, 1605664081830100992, 1506670215593173003, 1570353524797587458, 1533326629845475351, 718363357305270272, 1336197140817866752, 1604186558017540097, 1021861344285478913, 35305607, 716145330, 1582703251107053569, 1553714286681374727, 1582804014470660102, 1580157193688604677, 482827704, 1576286982845734914, 1605221932437311491, 1498028112080162819, 16492612, 721521394023079937, 1322997724988559361, 418600170, 1051320309918457856, 1605481796828860419, 3432922557, 1306410993552109568, 1541929584077295618, 443089808, 1455582252553981957, 1467714480477982724, 1363300406516998146, 1469640389686710280, 262716765, 1254757532922511361, 63948226, 1566158544302444545, 1596981574238720000, 1605233945007767553, 324969047, 899660206728261632, 983171228, 64908093, 1222746894046240768, 867095470853824512, 1519068628930465794, 1605277568508186624, 252326323, 29156537, 843747024, 121589920, 15957098, 3092760622, 1597324308963102724, 38889649, 336302180, 69902924, 61824311, 4727969596, 3879026669, 1421482562887643138, 44268637, 1590418493803040771, 221299508, 32019501, 1125431858, 4890303406, 1518391882996494336, 1313455784227991553, 21117374, 1552344033267179521, 41100807, 1449838010623746053, 212711223, 35408870, 711963540672925696, 1431849566719127553, 539189249, 148473906, 1066298618397655040, 928177542, 14502042, 1537630159968296961, 26826499, 1600891198251597824, 353973974, 2342613998, 1456994806777909248, 202857623, 1959614984, 872595241, 147504558, 841872024473595904, 1268570231699501056, 577570362, 1268718074187915265, 939178641530982400, 1580662255129137152, 1393917361913311238, 745657746108850178, 1003306478609010688, 1210729062660026368, 910499326283145216, 52098444, 39327224, 1553524038416453639, 15127753, 1266863414019788805, 1567541570685083655, 281730547, 274051836, 468282919, 1473264846, 16595062, 1657760077, 20385847, 114235861, 845987551, 1250359551800619009, 1040674912439021568, 1595252269913612291, 1604633771348746241, 1603509556474175488, 1587075884581883906, 42534192, 1344693399727845383, 1604587729257365506, 1602283387254972419, 1604660426859597825, 1604622379346497538, 1574542476945379341, 1603472705029824513, 1561384337941172224, 1528945427432632320, 1505682273542328328, 1602667478080946176, 1519807609938849797, 1545465770729160711, 1549422338491535360, 1573425860639612942, 1441197272381878275, 1039596106244653056, 1604370768871280640, 1597928744697696256, 1594279915314102273, 1601651265896841216, 1593416778746658816, 1347296592861278210, 1604295202050641920, 1604294411441119232, 1599974805247246337, 1298010476425572353, 1599080330924892160, 1547991260127830022, 1604111724063383553, 1599815331673001989, 1581889737064841222, 4838125163, 733312230322757632, 725585911979905024, 1599051753718177792, 1586714879846653953, 1594307600958468096, 712156022270517248, 1603335121465131008, 1604001400878424064, 2260170195, 1527661739894087680, 1602922616347574274, 1603454650627375116, 156848003, 861195168896208896, 1551835226359431169, 1602881269230145536, 1234569053999681537, 92069828, 1538162421529030657, 1538586040298049536, 285252715, 376920817, 405194014, 1603804098171748354, 3975318045, 2509531118, 4196192728, 865302632, 1320638707226025984, 1170385045552545792, 398612931, 1347980517451378693, 1244240776483176451, 1507414174384721926, 25529478, 1242410487297511425, 2332718671, 1430080554779693085, 926608432957935616, 74082483, 339156253, 249608059, 24048680, 1384938895033446402, 1603473786048811019, 156071905, 1602588732015665153, 19553221, 28064293, 1446055350424195075, 1473556928156639236, 4606756434, 1183962954540244992, 2153675283, 1516767278267867144, 1597967289487425537, 621812923, 270069711, 1543517463710687232, 117529909, 1553141162982211585, 2106991, 620105751, 1589953951327260672, 1573440798393356318, 14454486, 1049158625967595520, 1266404872901009410, 1602746385589157889, 1428148220, 1595077547829624839, 1601868693633376258, 1602684040649363458, 1603039486023188480, 1490756740186578954, 361805903, 105629591, 1594012382153555968, 1600938303225794586, 1602882724834025473, 1583765125508595712, 1602952470069641216, 3194877270, 2271674842, 387479831, 442450434, 265790455, 14464777, 295910496, 704212555, 1370922421021147138, 4220059462, 984612677183049734, 1554488734237634560, 3094757704, 1458554182437326850, 2183112709, 756319569854300161, 1600711940870914048, 1033275802178252800, 47185419, 864435679463329793, 19197451, 1075691677589872640, 1155229742561447936, 1208773879382073350, 1525671948847570944, 1589699098566959106, 23086112, 18471806, 2970387112, 4536614181, 16501988, 1460398364722356224, 43115106, 317132935, 705783051, 363796807, 623132586, 1533150303180279810, 1526062770965258240, 24472969, 211139299, 213261973, 1602380551603863553, 1574881515779006482, 1506348645515468800, 1461819878084599810, 1491112710364356610, 743431713594966016, 324580271, 1381861377502015489, 59424947, 1533743808508207104, 1555696177982701570, 1532359739396456448, 991384966700220416, 1602514964329078785, 805554893888946176, 906543802097250304, 931382758722506752, 1602450632224522240, 1490440021974863878, 1601650278448652288, 1602384525413289984, 1000875738, 1161355993487499264, 758179994, 1501920777393819650, 1587673348095492099, 1508705910671220737, 1555518734290362369, 223962345, 1489385546006859776, 1600858014734499844, 1589558507568758784, 515443370, 596560217, 1602318290369527810, 1437884131015331841, 1602014836786880514, 1212197483926810624, 228844788, 390127564, 1444005511775588366, 907025015668752384, 1601781752753664000, 1600829769364475904, 1596208458797383680, 1598703354577911808, 1602028823557570560, 1586046569161400320, 1408786447264632833, 1601915630193709056, 1601906393514131456, 1601185921440833536, 1598269404709588992, 4702233676, 1601547604336189440, 213607801, 1599057507653140484, 893225334857924608, 138122442, 1601741259764367361, 1601692093084323841, 1480962202135937028, 1294481063192993792, 1599542800902754307, 1582916005634142211, 1509244821986238473, 1601699494055198720, 1477961432306225152, 1601224800764059649, 1536864165557678080, 1431358164490932226, 1475126344577130496, 1591412470379413506, 1327005095507206146, 1523040965111558144, 1529567582642221058, 1600421762524643331, 1582834387422527488, 1555611954232033280, 1568995965499019264, 1273140353223331848, 393384230, 1059394861265231873, 1567866072019390464, 1601490917814329344, 1071620613159104514, 1364297328933433344, 1592853584575885312, 1600885025100144641, 2406224801, 1556605688205512705, 977913854691856384, 1600601344875823104, 1532595475672616960, 1600515334926106624, 1600997861298429955, 1371829091100426242, 1600180675755347973, 1077870792, 2595204279, 170782906, 1592534333969125377, 1219051248814641153, 1393371587403862016, 1600915591694811137, 1594288197009293313, 47478111, 1591540852073152513, 2612256165, 1573442758739894273, 1350243581798330374, 1241702137, 1594509662019325953, 1600602286362923009, 1547142620694155265, 1303141318332485632, 1485220802819760131, 1575869883673645056, 802042557089939456, 741638216, 1523215076169338880, 1297124245017960448, 1140431901834076160, 4695102366, 1548020906710032386, 1469274713675423744, 1525738737824477184, 4348344314, 133169430, 1473378826730323971, 1522109118596935681, 1414052692083752961, 1540540014878232576, 1600281469892665345, 1553829055497179144, 1599789913716756480, 1451967556303134724, 1147196554987659264, 1182569274721931264, 1591939366288605185, 813762465402130432, 81099531, 1528860131965927425, 1541819633942102017, 1577362641235886084, 1553655033396449280, 1562024222553214976, 1165472836204580864, 1000134329677295616, 1535621931537399812, 1590097143716630534, 1299428801487818753, 1598365433773662210, 3947154202, 2303985738, 524723674, 1492821651058212865, 1583189641917714433, 1562253031613538304, 1502499823827701763, 1082131493810593792, 1462472061054562315, 2835365743, 1566767679549149186, 1598701339638317056, 1593346110034219008, 1500563793751023623, 995600869172400128, 1600118039814586368, 1574657025631432705, 1600110096285147136, 1380529984448688129, 1573443361616416780, 1600002755732676611, 1076921190478958592, 1599966732105424897, 1475561294480687106, 1450510979410841605, 17853938, 1582002951119405057, 1599897206709952519, 1599885107023716360, 1599872413633810433, 1508394442100776965, 1566171785158074371, 36491520, 1523933748013957120, 1525592974729523200, 447291866, 1527930922645041154, 1599807297668120576, 1592968543775199232, 1588314443846488064, 1599256292706639872, 1557937597384728576, 1315813263893032961, 781808489207328768, 1599751427840217090, 195726318, 1599698896250454016, 1597954069846441986, 1544303927377756160, 210616694, 1142983709865521152, 1592427656372428800, 1486949608651726853, 1570442505258422272, 1472323193528541186, 1153728973378949121, 36966631, 2972277735, 1326910036094967808, 1585811699667554306, 1599491672970301440, 894513609962868741, 3130924413, 1001375273974161408, 1523667176602828801, 1598748556495671299, 815746077412491265, 1582458878331334656, 1599387191003648001, 19081955, 1516729856, 1589946481196269569, 102462905, 1497390435412713477, 1580402778710712321, 1004829644091285505, 297794987, 1290994500131790849, 1599096556271157249, 1598929952006610944, 89832668, 1590645844549705728, 1101230790, 18814801, 1313845935647096832, 1598833381935939585, 1598997840700874755, 1501576792599056384, 1546793710809239552, 1589543999089639424, 1076736554381594624, 375104802, 73358169, 1597554747883618305, 1491318028650299396, 1574698065197674496, 222968506, 266037095, 917728140809687040, 1568350423110615042, 1088591899815043073, 1545021556564365313, 1521623815813488640, 1556643201364246530, 112250405, 1598794228552933378, 1592529789356761092, 1253637160256835586, 1389894191279398912, 1589203693353799684, 1586357013650472960, 1585312775965925376, 1598728697481158657, 1589020690023387136, 1598332786859032576, 1448881206792183810, 434404620, 1472687959153512452, 1597910546698981378, 1518839566760775680, 1589608847966146560, 1584548221690552325, 1572639439993683970, 1596973654348283904, 1354034739687129088, 1525725388215054337, 1598468137443270657, 738540789861486592, 858747285500563456, 1545085127717445634, 2343548995, 1427326596134973442, 15108012, 3429523072, 1158080765583904768, 1597714908887539713, 1414475737365729282, 1590312439266136064, 1386288704130539520, 1569247045289971712, 1360322705376034822, 1586084469160681472, 1538181082683781121, 197427415, 1581472901974441985, 1530582610082160642, 1538164167466795011, 2956564094, 1564571548127748096, 1543840599220097025, 1466432481729687565, 1597559038052651008, 1542246615167242242, 958066843092107265, 1515666661419888640, 1532725358382006272, 2742426921, 1597628561032101889, 1526310899501481986, 1573600276182867969, 1200129741119995904, 1302326908965847042, 3126589793, 816739773608054785, 1253082024400818176, 1501689907475099652, 997099932938055681, 1558019379396321280, 1596417594222907393, 25937429, 1598031336463339529, 1247553336955584518, 1261456501488660487, 1489677399419756545, 1446559812423192580, 1089847222051762177, 43242609, 2931321865, 745800508217098240, 1525028711032143872, 4227572895, 14129087, 1503838834282405889, 1596649462461521921, 1532686412855779328, 1517030174520655873, 911395256981184512, 3265924231, 1595867540491755521, 1392584743359758339, 212651803, 1585389724721610752, 1523965097416151040, 1525733308600303617, 1490089712547213316, 1596778914474590209, 1598036427022995482, 894121395290083329, 1081635322964951041, 1166058032301838336, 1568460158048653313, 1593679031773401099, 1572387557526192128, 1591474028652511234, 1064587889751801857, 3002004821, 949532316, 1585657724620128256, 1595401053322747910, 1528401836235010052, 1577261220868096006, 1579095535231070208, 375839363, 6108292, 1579574664141103106, 1596774385381163010, 1523518991158943744, 1523745206566146048, 1505451825947885569, 802602839629512704, 1507634893849006081, 1496228419104821249, 34650228, 1597757105779400704, 1586328207137161216, 71272290, 1132366340, 257261379, 1597698358482812934, 1207032003692056576, 1596136308493230083, 829840938, 1101646985294237696, 1581360187197501440, 1587984035925659649, 1580974587378126848, 1488784947276140546, 1597624678784405506, 1407593256402276352, 2865305091, 1597341514769829889, 1587366967144595461, 1597574176231104512, 1455426195844128770, 1413894112927903747, 140474229, 1523327963386679296, 1056881253914472449, 17613563, 1266331252446998528, 1597505220816343040, 1569088823119732747, 7347932, 1525430864884207616, 1093739758667198466, 437888934, 1589358433005981700, 1597459060873482241, 898010390067654656, 1593635697516240899, 1455721037652381700, 1561504671436521473, 1592307170237890561, 1561723720917557251, 1424205632425627651, 1495747616684052480, 1597333090292363265, 233936565, 1523661016596422656, 3420609520, 39259220, 1139518163949936640, 4516145061, 1111516925597835264, 1594038907997503497, 1596147078937321472, 1065143232059854848, 1590945282686353408, 1267156304411443203, 242352918, 1382817087886925829, 1467568447408291843, 886700567757815808, 1518669141024124930, 19341648, 333122044, 1596840912520237058, 1085995392058212353, 1525646201214840833, 876019031949684736, 241646501, 706516412240678912, 1596834126216273920, 1547326952608075776, 1104768712542810113, 19486764, 1579032209943658496, 772383852, 1548898099782774784, 1595591044787322882, 1584256741092593666, 76671270, 1251446760666349568, 1566023485872381953, 1533549650422255617, 2177987154, 1523533308830781440, 1596566514903269379, 1468988215130570756, 1534182687258267653, 1581580431950254080, 1596460506256003072, 1560237425473060864, 819269435307544576, 1592325119312920577, 941380123550474245, 1055806309625405445, 1588071671604183040, 1575114551057682432, 1254368602414821376, 1592507997011460097, 1589241086987440128, 1480990008672673798, 1594292534398025730, 1570100546299641857, 1532493714517643270, 1588814676678287360, 1489594376468799492, 287830305, 1081654142127521792, 1521141622142087169, 311698398, 1596163108304822273, 2534242903, 1596207962195988487, 1586318962043789313, 1386747015275626502, 1523348152996311040, 1335375333344874500, 1593225918708957185, 3005867645, 1311140997473226753, 1247109649402380290, 1583379280494477314, 1500124931778039813, 1596002960806498304, 1484152337413332992, 920054824846155776, 1595950577405624322, 1507115859554312199, 618714761, 1595909901213224965, 1594362548916289537, 380395983, 1523725061928243200, 1630541588, 1523120947238436864, 21172507, 1524077616105504769, 1593372588339826689, 1595040215051247617, 1476605504101109932, 1595772681433108485, 1525575176968146944, 2986355891, 1584997695852265473, 270795590, 1500584244304826371, 20927072, 1225516432303280128, 775296618895663104, 1591033645891985413, 1543527095581786114, 1263172032700862464, 1481433279303753728, 1106799350762610689, 331577607, 1595622931257872385, 1523275383050698752, 1525488974386581506, 1426406595756441603, 1508137609423433741, 1578235799841038336, 1149724134202650624, 1589687569859616773, 1374793088435167246, 1355224878, 236637864, 2749829679, 1592923252548042755, 1445154235985838082, 1557887888016248838, 1595426783058337792, 586485635, 1595406963373924352, 1187766689565433856, 842423816747917312, 30459250, 239263359, 1525715386250960898, 1445842498882990083, 1460027863722246145, 1525659346239356928, 1526799502786539520, 1238086408545468416, 908448696, 1009743267007811584, 1525122608617750534, 1572257233894875138, 1595011870737547265, 594160086, 1590680819269619713, 1593123485794144256, 2370912812, 1591815724166746113, 1588540626940952576, 1523733668199550976, 1594972758345224193, 1524019832852828162, 1523120297108402176, 1594875108182597632, 1232320746648719362, 722519321063395328, 478382660, 1575919912232665105, 1533518023767863296, 2203832042, 1574698806029225985, 40188565, 1313890083125096453, 1125300801415667712, 1416487690002960384, 20056341, 1515219755719962629, 1146925457922822145, 1594506956299014144, 1309456750173655040, 1591905610341261315, 338203500, 1541773451937161217, 1456594952377487362, 1579571575438942209, 1523674959410712576, 1523837509930831875, 66156011, 1594054406558945280, 1567228899188146179, 1572291587765313536, 1108955893, 14199358, 60373062, 1593983546749849601, 1574455138961408000, 1574584603813498880, 1593940084704911360, 1392768446593708036, 747055753891037184, 1586485924623425537, 1523091104685760512, 1467552906715058180, 1525710175960694786, 1593755924300283904, 718730649159483392, 1593711984717041669, 3951943828, 1574423325220085761, 1227321689945575430, 1525597915938713600, 1523123052741283840, 1525731697781792768, 758988447646298113, 755184304188223489, 1574687739425214464, 1521015780682330114, 882749643158847488, 1525690809911332868, 1523707824349782021, 1493673198008913928, 1559780510318092290, 1587208061730553856, 1251234733603852289, 1590684158552055809, 1593187340796792833, 1525727983465598976, 1525599901614329857, 1593014407835095042, 1574688431023669248, 26543984, 1523268666434891776, 552862654, 1593056622070439936, 21826742, 870577838893748225, 1592581003410915328, 3050047504, 1542853146, 1449719726138081280, 1525901188327084032, 1525583780005613568, 1467654857997885440, 2258794171, 18526653, 1481097719540334597, 1592837411494449152, 2319168164, 1536491864181940230, 1592289717319393282, 1592714150442156032, 1562913000700252160, 3015461230, 731816103421333504, 1509635364721418241, 720897186, 287371624, 1405746727362076678, 43072680, 1592568899618455557, 1574459971504259073, 1584993417687449600, 819056346825826304, 1592487388265447424, 810617566972510208, 1525575212204441606, 2467222492, 1016827106, 1590837495100579844, 1523159169209151489, 1523345540951732226, 1587086454030835712, 730768663, 1574480846643695617, 1574480981264044032, 1574480802053705729, 1480913517029081088, 1525790857588543488, 1525092416843173888, 1523278709591060480, 1588429027743862784, 3004189397, 1592205281139871746, 1524008586170580993, 1519827515061293058, 763180569345654784, 1972929445, 1298195550370762752, 1496149685031309315, 1502776341829201930, 1591535660619296768, 1579744129713520640, 1573409806936936448, 1584212126238924804, 1426840548791537665, 1466135558971965450, 3041775285, 1496219569, 1589358139283046405, 1523942397553815552, 1579602506145058837, 1581948408604098561, 1525868290047741952, 1523772734651650050, 1525549185076019201, 1520799930, 1591807905480810496, 1464703708911054854, 1591733982902849542, 1574461188968415232, 1525483670038990848, 1525501144923049985, 1574471459665481729, 2196097965, 1574694430509932551, 1574666611222401024, 1523803983890034688, 1590373444406870023, 1523845043903254529, 1591337655949836295, 1505434892460507138, 1574568162456088577, 1274028610144423943, 1573778226312192001, 1560351823608815623, 1574410098159816708, 1573653968441704448, 1574450528767004672, 1583217901842173959, 1591351501188132864, 1586016302858223616, 1117174922047119360, 1587724968460156930, 1589213013151993858, 1278771286005682177, 3105072137, 22622639, 799897118169104385, 1590897942743117824, 1591125895904755712, 1590759499798806528, 1574673893888970753, 1534646572901859329, 1473918211993133056, 1591118291115941889, 1574568382246289408, 2841746817, 567748105, 1590696133512372226, 1469007598032769030, 1582005598035525638, 1491016711788810240, 1574685920053579776, 1572686777277509632, 1590610294111457281, 1525775465403002880, 1588505873546039296, 1574662767792910337, 1574664789984710657, 1473705949491777544, 53753452, 1574455103855394821, 1574676343262162946, 1584621518973243392, 1507343719745429515, 1427369974973313026, 582613729, 1574688304200564736, 1574552579345829888, 1584918546576031744, 925912935494545418, 1574593178216570880, 1467540288755445766, 1551631379779174401, 1590660909650804743, 1523712708499341312, 1574459523167039488, 1523355805025980418, 1481165197297471488, 1574543884092252165, 1574507238848311296, 116529006, 810178788021702656, 1082330935041748992, 1525732019770380288, 1589503316962250754, 1585014064933117961, 1574538195030937600, 232640729, 1467514827300126728, 1525365886957535232, 1492016594892902402, 22658342, 1574539527527415808, 1574544317406121984, 972461709930745856, 1590398533651369984, 322401897, 1471872909975171086, 1574673852621209600, 3893737433, 1574531510249881600, 2596892958, 1589687676311044096, 1480728180164079619, 1718276988, 1480894723787264015, 846623161844051968, 1525880467051802624, 592060150, 1573144921615511552, 1498368240753340416, 1590189561274957824, 1566095425140146176, 1523982294612160514, 1382068166629715970, 1587870386024288260, 1585909794099150849, 1573210867696824320, 1507018950319779843, 1557137208963805185, 81963208, 1586482453211844608, 1529866508565893120, 1500925418601431046, 773303082683949056, 3623255597, 1589573962199080960, 1623217698, 1250473573426311169, 799697962922377216, 1589959503436742656, 1568672097471184900, 548318753, 1531943037110214659, 1589139319385571333, 1573276872237948928, 1574323336657928192, 1523115113951432704, 1589835514093371393, 149246097, 1589799738609745922, 1128640697081434112, 52244255, 1572568097130958849, 1577678362444693506, 1574308077272068098, 1589238117080481794, 20707684, 760594910156382208, 1589654655650467842, 2188893403, 1574442809368530949, 865233426680606720, 1523872138561732610, 4635260734, 1514930067071143938, 1506751717286711297, 1574410779247321088, 1525109002027540481, 1523312360391585795, 1514896734446624769, 1589544706643566598, 1589538382098714624, 1589524275765153792, 1491896331551801344, 1523297601465950208, 1523322960177934336, 24790286, 1308771259, 1573787577299107841, 1572920081658843141, 1586740607401299968, 1573773624430845952, 1574650526066610176, 1589204473385197569, 1589391531349262339, 1574472439383195648, 1586074511606272000, 1574528538211803138, 984216429821157384, 1589269235016007681, 1574361907699466240, 1574361926443769856, 1589292168841240578, 1574511051374497792, 362138033, 1574628922666680321, 1573144106007764994, 1572602966682783746, 1574438009608744960, 1574516198334955521, 1523424663631716352, 512767863, 1525451546070503425, 1440712570223022091, 1574565900896079872, 1480974807437086724, 1286443344491683841, 1551725854920544256, 1574521175472246784, 1574690356792537088, 1574385583061102592, 1574686183015452673, 1523459390757613568, 1102392057468014593, 1574609649684213760, 1573405459666460673, 1573639046735466496, 1472936569916968960, 1574463976221855744, 783211515184689152, 1525700035538993153, 1574256928972079106, 1584079989934260225, 1573860668633235456, 1573749221966376960, 1573530020936839168, 1574430904969109504, 1573821972936822784, 1574447203359551488, 1525815369029455872, 1574512987259342849, 1503345189410291721, 374186500, 1481125869057884161, 1519036110889959427, 1574567913503485952, 1574707042899861505, 1574508605759713280, 614469918, 1574518060748197888, 1588625326757773313, 1574448371099922433, 1574544319327141888, 1572580684279189505, 3233328406, 1574683288496586752, 1574621643032256512, 1574214607744696321, 1573656500727586817, 1574487012442132480, 1574550843759939584, 1574176863790178304, 1573081147877502976, 1573082473927303168, 1573056604714696704, 59091850, 1532504258121277440, 1574355104484175872, 1574350822497869824, 1572811662452981760, 1580647512700076034, 1574467766769176576, 1572693878959853568, 1572674478773268481, 1573029772091072512, 1393984906766729217, 1574410778631086080, 292996855, 1855398824, 1574445829716586498, 1573804579669655557, 1574530661888950272, 1574716161979129856, 1573413063490826240, 1069225411744358400, 1574605448174764032, 1574605400027996160, 1574681515908558848, 1525789931171647488, 1502909188296814594, 1574638710750314496, 1574485296896700416, 1574619653636177920, 737147552, 1574693324354510848, 1574599550718734342, 1057921992383520768, 35889701, 1467518441125040137, 22946369, 1572716391018659840, 1573073035086757890, 1558622072443658240, 1574521997890965504, 1574522043877367808, 1494270609320255489, 1572901892640108544, 1574439721656209408, 1574693678987231234, 1525774428621111296, 1367152562, 1573607000000565249, 1472597039397543936, 1588597209892880394, 1574629962253860864, 1364513485, 1572703535577567233, 30698671, 2907137439, 1574465234177511424, 1574457502430687232, 1574445378044194826, 201810996, 1574692356108226560, 1574514003262328832, 1574651092557627392, 1574685410017824768, 1574520773300977664, 1574622600609026049, 1574568759498444800, 1574615782474289152, 1573749869344194560, 1573750610884714498, 1574661809436762112, 1574580119150002176, 1574624379144916992, 1574645841679515648, 1061341860948598784, 1572585043771674624, 1574450268493619200, 1572584814414528513, 1574586284776910848, 1574584590786007042, 1574609971869687816, 1574309699188854785, 1574670657069072389, 1492212708179156992, 1573200308028977152, 1573200440346705920, 1574607813703520256, 1395582252118159361, 727787690, 1574690268246573056, 1574453357103570944, 1574534606883553282, 1574696357004091393, 1574631223908966400, 1572996086112915462, 1572562651586371585, 1572562919195561984, 1574600364405374976, 1574672142406684673, 1573098992082247681, 1421560765371326465, 1573851850012753920, 1574481113770184704, 1588431568774782981, 1574529279341498368, 1523478069960445953, 1574081139370647552, 1574078670184271873, 1574642617568366592, 1523073717475356672, 1574622042066145280, 1574650214061076480, 1574319289225486337, 1574419395954192384, 1572969269306228736, 1573722256248692736, 1574588832070373376, 1574588729179586560, 1574533765158019072, 1574523569090203649, 1574539728594309120, 1573568824460603392, 1573003438728056833, 1572846355755958273, 1574492703538040832, 1574604752222289921, 1573315949369102336, 3206766843, 89314998, 1478239125694259203, 1574647838318874624, 1574355176693305344, 1573735247677919232, 1574582552253190144, 1573134573223153664, 1574447832844898304, 1574502663794102273, 1588332807541198850, 1473974972632682506, 1574364276227067904, 1572994728693571585, 1574654872892252161, 1574489893761228800, 1574537941699133440, 1573408808457551872, 1574700024931307520, 1572762815223693313, 1574455079607812096, 3559805896, 1587912120326307840, 1574499025638031360, 252714292, 1572572073981255681, 1569683950955823107, 1574610377341825025, 1574430340105793536, 632413575, 1588119334974619649, 1574702124415393792, 1574622009031790592, 1573135672944336897, 1574711298905894912, 1588241689629581314, 1573123651657949185, 1574511044852326400, 1574389584288358401, 1574519954388684800, 1573215563916414976, 1574470549627371520, 1574432798487650304, 1573145065245257729, 1361046462684147716, 1574621547331227651, 716182451568173056, 1574553386116337664, 1574568961093824512, 1574639098261692417, 1574592037349097472, 1573572793848864768, 1574353357107769345, 1574650245296041990, 1573714546036191232, 1574431240236605440, 1574523845704556544, 1574446140367732736, 1574600703477424128, 1296864546213289985, 1574558996513845248, 1574651783754182656, 1574575377691054081, 1573128804381270016, 1574405316417945600, 1574578087932534785, 383134760, 1585989213836779520, 1574687013483077632, 1573198850298298368, 1573118068959723520, 1572992990301540354, 1572992099015790592, 1574520117496381441, 311179064, 1574583623520374785, 1573988707371085824, 918231404533768193, 1574543882700091392, 1574037531439812608, 1586074605814534144, 1574479251298189312, 1572900241518788608, 14443041, 1574421545669169153, 1574431599978246145, 1574362752986255361, 1574539498213736448, 1574541434342244354, 1574541639150108672, 1574327340603125761, 138435097, 1574502397946130432, 1574415980675362816, 1585381175241355266, 1573734144638472193, 1574607684539920385, 1573370247591399424, 1574303795919564802, 1576082766818643971, 1572901413104934913, 1574589692300840961, 1574593296218828801, 1523969602232987648, 1467686550137974785, 1574628787077009408, 1574514970326286337, 3057734534, 1573950659652878336, 1573952891316211712, 1500326725749641218, 1460629266, 1587500588610338819, 1574646824786272256, 1525729439023255552, 1573031402030800896, 1574327130267168769, 1574210060456435712, 1572611900634169345, 1572982758473072641, 1494008516989923331, 1573628499004620800, 1573629433214181376, 1573005421433921537, 1574635726406266880, 1574376338752176133, 1574678512728154112, 1573824489674002432, 1574511452995563520, 1574487050036051969, 1574577314347638785, 1574664507179249664, 1574695341948952578, 1574648866678325249, 1574362427256238080, 1573743746235367424, 1574309154650718208, 1580922700301746176, 1573214441591930880, 1574510766098501632, 1574404987438141442, 1573759090773594112, 1574559634144505856, 1573779108504670212, 1574661338751967233, 1587882644242632704, 1574558268931776512, 1586956997479612416, 1574673900138823680, 1525783921161555968, 1525715970370654208, 1574179704479027200, 1574516540921491456, 1574527751293669376, 1573774554958163969, 1574524145672388609, 1574552020073082880, 271431406, 1574689159112847360, 1574377945765855232, 1574653493302140928, 1574585620751536128, 1573346996076716033, 1573213094209540100, 21640816, 1163226361516793856, 1574485373555642368, 1574634154729549827, 1573256133447675904, 1523358965400313856, 1574427762815037440, 1574526150986018816, 1574581491484348416, 1574401587325304833, 1574581447221862400, 1573710260023742464, 1523972886381621248, 1523106703952453632, 1574320834167963648, 1473105988043505666, 1574531242799747072, 1576275754094153735, 1572991821831102469, 1574545235522342932, 1464678220662513672, 1572622645354455042, 1572623848193019904, 1574666476883431425, 1573747249464545280, 1578366480936312832, 1574331072438943744, 1574669849099321344, 1573444631790080006, 1574596730557202432, 1579429011314429953, 1574466522097254400, 1584438514791612422, 1574330001817669632, 1574329554704875520, 1024205673918152704, 1574479844582207490, 1572998502870925312, 1574481486853509122, 1574400469291896833, 1574158661416460288, 2620418200, 1574643131009466370, 1586079208425635841, 174179104, 1587113736510181382, 1586143485089947649, 1574340329729568768, 1525799461024325633, 1574635851820122112, 1574576625135472641, 1574637753765367808, 1574603019551133696, 1573680669615480833, 201407728, 846746332245217280, 1573165768589869056, 1572941495744987136, 1574550972889960448, 1574696146010001409, 1574588689690218496, 1574588661714165760, 1572784897219235840, 1574510910256730112, 1574482112627216384, 1572855346334666752, 769223887389204480, 2692139617, 1573357629400702977, 1572565262226038785, 1572990767752175617, 1576812506940846081, 1493276594022096900, 1574431672614821889, 1572873716023070723, 1573615637557313536, 1234713724025540609, 1572865920628064261, 1459458181587869700, 1572799636410339328, 1302638542980608001, 1573191769747255297, 1180075712, 1574582408502194177, 854236962533687297, 1563107332615155712, 1279309605571424257, 1574422916527071232, 1574288215405576192, 1574669684292452353, 1491001243971428358, 1579423133249208320, 1574641968944394240, 1519555781040873472, 1573152660860981248, 1580141039129501696, 726402211824066560, 1574507606009585664, 1574514970875740160, 870847615646093314, 1574533221442027520, 1577211434064236544, 1574629562704887808, 1572730634573053952, 1572608823554363401, 1572610239966642176, 1574620743346057216, 1573069300537372672, 3758500453, 1572925099967385601, 1574360794778992640, 1573785519196340225, 1574652412698456064, 1572812651280756736, 1573105747118141440, 15296651, 1576162360342982657, 1443201882802040833, 1572921536238985216, 1573229443770097664, 1573229049279033344, 1574678207550586880, 1572561306112368641, 1572779759935062017, 1574512568529432576, 1574670884467789824, 1574535245226909698, 1574327183702515712, 1473686227937284096, 1525759200907128833, 1572617686009675777, 1574407926466236417, 1523742743524225024, 1525384885128466433, 1523022095105462277, 1574324318456008704, 1060247650522595328, 1572591444694827009, 1574477037267726338, 1461639358377865220, 1573792249053417474, 1525437817232695296, 1573387477435314176, 1585011255869325312, 1572651454825103361, 1586352415678365699, 1574539713465430017, 1483573640071417859, 1574674620589842432, 827229812305575936, 1469583902276792324, 1585995331505999872, 1573174094191034369, 1573174691313119232, 1573098388882481152, 1574635684530647040, 1574635554460688384, 1586728180987174913, 1586428365375954945, 1574371059956338688, 1574679688060227584, 1574455891620876298, 1252098939676962816, 1574528473917321216, 1574676598112284672, 1574588183861334021, 1573682005090312193, 1579385885526700032, 1572728318054449154, 1574238576807936000, 1572983341825265664, 1575225646288076807, 1574457223270764544, 1540381773967810562, 1574517343140487169, 1587053013507506176, 1550394934812823552, 1574644051944808448, 1060816807249002496, 19874084, 1574308739045158912, 1574596368366280704, 1574415855848370176, 1483311542255099904, 912301722, 1525746956726939650, 1573481882599059456, 1572761848977690624, 1577504142981201920, 1573347906202976256, 1573588182347575296, 1388808847880441862, 1573490211329544192, 1574443165926313987, 1586923852608724992, 1572828614248505344, 1296373755099230209, 1572829187341430786, 1574407344897036288, 1572651168051896321, 1574452807914389505, 1586896120365604866, 1538800636455956480, 1574320415333584896, 1552541124832595969, 1572606728461758465, 1529176334961823744, 1573150581501624320, 1573054199931469824, 1586305831599054850, 1573597708727816195, 1465958362613522434, 1573098189087211520, 1586856644687822849, 1492008220772421639, 1473049283515486210, 1574329218665615360, 2998033357, 1574453533625454592, 379592366, 1525696420547858435, 1391605384016809991, 1572990483760295936, 1572965624740978691, 1586772034717204481, 1572598498872139780, 1582509447955480577, 833333657238720513, 1574221989954301952, 1574416269834858498, 1573605553397342213, 1500191078904909828, 1573092962069880832, 1574413482174586880, 1145750892, 1573758237794775045, 1573773386836488192, 1573067079934423040, 1038320531802611712, 812992996484509697, 1585390694369296449, 1573776274555691008, 1573776213088296962, 1572644146002948097, 1573091450044133376, 1572592637424865281, 960251535178559488, 1573256798764945408, 1574524995656884224, 20420839, 1574686468190404608, 1573379373154988053, 1573215886236086274, 1566149116350144519, 1573736748961918976, 1574285502160990208, 1572818995488886784, 1574507171987197953, 1572912722639228928, 1574568800040599552, 1574457707851124742, 1574427059727716352, 1572856298777243648, 1572856233308360704, 1573364066349109248, 1572712376025358336, 4424345533, 1581149474788892672, 1574643959095140356, 1585862176862081027, 1574545016558878721, 1574417197719375872, 1574355570903384064, 1573790031746957312, 1574385904847724544, 1572958439407435776, 2693365832, 1525640070522630145, 1573412503442575361, 1574349144180674560, 1574288768538152961, 1540466069546082304, 1574292294303219712, 1574291737342017536, 1216763045109805059, 1586477656975052800, 1573202013793329153, 1573201638516727808, 1574472227109556224, 622537761, 1574702812742635521, 1574479779814076416, 1564471083964710912, 1195500633371099141, 1573786899872854017, 1574544311114309633, 1574544316466225153, 1574604991548911616, 1574708633975209985, 1574399943745294341, 1523952212141125632, 1572924950272700419, 1574521605601996800, 1574288084337688581, 1585904138491252736, 1575229565659643959, 1573132601216606208, 421155294, 1572619634263855104, 1574428259814584320, 1574346273599401985, 29297666, 1581583493548621825, 1574681917638598656, 963874383122100224, 1574681957619109888, 1586422677794873345, 1574611879498240000, 1574325068762685440, 1574455018190962689, 1020532525360459777, 153386335, 1574541257296076802, 1573133603546058754, 1548707354916651011, 1574199206012919808, 1572818515685425152, 1572769206109884416, 1572567058084409345, 1574445224507887616, 1573706657447653376, 1573305883182108672, 1505212662258745344, 1574693863645593601, 1574489626609618944, 1574704636883181568, 1574278672353136640, 1573148776407379969, 1572706205390499840, 1574490816348704768, 1574423063558385665, 1574669024574992384, 1573000625247637505, 1534882535615905794, 1574685524454830080, 1574685490812686336, 1574659252853297153, 1574659226919923712, 1586302404324106240, 1574612003049836545, 1574561431697371136, 1525670576278450176, 1523851761794039810, 1586097459037609986, 1525663951433916416, 1584918482717655040, 1574274430821277697, 1523836128419328003, 1525550054899126273, 1525802635315773442, 1523035411177738249, 1586250905283956737, 1572822573729320961, 1573269165057921024, 1573270780384681984, 1572714037397561344, 1572935985104826370, 1572944346613415937, 1573160846863532032, 1573160579576889345, 64683924, 1574335123922657280, 267929718, 1570581244252921858, 1574443528616570880, 1574443619565457408, 1573152625029443590, 1573147831355035648, 117474967, 1573490184896790549, 1573566857843351554, 1574365947954987008, 1574353240208003073, 1573251875541258241, 1573698693701992449, 1573092952209227776, 127891258, 1574242118037798913, 1573031070349475840, 1371148465623945220, 1586089681208414208, 1573474956155170816, 1335497649542344704, 1453406144093904896, 1572587939774992387, 1573127673907335170, 1574535637796954114, 1574156977839566848, 1574594671480737792, 1574594618796437504, 1574424081231126528, 1574574100080574464, 1574253303781003264, 1580511578578993153, 1574327053964701696, 1574488822246940672, 1574309813940469760, 1574310313477840896, 832603443445583872, 2310681322, 1574640378736652288, 1574422327009619968, 1574358479812562944, 1574448003334942721, 1572678477341687810, 1574297310963453954, 1574613195758899200, 1574589080918032384, 1574558023833767936, 1574583600141303810, 1574450439193432064, 1574667356957450240, 1572721506337329153, 1574473182752673792, 1582034224495968261, 1572995363216453632, 1573616432801546241, 1574595356217683968, 1585390558385766418, 1574397943838175232, 226670590, 824684490719166465, 1573154341187473412, 332876548, 463182301, 1311662015870627842, 1573866126030897154, 3047683562, 1574328358477139968, 1446731173867270146, 614835683, 1574428003550916609, 1574649066738548736, 1574429748822151169, 1553495894313541633, 1583509769502982144, 4602561959, 1585960680003457026, 1585957249809358850, 1572821252724895745, 421934193, 1574238493467095041, 1573029885526016000, 550468029, 1557347161205100547, 1573713822497804288, 1573428538325467137, 91362340, 1574672722621124609, 331732918, 1574700068720242688, 1574540566854918145, 1573752036557869056, 1573738522577600519, 1572624141928509441, 1574566013768970241, 1574433041551761421, 1574365159136825344, 1574581291600687104, 1503790284542517255, 1574337046151192576, 1573736047745409025, 1574540503965581312, 1574631065406570496, 1574556543080857601, 1572563624685899780, 1574610321041334274, 1572611969844391941, 1573182060214489090, 1573788638999367681, 1573362189129306132, 1574596159623950340, 1574636428906340375, 1574349293569208320, 1574627649741520897, 1486033626680762368, 1574704120954384384, 1572925871908081666, 1574293273220620288, 1438919110512070663, 212385783, 1574636030614855681, 1573396495105228807, 1574506426910711808, 1574648717231403009, 1574693669243789312, 1572819806356533248, 1574666529018630146, 1574460269169848320, 1574460142661562368, 1573764406038605824, 1573116164452089861, 1574463059326046208, 1572807266952445952, 1572807762459103232, 1169411839584870401, 1575753068569731072, 1572900790078881792, 1574535953859104768, 1573159735729295360, 1572787839154393090, 1457704111722352649, 1574544807393099777, 1574589512985939969, 1574528064108875776, 1574425044243324928, 1574667979060838400, 1573509526409850880, 1573763703732072448, 1048452266, 1573019983260839936, 1574680872011243520, 1574523111831404544, 1573797952220692480, 1574545986021511168, 1574573666347544578, 1574500769981956096, 1574500970549374977, 1574590503085289474, 1523747656379600896, 1574507965846953985, 1574547703530397696, 1573034338479788034, 1574645607506903040, 1574645663698014208, 1574683175905005570, 1574653247029399554, 216419660, 1572788601771167750, 1574628042353545216, 276093060, 1573438730987257856, 1574624401567682561, 1574548372874498048, 15583650, 1573220707685003265, 1574208065767112704, 1574515330957070336, 1574281524903837697, 1573006808066969600, 1573006433796657152, 1573006345556697090, 1574459602330349568, 1574516480741240832, 1574464348134805527, 1574677826535817217, 1509597661325836288, 1574571353063432193, 1574514993504350209, 1574635369802264576, 1573878780225110016, 1574632458859184128, 1572923861230039048, 1572784086212808704, 1321938638570168321, 1574454922682040320, 1574345629081403392, 1574616481349844992, 1574593268012449793, 1574512062037864450, 1572871984551440385, 1574668716033576961, 1573862959469699072, 1574314111889944576, 1574703928456798209, 753426836, 1574579048621412352, 1584413588021821443, 1573749176298528768, 1574402018868961287, 1584389165201981442, 1269922257142517762, 1147713430150717441, 1574544686663880704, 1574351344802365441, 1574665880612392960, 1574543845467082760, 1574549406161899520, 1573735270033526785, 1574538807809974272, 1574538760552779776, 1574278052351471617, 1574641074009624576, 1574673815707078656, 1574477960861872130, 1574449205065949184, 1574601513615622145, 1574616543077736449, 1574666611478663168, 1574666568122114048, 1574479403307843584, 1574647195676344320, 1467640381848363011, 1574424542008995840, 15149933, 1574572556153065472, 1574679164963426304, 1574689974272032768, 1574412000100515840, 1574568030679363584, 1574534812286693379, 1575828184171696129, 1584900095245516800, 1314618113019785216, 1467601178003443716, 1574564797491818496, 1574674680740728834, 1481079067772436481, 1574694212909481984, 1574521068035141632, 1574401182583631872, 1525728065711656960, 1523993153174388736, 1574470009245487104, 1554726431543926784, 1574497699516190720, 1574567344713498624, 1574485923659624449, 11420902, 1525891701897715712, 1524031699352682498, 1573193508332052480, 862036604, 1574646108609204225, 614676279, 1574358188232953856, 1585287754086338560, 1584607860037718016, 1585273498498465792, 434401078, 1585271733459845120, 1572801639714791424, 1533393577430106119, 1574474278405566464, 1574519011122958337, 1574518924938711040, 1574438435632607232, 1574608694108573696, 1574301848856502272, 1574469612116201473, 1574558273344135168, 1574692535921876993, 1574507812193206273, 1574407252915593217, 1574407191208939520, 1574478191015579648, 1574408418995359745, 1574585546013188096, 1574633971895652352, 1574386520739303424, 1573021744046260224, 1572854249981186050, 1574310387142447106, 1573109670084251648, 1574409888758845440, 1573976878003560449, 1573722610759712768, 1573722945418993664, 1574563034374508545, 1574480562693476352, 1574652528528162817, 1574520379028123649, 1574520230625222658, 1572716152123367424, 1331008562093502466, 14773226, 1574210854886658048, 1515091378744737793, 1573052519961567236, 1572792939084124160, 1574597589764218881, 1574679594094895104, 1574544113969467392, 1574569988446248961, 1574193749760315392, 1574194454898282496, 1572822024241573888, 1574461757707280384, 1574461914154876931, 1574573965338902530, 1573209585703596032, 1573139799820550144, 1573025830208524288, 1574507967885758464, 1574373946798972928, 1574331920686600196, 1574290385987215361, 1574514079288332288, 1572800419503431680, 1572645731001061376, 1574489852308963328, 1573114658340605957, 783654345153863680, 1572898905146429440, 1573485245759889428, 1574538309678014464, 1574338245327978496, 1573132381380235266, 1574671226177347586, 775624173154512896, 1574448043084369920, 1574484115574792192, 1572595007017852929, 1574385682474094592, 1574325857950105600, 1574325926779027457, 1574614924902289408, 1016507382921416704, 1574517813443579904, 1574369437595373568, 1574623694298587137, 1574337751629307905, 1573716411826208768, 1574463806717427712, 1585105065832054785, 1574583650678898688, 1574568729458794496, 1574568766750400512, 1573168601447952384, 1574307142852481027, 1574306915710271488, 1572731694771499008, 1573752817726017536, 1573076265384390656, 1573075402595405824, 1572771239151554560, 1574360495154290690, 1572955564505800706, 1573831121724481537, 1573206774764605440, 1572792016345657345, 1573073115810533377, 1574632529537437696, 1574603299999068161, 1572586759296544769, 1574457061558976512, 1573047693596712960, 1574508040543698944, 1572826157262594048, 1572827004851785728, 1574542210447872002, 1572793797448466434, 1572989107843829763, 1574473453226192896, 1574625784571916289, 1574625835406934017, 1573706553857019904, 1574604075265449986, 1574236805808807936, 1573002294576152578, 1574602864516685824, 1572762180118007809, 1572795318688940034, 1574465943493025792, 1574577495843962880, 1574505684414398464, 1574505600750587904, 1574689038883180546, 1574353494663782402, 1572673479660695553, 1574487505394536448, 1574405101179269120, 1574405142157279272, 1574422759907950593, 1573725846028062721, 1573726215331979265, 1573434913604636672, 971415346023489536, 1574525018150535169, 1574361497735933952, 1241673073348292609, 1573115859353993216, 1573115342720671745, 1574452899765112832, 1574007030578225153, 1574625171851206656, 1574611209634328577, 1573546484007862274, 1572960868618436609, 1574430762367012865, 1574415158101024769, 1574496835489607680, 1572774201626624005, 1574608434711756800, 1574525873675718658, 1574471662854361088, 1574333097466023938, 1574488013287354369, 1148988664191619073, 1574498030598123520, 1573473167389196288, 1568246664057462785, 1574576667552452608, 1194386759511150592, 1574297236518731776, 64535716, 1574572302691315712, 1574683485574680576, 1574335653449699328, 1574578103862448130, 1573092536779821056, 1572978227689275393, 1572978765814439937, 1574478144274198528, 1574426617924841472, 1574667439144865793, 1584948212875526147, 1574356012127383553, 1572908827380305920, 1574648622456586241, 1572839743934853120, 1574339473646952449, 1574509185743867905, 1572848662660935680, 1572973352855261190, 1574448323385499648, 1574568825760071680, 1574474589433778177, 1574694158815571968, 1486349417804402692, 1573811734959235075, 1573804204606357504, 1574424320780038144, 1574354492329295872, 1574827520331055105, 1574366047507218432, 1572991214923939840, 1574365922260709382, 1574592065601536001, 1573027192094990337, 1574591923846672384, 1574380926741594112, 1573396579339632641, 1574560752186568704, 1571029544303316995, 1572961128417992709, 1573421240655585280, 1574439470023069696, 1572838616019210241, 1573771918104141824, 1574703220534161408, 1574425405523574785, 1574661922984640513, 1574306934907228160, 1431954024899690498, 1574557980103581696, 1573234020212621313, 1574434275361193987, 1573652819181465602, 1573579476046254080, 1574417721923715074, 1573717804670279680, 1574445162268622848, 1574566943574487041, 1574198277796696064, 1574571764981501952, 1573449410289115137, 1573449109608058886, 1573176561767190528, 1574439579981008909, 1574649483111305217, 1572795376494841856, 1573191320650526721, 1574494658394136576, 1574397602673696768, 1574397601981485056, 1573388935770017797, 1574327704987394050, 1574618170958413825, 1574447501520039936, 1573586528152219648, 1574516466342596608, 1574310381673070598, 1573706566796120065, 1574559222494527488, 1574441438829740032, 1574593529019396097, 1574694863605747713, 1572747219245346816, 1573736964670783488, 1573738227152089090, 1574419278635610112, 1573274873484677121, 1573030249410940928, 1573031317968658432, 1574468489825456130, 1574407982649057281, 1574341641934032896, 1574341388044365824, 1574591448707526656, 1574414051379400704, 1573055394670587904, 1574313561265799169, 1574535613520392192, 1573054951022010372, 1574584351379312645, 1574366233876496385, 1574504565176532992, 1572604422978695168, 1574459685109116928, 1573297941233926144, 1574186021238947840, 1573772896031211521, 1573773063744782344, 1574497295399149568, 1573398822180786176, 1583193183978151936, 547766087, 1573034072049586176, 1574687149198569472, 1574601015361347584, 1574687097260486657, 1574710275692896256, 1573734534708809728, 1560586681408897025, 1574514170535776256, 1573405150009606158, 1573020420067950592, 1574283154051178496, 1574625479436664833, 1574287789394300928, 1580181610602930178, 1574577087671074816, 63068977, 1574451800274444288, 1571990905003057152, 1572747831395368960, 1572748556901163010, 1574577163302338560, 1574405417119387648, 1574457671218241536, 1572941865665458177, 1573495513747312640, 1573729858986938372, 1574672400440262656, 1573414560534450176, 1574311739994566657, 1574311858936619008, 1574195934946537472, 1574665378529431552, 1574293644148113408, 1574549949295267840, 1573608889685536768, 1574684952045973504, 1574559588942155777, 1573057451968299009, 1574544625645195266, 1574660904243040256, 1574708409940967424, 1572721246030434305, 1574466180320202752, 1572720508801810433, 1574434557461659649, 1572845023338844160, 1572844380339437568, 1574362616511676421, 1574295125492047872, 1574585435866570753, 1572931020378505220, 1574459718525153285, 1573566156899635200, 1573745503790985216, 1573743928364257281, 1573241010468970497, 1574517930251145216, 1574201504734810112, 2827580464, 1572854722696220672, 1574586233300262912, 1573455949850968066, 1573457295236792328, 1573353492315803648, 1573352740465836035, 1574525399169572864, 1574553376754311168, 1573010574728130562, 1574553528483295232, 1574470256676212736, 1573428077442600960, 1573151733756309504, 1572680680743763970, 1574468915664912384, 1573097988708253699, 1573097667705864193, 1574701712442531840, 1573200950344712193, 1574508647782023168, 1574564738444718081, 1574379968754491392, 1572737487654785025, 1573245980819890178, 1574673139849580544, 1574570877827817472, 1574334002810728449, 1574318631818625025, 1573180571693375489, 1574381933513277441, 1573391521872756736, 1573778935879725056, 1573779718452781063, 1574529694711808000, 1574656471429570560, 1573750598763094016, 1574559705472475141, 1574540276529389568, 1574463357490298880, 1574550269878312960, 1574679388972797952, 1574450255155777537, 1574450213078503426, 1574544640857907200, 1573417595222786055, 1574620729647067136, 1574427980935614465, 1573554834498027520, 1574354194311524352, 1574546279169871873, 1572919148447145984, 1574448674712608771, 1574571762389393408, 1572573625429143552, 1573230451279659008, 1574673588116156419, 1574701420132986881, 1574701620465573888, 1325117817436446722, 1573589130935672833, 1572813209488478208, 1574416401569226752, 1574519911728451584, 1573898724647923712, 1574359341100322816, 1574446273595179019, 1574451062748381190, 1574451153869238272, 1573543556303622145, 1574573460113698816, 1574436005356048384, 1574711260847165440, 1573156436120838144, 1574598051406413824, 1574377619016908800, 1574560433801146368, 1104800523188883456, 1572714109425963008, 1574395829406044165, 1574546788626747392, 1574484310115045376, 1573474302095138816, 1573473896333910016, 1574493399498907648, 1573755898333462537, 1574538338220265472, 1572698846865821696, 1574161610452586496, 1574257621254565889, 1574681854674087936, 1574227753963909122, 1574341380071104512, 1572955538891350016, 1573126948041392133, 1573084348265340928, 1573775248868052992, 1572772123273498625, 1572772429931638784, 1572966919287672832, 1572945733590056962, 1574482276607397888, 1574339532064890880, 1574466819758628864, 1573454168945197069, 1425211142654382083, 1573774015491088384, 1573014895347478528, 1574539202515324928, 1573168244311334912, 1584449817035554819, 1574518151865241600, 1574523574672498688, 1573069077534441473, 1572677837353799680, 1574213360048115713, 1574406200405303296, 1573663225086111744, 1572764123150319617, 1574554931838664705, 1573178149147357184, 1574383636568121344, 1573697002948337664, 1574442838036983808, 1574614734145343489, 1574614728407912448, 1573231154747961345, 1574197383558471682, 1487321835054190593, 1574415342277107712, 1573082597134999552, 1574551798253518848, 1572898065341628416, 1572694012297097216, 1574527812270428161, 1574391898860847104, 1574351230981509125, 1574594837298696192, 1572999193584873472, 1573703305284689920, 1572569302380990467, 1573395056643506184, 1573342055043977216, 1572798605752422400, 1574401240062373890, 1572862388365365250, 1574325615490367488, 1573842654223388672, 1573348919945437188, 1572648444573134849, 1572695451224403970, 1574572625443319808, 1574307803170476032, 1572672224548769794, 1574494354655576064, 1574697070232891393, 1572601015152836608, 1574684281351598080, 1574540725798084608, 1574386414657339393, 1574615492412964865, 1573158602570756096, 1574487090225881088, 1574365322546925570, 1572980818892693509, 1573389881921118208, 1525629241446084608, 1574639277694148616, 1572632429298589697, 1140541718049067008, 1574557401684250624, 1574396779453329408, 1573771049967423488, 1584210146741329920, 1573312315021152261, 1574286631493779456, 1574477905597329408, 1520342663375224833, 1574455302652850176, 1574700545285459968, 1574421115728179202, 1573609542809550848, 1573514694631227398, 194508377, 1574297372238049280, 1573000083419058176, 1523672543051550722, 1574634594653306881, 1574634565322215425, 1574595212797566976, 1574543026797498369, 1574543061618610176, 1584391290682327040, 16998240, 1574668286947893248, 1573655193132171264, 1574445205692256256, 1574547439016587264, 1572790134378201089, 1572790362732896259, 1560525950567186432, 1574433681103802368, 1574644585304797185, 1572935227680657410, 1574462761014214656, 1574523674233040896, 1572777818290671616, 1573378506037161985, 1573848921469853696, 1389261880359677955, 1572706549637976064, 1574458151188910080, 1574554233080520704, 1572990241048526850, 1574628336076103680, 1574385130516361216, 1574638920234827776, 1574638873606356992, 1573602080841158658, 1574699698468048896, 1574612011870461952, 1573961793294061568, 1574418342408224769, 1574691099519885313, 1572850243439239168, 1573699511318290432, 1573424540444725248, 1573423420246700032, 1574542230966046721, 1573419881055281161, 1574285546884845568, 1574598908738555906, 2967947553, 1572958475768197123, 1574687900234813440, 1574456127559200768, 1574386275461001216, 1574585405164306432, 1573011014089867264, 1574653504337367040, 1058529532288868357, 1574314641597276161, 1574652079523495937, 1574633656030666752, 1573705365568786440, 1574661154928209920, 1574451453187366914, 1574306867127668738, 1574306382991757313, 1572756814114197504, 1574639827613790209, 1572986834531262466, 1572986806517129216, 1574598935083360256, 1574428823558684673, 1574355810041593858, 1574445480482074624, 1574579010222161920, 1572674285373882368, 1574438074934665225, 1572742080119840768, 1574689700299694081, 1573884969377677312, 1574307265309708288, 1574693909694816256, 1572610434888503299, 1574459860208345088, 1574505999892766720, 1573003464795426816, 1574430285571461121, 1574430323416633345, 1573866302850023429, 1573864266414919681, 1572834152499535872, 1573064154298322944, 1573126282657005568, 1574641900354932736, 1573109043765432320, 1574536044040445954, 1574362428951138304, 1574535895050436609, 1573634143678009344, 1574324710719901697, 1574324621985255424, 1574477052362620928, 1574477065637724160, 31143287, 1573605281136877571, 1574409319004917760, 1573777848296681472, 1574548780690866176, 1574658176028676098, 1574561433152430080, 1574433335077924864, 1574433319353458690, 1573102201962377217, 1574035557105422337, 1574431870301143040, 1574152274892374016, 1574549467021262848, 1574392908601757696, 1574557848029507584, 1584254122257223680, 1574296605259603968, 1574295833084063744, 1573196191986130946, 1574239362526498816, 1574292318370246656, 1574655191445831681, 1573612395167027200, 1573611513809899520, 1574631732044668929, 1574225694485250050, 1574226607929106433, 1574634163009122305, 1574600384235986944, 1572784742159683584, 1572960900755386369, 1573851149484040195, 1574217320872169472, 1574484018984153088, 1573781738790486016, 1573002213026308098, 1573002148258123776, 1573001456436715520, 1573013777003728896, 1573013419040866305, 1574649508667207680, 1574314068164325381, 1574395761269166080, 1574594706108866560, 1573883076517789699, 1574458813247557634, 1574596551443611648, 1574224758253965312, 1574637117010898944, 1572706936659005440, 1574533886175940608, 1573426069855690762, 1578120059469398043, 1572784760740450304, 1574520400431947776, 1573720692960374784, 1574481618449973253, 1574425653847261186, 1525819515283689477, 1574512106887520256, 1574391401823211520, 1574664062772051969, 1573321459841536002, 1572963245014810626, 1574458880418992128, 1574320055076417536, 1574526287347351553, 1574647670169563136, 1574661207055020032, 1573801123047084034, 1573802320017891328, 1574649653081309187, 1574640558336720896, 1336509953411076098, 1574552284067147776, 1574670822194946050, 1574506571287400448, 1574585149957677057, 1574645063195320320, 1572593434720104449, 1573354179036209163, 1574493218347294720, 1573354411333947392, 1572715661243035648, 1574700606899781632, 1573889422189219841, 1574409258581442560, 1574562254397136896, 1573451873037832192, 1574386274953461761, 1574500054617845761, 1574595687282376704, 1573395200394678272, 1572836086505934853, 1574629811947180032, 611078891, 1575966397661855748, 1574638245299703809, 1574299532640149505, 1516591155445649409, 1574581421750235136, 577016706, 1573167590180270080, 1574632734420795397, 1573560265999720448, 1573073103215013888, 1574484466180816896, 1574589427556716544, 1573105674036224000, 1574480990189166592, 1574480026396811264, 1572701448395141120, 1573987554927341570, 1574601981091381250, 1572829859092787201, 1573837578524033026, 1502107617681760257, 1573121274439925761, 1574360782707515392, 1574360811069317122, 1573046530277519360, 1574455781738487811, 1574455693997842432, 1573459877271322624, 1573765729630887936, 1574066069475446784, 1481141621332844546, 1574230278289367040, 1573673024959614976, 1572724337718665216, 1574119151320190976, 1573733976623267844, 1574353250924437504, 1572940025167331328, 1572940369628897280, 1572866212362846211, 1467539520438607872, 1481086564491014144, 1572792229185593344, 1573393357539536897, 1572587008651845632, 1572914924631867394, 1572966686709653505, 1573571743767298048, 1583969129832251393, 922141734250967049, 1573447686811836416, 1573122197312282624, 1573025816501686272, 1573107667664773121, 1573034544965464064, 1573020753557012480, 1574434912316563456, 1574466010975211520, 1573102629257105410, 1574360416209502212, 1574406916213596161, 1572817738485370881, 1572936319881580544, 1574433852260392962, 1574286440355151872, 1573036260687433728, 1573036180135768064, 1574461374990028800, 1574461256039559169, 1572567170474803205, 1573999533033652224, 221882269, 1574357817242185728, 1573443885769969664, 1574223950783315968, 1574394826023264256, 1573142080779472898, 1574462461259833344, 1574409995596472322, 1572953851753566209, 1574217909156515840, 1574218561752793090, 1574341755117645824, 1573517357519339520, 1574247744478531584, 1573709762448850944, 1573023078329643008, 1574449589603602433, 1572705998347079681, 1573775526086733824, 1574469151388999680, 1583882608727007232, 1574376524958113792, 1574461150686695424, 1573729929593618432, 1574407940676931585, 1574346081399234560, 1573730308876169216, 1573461807481716737, 1572922584248614912, 1572813327176470532, 1573701204097368064, 1574297797834158081, 1087494820438990849, 1574200379243659264, 1574288444989140992, 1573545519086858241, 1574426406561275904, 1572965418536673283, 1573309320665518081, 1573229731872329728, 1573112920464302082, 1573798969360011264, 1573798556972072961, 1573400688109178881, 1574363649719664640, 1574361467264307201, 1573188902932062208, 1574405886168420352, 1572992963739021319, 1572865327805132802, 1573456793304330240, 1573455648008065025, 1574401824970645506, 1344086005515767808, 1566197302611566592, 1573435414391664640, 1573434520472555520, 1574370716342165504, 871481393930436613, 1573429818196365312, 1572939335007195138, 1574414281806073856, 1573391325268828160, 1572975286253391874, 1573938692426649600, 1573253641678778368, 1574432654724075520, 1572850131564744705, 1574307919755366401, 1572785445469319170, 1572785048864313344, 1572928557470580736, 1572590584023625729, 1574590024292925440, 1574590216463319040, 1574585423883808769, 1574684482518470658, 1574682300679213057, 1583312614708416515, 1574372495242579969, 1574372262727163905, 1574538833407844352, 1574358428897533952, 1574509887509315584, 1574517260198490112, 1572967470021095424, 1043509248997646338, 1574512098817679360, 1574676335137501184, 1573232817521438725, 1574574184058920960, 1574705439828193282, 1572809981346615296, 1574608161176051713, 1572808065853755394, 1574661352160784386, 1574571670454472704, 1574571767103832064, 1573151014630277121, 1574553538100805633, 1573416685042012161, 1574653260547461120, 1573079492712710145, 1574493409770754049, 1574569180765904897, 1572869546964582401, 1572869447416782848, 1574627154817470466, 1572907369339953152, 1572722015072448512, 331364689, 1574352853375881217, 1574384587765321729, 1574384513844924417, 1572980667482525697, 1574354808030793728, 1574661099835662336, 1574501529565859840, 1574359480699355136, 1572738769937395712, 1572738571777511425, 1574366626107260928, 1573155157759492096, 1573155020224495616, 1574664110306127875, 1574565591033454592, 1574558336200351745, 1573170736239636480, 1573242897562243072, 1573241859199025152, 1572982507251040257, 1574447408938774528, 1583524161938415616, 1573728318649946112, 1573131067535785985, 1573130703465631744, 1574693334504775680, 1573131755682377729, 1574682220933296128, 1574419956963618816, 1574433792592224258, 1574714052613328897, 1574713799898451969, 1573247096886820864, 1574690390623408130, 1573363013192601605, 1573366691685277696, 1573813982737342464, 1573813946380914689, 1572847579838427137, 1574530562076815362, 1574511949249118208, 1574323850049122304, 1574557994477813760, 1574323643391148032, 1572794087073525762, 1574426129561051137, 1574426189413785600, 1573201095043579904, 1574549525003632640, 1574549488118923265, 1574537239530713090, 1572860787021864960, 1574319361585606656, 1574319034866155520, 1574409768214888448, 1574604831708549121, 1574510272751886336, 1574366173335941120, 1574617215097180160, 1574518753509117952, 1574407955285348352, 1573904149351002113, 1574534664525471744, 1574437037679472645, 1574337068372664320, 1573191812516544513, 1574533016612876288, 1574461187206836224, 1572708458650308608, 1574505031801638913, 1574455494579986435, 1574563967795875840, 1574461053131362304, 1574460816409399296, 1574418408040693772, 1573182098839859200, 1572736966403436544, 1572802293996851201, 1572714115436793857, 1574474791578652672, 1573203706744832000, 1574401183111909376, 1573165193676341249, 1573762856658423808, 1573159289170325505, 1574692537818054657, 1573392565415673864, 1539003130595225600, 1574433092336394245, 1572956197833285634, 1574448674054152192, 1574287660796911616, 1574598144847126528, 1573665772252954625, 1572594823730794496, 1574631575916257280, 1574635207621152769, 1572750120457994241, 1573004793551163392, 1573883946756096000, 1573787574644396032, 1574342194269396993, 1573259634453794816, 1574393554683559938, 1574393619024211968, 1574463257674645504, 1574424038658613250, 1574512866379857920, 1573729273902268416, 1574353837674344452, 1525695433363730432, 1573847654614040584, 1573163846793134080, 1574407422461980673, 1574261014736281601, 1574260311963508736, 1574260283677474816, 1574662750537535489, 1573125032955580417, 1573125607936135168, 1505669724729978884, 1574566061071953920, 1574512030337224704, 1574641704203739136, 1573186362039095296, 1573185391338786816, 1572672514803007491, 1574361552416755712, 1573731273692291072, 1574387734738714624, 1573771175494586368, 1574405966040563712, 1574399184467525632, 1574399168961191937, 1574530537288790016, 1572871310480637956, 353846709, 1574511213278416896, 1574491167915319296, 1574415683991261184, 1574470554169397249, 1462568276416937987, 1572938418447056896, 1574622790522527744, 1572897680463757312, 1574575341607456769, 1574575316227739649, 1573812392081100801, 1574503809317236736, 1568991489652310016, 1574254615196901376, 1573157027987476481, 1573156457016541184, 1559602513409724420, 1573022944095522816, 1574436872310267909, 1573110421791608837, 1573110910105059328, 1573879832114495489, 1523903231793025024, 1572842771039236098, 1573633577266581505, 743152731465089025, 1574326346586943488, 1573212190328655874, 1574337723426516992, 1572816148030435329, 1572762536142786565, 79827238, 1572853996976746496, 1574587206634962944, 1574398139557027841, 1574653355783204865, 1574640137186603008, 1573189336405004288, 1574449350444711936, 1572902480379273217, 1573762251156115457, 1574590525620953088, 1574657531644813312, 1574602088772169729, 1574601401312739328, 1574649805355495424, 1574642365486497792, 1574435232149020672, 1572684657556324352, 1573244777084043264, 1574294596259282944, 1573095100304875520, 1574695292653297664, 1574465176728129536, 1574333296632156160, 1574432640970563585, 1572911731218653184, 1574478608076541952, 1573174735957282817, 1572917874901274625, 1574571135718785024, 1434847591926308869, 1574661665232134146, 1574388801375375365, 1574387888221224960, 1379450085147295745, 1574509415260049408, 1573563068822720512, 1574350060648742912, 1573699782975320066, 1573699817574117377, 1574412360840019977, 1574520190368620544, 1573478711768260617, 1574632633144729600, 1574446220038111240, 1574598312032108545, 1573587427431948288, 1573957780158836737, 1573962522704900096, 1574536451525693461, 1573738617108779009, 1572819840871862273, 1574531213251219456, 1573017312906694656, 1347822960, 1573591998090485760, 1574485060975480832, 1573928618128199680, 1573930956263944192, 1572792895739830272, 1573173901277937664, 1574481393144713217, 1574481428452364289, 1572658555920191488, 1573606281478545409, 1574384735610015745, 1572999399575199744, 1574279540972859393, 1574279181172895744, 1572781024274444288, 1573565436507357185, 1574330500336193536, 1574615743962157056, 1572845253505458176, 1574269245097381889, 1574268658448465920, 1574467390897004544, 1574614293794164736, 1574614226919792640, 1574309146936999936, 1574594388885663746, 1572860025277743106, 1574521444582555649, 1574391882066468865, 1573437403972644864, 1572751825446776833, 1572775661756096513, 1574578835449749504, 1574351237310337024, 1574502832665165824, 1574503121258106880, 1574320403048464384, 1574484440272711680, 1573398858394382336, 1574484465489154048, 1574365685773635585, 1572825189901279232, 1574351824899178497, 1573816441454809088, 1573198426816118785, 1574469515743592448, 1573780659671560192, 1573141601215426560, 583044260, 1572933238712340481, 1573172364300660739, 1573172092610416640, 1573146718815789057, 1574520185523871744, 1573724455209029632, 1574520014824099840, 1574688658514677765, 1572665362000523265, 1574543269476073472, 1574634497496457216, 1572772878319517696, 1574306687996993537, 1574518536038682625, 1574518594427559936, 1574584454412406784, 1574570731177791489, 1574570666023849984, 1572709380646400000, 1574619013681848322, 1573134236839645190, 1574327409117401089, 1574641985490587650, 1574453659206754304, 1573387449732145156, 1574397987240886272, 1574407731384983552, 1573655935780007937, 1573799833801920512, 1573799358684069889, 1573799559028822017, 3092358179, 1573489995704201216, 1573396754254495748, 1574351866137235456, 1572616654420602888, 1573014577578737666, 1574437112681996288, 1573108848268701696, 1574165757583585281, 1574650618387365888, 1573143760518934528, 1574600297275879424, 1574326055753523200, 1573438341927686144, 1574415492806488064, 1574251603149828096, 1574250861286797312, 1523498753604345857, 1574462354942619648, 1573419760200491009, 1574199921736982528, 1574684040136781824, 1574598121421930496, 1572568469014720513, 1574562273141850112, 1574332320126930944, 1574389353375158272, 1573342982857977856, 1574594711888998400, 1574398789963567104, 1574386874814468099, 1574386996117532673, 1573621688436396032, 1574439646267789314, 1573025012616814592, 1573121170563538946, 1574441456915214336, 1574596114602668032, 1574357760862351360, 1572911765100564481, 1572913944900997120, 1574446006984667136, 1574552373934305280, 1574401207719731201, 1573007801235886080, 1574404085536632832, 1574540517731233794, 1574403976878911488, 1573756306439434240, 1574509653454884864, 1574665481960947712, 1574665391519207424, 1572853262247952385, 1573362882426785810, 1573361082080514053, 1572796670861266945, 1574380219070582784, 1573049788727054336, 1573050070206906370, 1573486394328158208, 1574355453219598336, 1574355516968800256, 1573486610217603072, 1574563552051896320, 1572582659016085506, 1574517990087073792, 1572582267146620928, 1574633313373147136, 1574442422763134977, 1572841216538210304, 1574340648353685504, 1574438147445776403, 1572946475898015745, 1572948316840546304, 1574215410294980608, 1574543195244924928, 1574543110096359424, 1574343982926077952, 1574641172575756288, 1574641165332516864, 1572827848314081281, 1574554762292637696, 1574584645072494595, 1573179822448197632, 1573484444379275264, 1573140469072076801, 1574603158088581120, 1573446117949247488, 1573447576128573458, 1572678671940595713, 1574429283786706946, 1574413012957478912, 1573803267041247232, 1574668400626118657, 1574355728512749570, 1574643040584867841, 1572838457210474496, 1573317453941129221, 1574365523961212932, 1574701048492859392, 1574429498480553985, 1572776613900877825, 1572732111601008640, 1574344112228413441, 1574344219472564225, 1573432537204117505, 1574335780021227522, 1573036697272475648, 1573769426087837696, 1574468076849926144, 1574606893078970368, 1574621569145401345, 1574621845948538880, 1573314446310928384, 1573401285235462145, 1574376086494121986, 1574416716649889793, 1574629221057540097, 2954266143, 1574651240415232001, 1574545322889838592, 1574609416195751937, 1574609320729141248, 1574203906858459136, 1574204856788692992, 1574392504195379200, 1574392517897789440, 1574561135566946305, 1574141532084768769, 1574698781727109120, 1574698877235896320, 1574410542856347648, 1572746041484783617, 1573521715430559744, 1574532549463789569, 1560539900042264579, 1574382822017495040, 1574382815378288640, 1472724565180620800, 1574620145309593601, 1572595677859028999, 1574623574547374080, 1573019529168375809, 1574341195194859520, 1572988556586680322, 1572867836061839361, 1574536828064911360, 1574526222788591616, 1574345669422116865, 1574638990208090112, 1581242467017441281, 1574484893354012672, 1573279149690454016, 1573147969477840897, 1573147333004390402, 351573114, 1574364398851747840, 1572996963062063104, 1574414902768283649, 1574347783313711105, 1574521272255774720, 1574608466135879680, 1573161581575544834, 1573326480830242821, 1574639774002196480, 1583166815999758336, 1574660544656965632, 1574299082138714113, 1573207531182489601, 1574467643645403137, 1574314317209833472, 1574668727731486720, 1573632117690404864, 1574612460543578112, 1573119474315972609, 1574373237860880384, 1572681370769707008, 1574365094397374464, 1574418158571511809, 1574568938171559936, 1574321481072644096, 1573097629440876544, 1574414436194217984, 1574621269274034176, 1574697211749101568, 1574347158580473856, 1573785577773727744, 1574428720827273216, 1574566832924930048, 1574365023010291712, 1574423740510744578, 1573678518327595008, 1573401985327341568, 1574345335823994882, 1573251206050648066, 1572798597590286336, 1574297659770183680, 1572606501499330560, 1574490125228048384, 1573085014002380801, 1574349340612521984, 1574548155739549698, 1574547816071933952, 1574615771895910401, 1574701816335376385, 1573493035354435584, 1574600162466729986, 1573015818375688192, 1177237792646205440, 1573854110322987013, 1574524992880254976, 1573142313878294528, 1572917061730566145, 1574626229776711680, 1573480008374374400, 1574638039799767040, 1574341041628811264, 1574298156577484800, 1566354632108040192, 1574370987897810944, 1572969849256804353, 1572968716429848576, 1574704692482871296, 1574704730617442304, 1573374869198098434, 1573376263901057024, 1574052499283390464, 1573414999321882624, 1574328688409452544, 1582271594038165505, 1574474404058128384, 1574708164129591296, 1126487352652783616, 1573732718621315072, 1573732505735561216, 1574582153572417536, 1574286786850758657, 1574344833715433472, 1574401382194761728, 1574401383750856705, 1574420840023658497, 1574420921062137856, 1574426700985040896, 1574452789367173120, 1574379745390649344, 20511395, 1574455277184700417, 600387665, 1574330080733851649, 1574445177883619341, 1574457930237489152, 1574405370956886018, 1574435399119708160, 1574227031948148736, 1574227872419434496, 1574382597379018752, 1574380778221621250, 1574380524902043648, 1574335071812997125, 1574416828213776384, 1574416779576688641, 1582989652142587905, 1574433548987428864, 1574180495289909249, 87040049, 1574420132755120129, 1574420175557795841, 1574399057019011072, 1574395894245785600, 1573783517376712704, 1574325282630037505, 1574409431110291461, 1574396632250007552, 1574437763558309888, 1573721521607954432, 1574439284672647169, 1574441490545508352, 1574379978850177027, 1574356453275865088, 1287490363188551682, 1574326255486263297, 1574316878163415040, 1574369155758817280, 1574393207101984768, 1574422940149420033, 1574462725656551424, 1574324603581001734, 1574662171148984320, 1574662094993076224, 1574444762618531841, 1574439552034430977, 2908154225, 2446724605, 2778885286, 156743988, 1574357170014932992, 1574425046998982656, 1574104030988578816, 1574183045607084032, 1574293797613469696, 116299374, 59481018, 1574434067927310338, 1573768920615428097, 2733456115, 1574306238975778816, 1574419320876462080, 1573872557526511616, 1573772199701655553, 1453727215, 1573747583360565248, 1574304381419147264, 1574304059254747136, 1574313254322507776, 1574418729299243009, 1285652537388019712, 1068533582, 1581203202116042752, 1573126290437292036, 1574542447618949120, 162546384, 1572790833577086978, 1573045450995011584, 1574475751436722176, 1574343374835884032, 1573871695361810432, 1582414098129719296, 1573169756475211777, 1574318910404702208, 1572787459712520193, 1573086736942764032, 1574315377290448896, 1574348578587230208, 1574635550149345283, 1574444592161648642, 1574292354478923777, 1574535179296968704, 1574292564039340032, 1574536259220869120, 1574624068984516609, 1574315043776131072, 1574459738003501056, 1574431081298038784, 1573849183483666432, 1574528275359363074, 1573425873696350208, 1573425358161858560, 1573424962643595266, 1574578571388993536, 280873972, 1572948662241460224, 1574638007486775297, 1573856034736820232, 1574445474677161984, 1573129945504776192, 1574463857124577280, 1573818662984753156, 1301391311896018945, 1582562127709179904, 1573721354502668288, 1574523064704200704, 1572803042285883395, 1574547413892706304, 1574300431701856256, 1574360763895975936, 1574459306296344576, 1572780896360583168, 1572644852273410048, 1573537360629075970, 1572808289918013440, 1573337417121427456, 1572685711261564928, 1574233253384318976, 1574231244052738050, 1574265065448284160, 1572981418321649665, 1572949584531558403, 1574177906401898496, 1573005788804587520, 1574380020847775745, 1573377032582737922, 1573744603731136512, 1574445295060267008, 1573048668881846273, 1574454388357099520, 1573090781409091584, 1574342246216138752, 1572894312085716993, 1574222370515976193, 1455450695352655874, 1574462043201368065, 1573189128631373824, 1018507369687408640, 1572851793188585473, 1572786830189240326, 1573795170398658560, 1574467834599522305, 1573762671425777664, 1572635600704118785, 1574309571942031360, 1573646444438773760, 1573118596103798784, 1572579389141028871, 1573327639003430912, 1573328339346956288, 1573510578601340928, 1573346324053106688, 1573343109089742851, 1573209486084345856, 1466894253620178946, 1272345348, 1573016142121091073, 1573018297859133440, 1573555580962500609, 1572737255411941376, 1572590896582901760, 1573300858548207616, 286340232, 25908661, 1572619689108602882, 1573697209627213824, 1573061978662539264, 1573154392521703429, 1573153416632684544, 1572920076223025154, 1573462156426633216, 1573221928357109760, 1573221141724172289, 1573221829161799683, 1573166157720260608, 1572585095483260929, 1208486416436600838, 1572856948512681984, 1545782386759278592, 1572989613827768320, 1572786134748303360, 1572942603804643332, 123538249, 1573162377863868416, 1573161481868574721, 1574444327098413056, 1574094705159467008, 1574437149776060425, 1573511828839477250, 1574343353977556992, 1574343457711476736, 1574343519522951168, 1572778816170500099, 1572773790886825985, 1574332424762163200, 1574372909165867009, 1574395160108367873, 1470844215341027333, 1475344465095106563, 1582346964871659521, 1574252350273105920, 1573394186082332677, 1574433466824826884, 1573228349220352001, 1573941745053990912, 1573650003398041600, 1573650499144159232, 1574242050173988865, 1572817585309364224, 1574669827670970368, 1574560002798678016, 1572970928325431298, 1574355803783712768, 1572985585165561857, 1572984854916255744, 1573647866899628032, 1573823442318938112, 1573647828265467904, 1574446549970874370, 1574563833779130368, 1574705874903310338, 1573728243861037056, 1573828652147609601, 1574638147631468544, 1574638360936607745, 1534183932228419587, 1574455902232801280, 1574348441504948224, 1574451303073210368, 1574663677818851328, 1574652182892519424, 1574655069403742208, 1574235842687963137, 1574690686875541504, 1574690647755595776, 1574628632374517762, 1572977759428972545, 1574293024599052289, 1573596667257180160, 1572613100318363648, 1574384168938504193, 1573047395935719424, 1574342064367890432, 1574342048450195456, 1240306531167539201, 1574266168285986818, 1574266202217918464, 1574653678816006144, 1574543837963223042, 1574510452767281152, 1574294338351566848, 1573676939537133568, 1574313474536394752, 1573015637802119168, 1574691967404941312, 1574587117141131265, 1574315575811092480, 1573467993824460800, 1574341719180464128, 1574649452215693313, 1573746249018515464, 1572619858344349697, 1574286269123039232, 1573221093476749312, 1574591389253320705, 1574679877575659521, 1574679899885174786, 1574680399972016130, 1574648186504769536, 1574682188162863104, 1574538775161581568, 1573183926465867776, 1574525475656937472, 1574691021807845376, 1574164101495865344, 1573170906091823110, 1573660963366408193, 1574441464368869376, 1574522152535007233, 1574580512009568256, 1525781432593182720, 1574299905497395201, 1341260711368921089, 1574343604868632576, 1574513259532558342, 1574692017334263809, 1574692010988281856, 1573860847654342656, 1574412334302343169, 1573178321457717248, 1574656701227495425, 1574536891248291840, 1574707607729676289, 1574544844017451008, 1574617890518888448, 1574449975089541125, 1574326376068710406, 1574475909440196609, 1574362757637369857, 1574294286824198144, 1574294015729487873, 1574527219111960576, 1574526893486792705, 1573144243614326784, 1573529105488056320, 1574652194561069056, 1574651869615386624, 1573008370352951296, 1573008752449847302, 1574528814163447809, 1574528929364594688, 1572972968434880519, 1573148037173477376, 1574348555375939584, 1574703403468398593, 1573204827370590209, 1573204992676491265, 1574393606236151813, 1573059023158800384, 1574561401707732993, 1574359678607204353, 1572620512911831042, 1574331157482569728, 1574657452326670336, 1573737688657584133, 1574425160228438016, 1574524099694850048, 1574524381912797184, 1573711104991457280, 1582182412477501450, 1572918766899728385, 1574610737406029824, 1573100916974419969, 1574487987525627905, 1574570899079995393, 1572809680644341760, 1572773717037699072, 1574318005252546560, 1574596102774722560, 1573430119506808832, 1574542913182105600, 1574487081715658752, 1574320016371355648, 1572584016506925063, 1574411663335620609, 1572995406807834625, 1574464182799724546, 1574697802541969409, 1573553883477348353, 2966486873, 1573785222834900992, 1525683259128320000, 1572731482141229056, 1572729890608390149, 1574674442051260417, 1574299189194158080, 1523918647189774336, 1574668338961080321, 1574373987689574403, 1572824335798403073, 1572858639274352640, 1574452213807620096, 1573158821895503874, 1574594647996870656, 1574175138555523074, 1574682480996536321, 1574680829397291008, 1573104273898237952, 1574487868734480384, 1574487942801723392, 1574382439300202496, 1574382317292126210, 1497140189273239552, 1574537547824648192, 1574537375165730816, 1572870215964434433, 1573604828487749633, 1574700804446990336, 1573190411954581504, 1573682746383564801, 1574408810621710336, 1574654164193640448, 1573106953131532289, 1574480012861792256, 1573439791521320968, 1574346997753970688, 1573524394382872576, 1574610788626464768, 1574562367190364160, 1574647206526607360, 1574647650858958848, 1574413483189600257, 1572803695712309249, 1572863494902276096, 1574542341066850304, 1574407935715053571, 1573062086858461184, 1066130896120623104, 1573496831421878272, 1573705282093711360, 1574459623276310528, 1574471643920883712, 1409159596267216901, 1574282344521150464, 1573051206607544325, 1574302314227040256, 1574302624257437696, 1574302320648589312, 1525102164020183040, 1574328043354861569, 1523795631415992320, 1574312335115579392, 1574658229124337665, 1574419108959227904, 1573844231960944640, 1574692858413518849, 1574562496945717249, 1574470403841413120, 1574280053440974849, 1573713948771516417, 1572896573759328256, 1574684532904579074, 1525633718747942912, 1574683287934889984, 1574498357518614528, 1574583376987947008, 1573469710795972609, 1573048496537862144, 1573049658305552384, 1573768139879620608, 1573768040944381953, 1574644969008078848, 1574560679276576768, 1572781549925257216, 1574390296288251904, 1447950208906706944, 1573254819737108480, 1573255476930056194, 1572909339425349632, 1574580605366415360, 1574696443964596224, 1572783176849948673, 1574500566407184384, 1574502950457659392, 1574147862950453248, 1574598340116783104, 1573377960207609856, 1573722488055267328, 1572834893511655426, 1573412013476397063, 1573410408420896768, 1574382255933251585, 1574407488006672386, 1574407518566031361, 1574545585490653184, 1573087779960987648, 1572808670437871618, 1573766677174530049, 1574518837734694927, 1572751385430720512, 1574462004479131648, 1573235803991711745, 1573233939657134080, 1572799917181239297, 346703886, 1574535006692773888, 1573404443139538944, 1574473088653107200, 1574625118373875712, 1574188282493435905, 1572596004528201729, 1574494089038307328, 1573100024325722117, 1566824796255559680, 1574452773604581376, 1574585969889583104, 1573463997633921028, 1574453431611592706, 1574444548163784704, 1574685310042378242, 1574425612667977728, 1573114729077571584, 1572980067407257600, 1572980310249127936, 1574595545834094592, 1574366938947817472, 1574486140287340544, 1572835814307991552, 1574629166913556480, 1572862460327239680, 1574298797680705536, 1574640351784017923, 1573168942838796290, 1574325627846807552, 1572875888416665606, 1574576473130045441, 1574712862395994112, 1572963443266949122, 1579405138384617474, 1572812366567571457, 1572812415561240576, 1573222016609824768, 1574603722650710017, 1574490724791308289, 1574468190234505216, 1573117832694333440, 1573117716093108228, 1574358487886614528, 1574423425010892800, 1573248919420940289, 1574384719646449664, 1572944199082975234, 1574545039774322688, 1573202788980772864, 1572899407938592770, 1574350526988242944, 1574404068105392128, 1574326272087707648, 1574642400470872064, 1574630689244581888, 1574391720347062272, 1574510429346271232, 1574366090196824065, 1574366336029163520, 1574655448980271105, 1574490052150763520, 1574583732413300736, 1573172873153630209, 1574695160633360384, 1573715938586656768, 1573715347164667905, 1573388370222657536, 1574647101459292160, 1573743055496445953, 1574403485675950081, 1574461630552846336, 1574489684943994881, 1574378931771543552, 1574378408578285569, 1574600945689927688, 1574660167500644352, 1574289190451236865, 1574588282784034816, 1574018633772453888, 1574478734157316096, 1574613276566048768, 1572735221317136386, 1573526961845985280, 1574618225333383169, 1573007494221561856, 1574412515685322752, 1574412627882938368, 1574558912681951232, 1574326992446853121, 1574567725258575873, 1574382130171617281, 1574483396213948416, 1574519408365826050, 1574519475252375552, 1574538104597520384, 1573038796224204800, 1573849915721076737, 1574563145938800640, 1573863568952655873, 1574636265441755136, 1572875007893839874, 1573765665973903365, 1573400494805950464, 1574580084043706369, 1572814128917643264, 1573748122119204864, 1573164094114660359, 1574491271485624320, 1574110654201761792, 1573225845493477376, 1574429741482115078, 1574429733299040256, 1574637453675495424, 1574344556107005953, 1574579746943311872, 1573045172937838592, 1573189626675617793, 1573189631587360770, 1573815201752760320, 1573815500148133888, 1574662959103549441, 1574399156478943233, 1573146442188746752, 1574365879784992768, 1574533087945314305, 1572929873655779329, 1573741891371139074, 1574474958826504192, 1574474923304591361, 1573253396588822528, 1573771603783065603, 1574421144936906752, 1572787206712086528, 1574515285754667008, 1574420004732162053, 1574352032181657601, 1573522450846863360, 1581825596832751616, 1574620108000985089, 1574486087086448640, 1574459297127600129, 1574429920012345344, 1574587879208075265, 1574588139741773824, 1572561062456872960, 1574506587984523264, 1574517138479407107, 1574383433446400000, 1574517105528971265, 1574360398824099840, 1573598983166926849, 1574450013060857856, 1574472778149167104, 1574655157832646656, 1574496802904363008, 1573700679469715456, 1574219349002694656, 1574061857102446592, 1574575912846168064, 1574215302468206592, 1574689286141595648, 1574316510117761024, 1573556617484062721, 1573557908935057408, 1574606493063999489, 1573358389941325833, 1573983916075032576, 1525727474570735618, 1574416978646732801, 1574638536871251968, 1574638614268751872, 1574479993945456640, 1572585794350780417, 1574352762803916800, 1574415836500008960, 1574490337543802880, 1574490414123466753, 1574386608983666689, 1574277083131686912, 1574374759361486848, 1574387623627747333, 1574551397265076224, 1574374510647615488, 1574458749955485696, 1574398321330106368, 1572567908626370563, 1573157851371126784, 1573121468338098176, 1573624049682755586, 1574650452972802049, 1574369418771329026, 1574628909538164736, 1574348053913522179, 1573141801602494464, 1574377788744036352, 1572930866267189254, 1574504983034093568, 1573806327675199496, 1573707929693261829, 1573707221426282496, 1523137066783100928, 1574371427444133889, 1574360671021854720, 1574390653081251841, 1574501888816345089, 1574428754297835521, 1574445152784904199, 1574373274250887170, 1574532931929788416, 1574572540064038913, 1574551707811356672, 1574454421500854277, 1574301626764263425, 1574667534917595137, 1574347458678820866, 1574182412200062977, 1574587655962370048, 1574587616775016448, 1574394520698961920, 1573754444218499073, 1574364970208600069, 1574367704256901121, 1574339197703311360, 1574352372834349057, 1574340020785520641, 1572591325106835463, 1574390091786899456, 1574350068601143296, 122619630, 1572624729768620032, 1574363539367948289, 1572623970943537152, 1574395894471872512, 1572621818518994944, 1574338581945929729, 1574338611360976896, 1574403027556917250, 1574389142481502209, 1574396213323247616, 1572602806242009089, 1572598880596021250, 1574347703194001408, 1574359606486134792, 1574366691660042240, 1572583040874074112, 1572696991595130880, 1574385092046487552, 1574335296707395584, 1572653516321345536, 1574400935522344960, 1574336352925065217, 1574336800264376320, 1572565006646120448, 1572565200733376513, 1574398145621942272, 1574363477153484801, 1574363403086594048, 1572631769437933568, 1572630121357672448, 1572627852402765827, 1574398666378711040, 1574401956499828737, 1574374208599035904, 1574402685675409410, 1574389356756094977, 1574341680416714753, 1574334937997537280, 1574384444458139648, 1574364851191033858, 1574365260370219010, 1574385559434592257, 1574381370859585536, 1574332718338523136, 1574354024383401984, 1528703667674697728, 1574358919421382656, 1574401345498804225, 1574587868713865216, 1574499993678794752, 1574608527640866816, 1574488910578667521, 1574365502570631169, 1574549472889040898, 1574488932078977024, 1574458780028260352, 1574458813763420166, 1574399703760121857, 1574410372018503686, 1574387676429832192, 1574411529843154945, 1574607878794932225, 1574650845320605696, 1574375933196537856, 1574418992793473029, 1574422499776872448, 1574402203867312129, 1574714279416442882, 1574479085463818240, 1574479303697235970, 1573708357612863488, 1573099543066877952, 1574497865791328256, 1574503766568468481, 1573383724703821827, 1574432626794180608, 1574503915273408512, 1574703091680935936, 1573355934977384454, 1573354928583499791, 1572934809764392961, 1574468817970790400, 1572825867449147392, 1574532261848154112, 1525674249276514304, 1574685673952772096, 1574506392186105856, 1573149424351838208, 1574432646679011334, 1574697155516071937, 1573157913430224896, 1473722214126080017, 1574459557463457795, 1574459519119532032, 1572748718964871168, 1572747749090820098, 1573257660408901633, 1574395490640138241, 1574570855908384769, 1573334277278019584, 1573176243952189441, 1574376700997091328, 1574486793348530176, 1572828060864610306, 1574338689140137984, 1573167242224746497, 1574564072913510401, 1573790770439811072, 1573790909694586880, 1574420329295884288, 1574525111860076544, 1574413926778822656, 1574378126477762562, 1574457443182321665, 1573266412679811073, 1573264270833643520, 1573002631311917057, 1573003436290809856, 1573500392079380481, 1574473974603358208, 1573755778426900481, 1574524523726065664, 1573047756570390529, 1574192299961360385, 1574454384930750464, 1573146162218926080, 1572795503347367938, 1574649402882654209, 1574478583523049472, 1574483266719338498, 1574589754330714114, 1574555020322021377, 1574440224020566018, 1574440299698393088, 1574394802262937600, 1572839074884624386, 1574358290339098624, 1574581880539992066, 1574423068084436992, 1573046363067224065, 1573624515942387713, 1574522775888224256, 1574444548830662657, 1574474243836092416, 1574474248566906880, 1572853584718614528, 1573868205638123521, 1574474262672703488, 1574395079154077696, 1574493856481308672, 1574547070987677696, 1574420062295195648, 1574329963670446080, 1574592426744107009, 1574535085058990081, 1573211472322125824, 1573010658886819840, 1574470026991931392, 1574540993730252800, 1573340684756848647, 1574540970581929984, 1574436209316634636, 1574559248146894849, 1574645761975132160, 1573078761435967489, 1574689637611995136, 1573880990149255168, 1572744133034143744, 1574355911971201025, 1573087831404134400, 1574612860713705472, 1574306957686894592, 1574077972906065920, 1525620340176846848, 1574555840186499073, 1573217558659883009, 1573284814421389315, 1467621248805048320, 1523025295531511808, 1573041400911826944, 1574365202350452742, 1574681368310620160, 1573040864225394688, 1574334813175422978, 1573534234060652544, 1573074050796036098, 1574439550486970368, 1574351576772509696, 1573643617633472513, 1572847729058885632, 1573642773265231872, 1573644848493891584, 1574356466357927936, 1574664459108618240, 1523290895222808578, 1573303090886766592, 1574538452481507328, 1574368515552731136, 1573756758832648194, 1574532896471535616, 1525633569778974720, 1574532834282262528, 1572704084154404864, 1573418245113380864, 1572753261681348608, 1574698002232401920, 1574697708077531137, 1573515543885512704, 1573186092064456704, 1574675526777597952, 1574529313159884800, 1574289962068951041, 1573112790206017536, 1573748774333083648, 1574388503919661056, 1523127579867512833, 1573838046931611649, 1573839257038254080, 1574668809008742400, 1574503598200786944, 1572895469076107266, 1573767425752854528, 1573020514448441344, 1574381019934752768, 1574397641516929024, 1574540878370045952, 1574584608125251584, 1572915545183514624, 1572915011013709826, 1574643066488889344, 1574565802660880384, 1573142307146268675, 1574328584948264960, 1574643743852236801, 1574489763293253632, 1574427002060537856, 1574456515540692992, 1574612248382869525, 1573398085912363008, 1574608205829013505, 1574324722200117250, 1574341376057442304, 1572968432194256896, 1574437473933225984, 1572980944725852162, 1574642419282325504, 1574397093065523202, 1574404638597844992, 1573236554557857793, 1573746946359324672, 1574574970189258752, 1574694564207550464, 1573037716912349184, 1574643256473767936, 1480936427751981064, 1574369095835058176, 1574369096300625922, 1574249698830843904, 1574429422085898240, 1573787798632509440, 1574625684575907840, 1573102864993374208, 1574625705106673664, 1574313732703805440, 1574437936094814221, 1573107437842104321, 1574200688170541056, 1574552460131082240, 1293359727276109825, 1573423699079745542, 1573772162921418752, 1574530025202012161, 1574680845109329922, 1574440501209878530, 1245887637208076289, 1573257443500441600, 1573123214162948096, 1573936331717484544, 1574540410084814848, 1573665812497707008, 1572841109654745088, 1573188157134491650, 1573188100779540480, 1572714472661086208, 1574550711853285376, 1573126435052883974, 1573980525932343299, 1573601744885383168, 1573600703242588162, 1573519874609258496, 1574573694474944517, 1574420671513251840, 1573210976027299842, 1574609382884507649, 1574384052085194754, 1573259529999220737, 1573657210630000642, 1574631645550116864, 1574534300216659968, 1574711583628197888, 1574331737718460422, 1523140165304086529, 1574481356582948864, 1574425630883872769, 1574466838033240066, 1574360301486886913, 1574535919675510784, 1574535880794308608, 1574458557311111168, 1574627865764954112, 1574339429518692352, 1574627347004682240, 1574306331573780481, 1574583678889758720, 1572995814607433728, 1574678083554406401, 1574475679693156352, 1574635002759094273, 1574583647205675009, 1573480777836273680, 1573564725765361664, 1573022960717533184, 1574347037364977666, 1480945565286416389, 1574450928396009472, 1573119133658615808, 1574620794981793792, 1574620653734354944, 1574439378876669952, 1574381531971272704, 1574444030083366912, 1573083905355567104, 1574550938651541504, 1573168330642378753, 1574428787407986688, 1574395257898213376, 1573057165883064320, 1574429155982123008, 1573057642255486976, 1574572521428422657, 1572994497658572801]\n",
      "We have 999 data rows for frankturner in the follower data file.\n",
      "For frankturner we have 0 unique locations.\n",
      "For frankturner we have 0 words in the descriptions.\n",
      "Here are the five most common words:\n",
      "[]\n",
      "\n",
      "----------------------------------------\n",
      "\n"
     ]
    }
   ],
   "source": [
    "for artist in artist_handles :\n",
    "    follower_file = artist + \"_followers.txt\"\n",
    "    follower_data_file = artist + \"_follower_data.txt\"\n",
    "    \n",
    "    ids = open(\"twitter/\" + follower_file,'r').readlines()\n",
    "    \n",
    "    print(f\"We see {len(ids)-1} in your follower file for {artist}, assuming a header row.\")\n",
    "    \n",
    "    with open(\"twitter/\" + follower_data_file,'r') as infile :\n",
    "        \n",
    "        # check the headers\n",
    "        headers = infile.readline().split(\"\\t\")\n",
    "        \n",
    "        print(f\"In the follower data file ({follower_data_file}) for {artist}, we have these columns:\")\n",
    "        print(\" : \".join(headers))\n",
    "        \n",
    "        description_words = []\n",
    "        locations = set()\n",
    "        \n",
    "        \n",
    "        for idx, line in enumerate(infile.readlines()) :\n",
    "            line = line.strip(\"\\n\").split(\"\\t\")\n",
    "            \n",
    "            try : \n",
    "                locations.add(line[3])            \n",
    "                description_words.extend(words(line[6]))\n",
    "            except :\n",
    "                pass\n",
    "    \n",
    "        \n",
    "\n",
    "        print(f\"We have {idx+1} data rows for {artist} in the follower data file.\")\n",
    "\n",
    "        print(f\"For {artist} we have {len(locations)} unique locations.\")\n",
    "\n",
    "        print(f\"For {artist} we have {len(description_words)} words in the descriptions.\")\n",
    "        print(\"Here are the five most common words:\")\n",
    "        print(Counter(description_words).most_common(5))\n",
    "\n",
    "        \n",
    "        print(\"\")\n",
    "        print(\"-\"*40)\n",
    "        print(\"\")\n",
    "    "
   ]
  },
  {
   "cell_type": "markdown",
   "id": "37778a1c",
   "metadata": {},
   "source": [
    "## Checking Lyrics \n",
    "\n",
    "The output from your lyrics scrape should be stored in files located in this path from the directory:\n",
    "`/lyrics/[Artist Name]/[filename from URL]`. This code summarizes the information at a high level to help the instructor evaluate your work. "
   ]
  },
  {
   "cell_type": "code",
   "execution_count": 61,
   "id": "12f50fad",
   "metadata": {},
   "outputs": [
    {
     "data": {
      "text/plain": [
       "['frankturner', 'tompetty']"
      ]
     },
     "execution_count": 61,
     "metadata": {},
     "output_type": "execute_result"
    }
   ],
   "source": [
    "os.listdir()"
   ]
  },
  {
   "cell_type": "code",
   "execution_count": 68,
   "id": "bccac29c",
   "metadata": {},
   "outputs": [
    {
     "name": "stdout",
     "output_type": "stream",
     "text": [
      "For frankturner we have 21 files.\n",
      "For frankturner we have roughly 6643 words, 1316 are unique.\n",
      "For tompetty we have 21 files.\n",
      "For tompetty we have roughly 4143 words, 605 are unique.\n"
     ]
    }
   ],
   "source": [
    "artist_folders = os.listdir()\n",
    "artist_folders = [f for f in artist_folders if os.path.isdir(f)]\n",
    "\n",
    "for artist in artist_folders : \n",
    "    artist_files = os.listdir(artist)\n",
    "    artist_files = [f for f in artist_files if 'txt' in f or 'csv' in f or 'tsv' in f]\n",
    "\n",
    "    print(f\"For {artist} we have {len(artist_files)} files.\")\n",
    "\n",
    "    artist_words = []\n",
    "\n",
    "    for f_name in artist_files : \n",
    "        with open(artist + \"/\" + f_name) as infile : \n",
    "            artist_words.extend(words(infile.read()))\n",
    "\n",
    "            \n",
    "    print(f\"For {artist} we have roughly {len(artist_words)} words, {len(set(artist_words))} are unique.\")\n"
   ]
  },
  {
   "cell_type": "markdown",
   "id": "d1fc13b6",
   "metadata": {},
   "source": [
    "Looks like all files are in the folder they should be in!"
   ]
  },
  {
   "cell_type": "code",
   "execution_count": null,
   "id": "bb69804f",
   "metadata": {},
   "outputs": [],
   "source": []
  }
 ],
 "metadata": {
  "kernelspec": {
   "display_name": "Python 3 (ipykernel)",
   "language": "python",
   "name": "python3"
  },
  "language_info": {
   "codemirror_mode": {
    "name": "ipython",
    "version": 3
   },
   "file_extension": ".py",
   "mimetype": "text/x-python",
   "name": "python",
   "nbconvert_exporter": "python",
   "pygments_lexer": "ipython3",
   "version": "3.9.1"
  }
 },
 "nbformat": 4,
 "nbformat_minor": 5
}
